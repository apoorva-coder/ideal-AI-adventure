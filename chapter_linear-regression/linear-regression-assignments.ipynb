{
  "cells": [
    {
      "cell_type": "markdown",
      "metadata": {
        "id": "view-in-github",
        "colab_type": "text"
      },
      "source": [
        "<a href=\"https://colab.research.google.com/github/apoorva-coder/ideal-AI-adventure/blob/explore-dl/chapter_linear-regression/linear-regression-assignments.ipynb\" target=\"_parent\"><img src=\"https://colab.research.google.com/assets/colab-badge.svg\" alt=\"Open In Colab\"/></a>"
      ]
    },
    {
      "cell_type": "markdown",
      "id": "f19b198f",
      "metadata": {
        "id": "f19b198f"
      },
      "source": [
        "The following additional libraries are needed to run this\n",
        "notebook. Note that running on Colab is experimental, please report a Github\n",
        "issue if you have any problem."
      ]
    },
    {
      "cell_type": "code",
      "execution_count": 2,
      "id": "91b10761",
      "metadata": {
        "colab": {
          "base_uri": "https://localhost:8080/"
        },
        "id": "91b10761",
        "outputId": "dceb7c52-918f-4197-cf38-1c8eb0845729"
      },
      "outputs": [
        {
          "output_type": "stream",
          "name": "stdout",
          "text": [
            "Looking in indexes: https://pypi.org/simple, https://us-python.pkg.dev/colab-wheels/public/simple/\n",
            "Collecting d2l==1.0.0-beta0\n",
            "  Downloading d2l-1.0.0b0-py3-none-any.whl (141 kB)\n",
            "\u001b[2K     \u001b[90m━━━━━━━━━━━━━━━━━━━━━━━━━━━━━━━━━━━━━━━\u001b[0m \u001b[32m141.6/141.6 KB\u001b[0m \u001b[31m5.8 MB/s\u001b[0m eta \u001b[36m0:00:00\u001b[0m\n",
            "\u001b[?25hCollecting gym==0.21.0\n",
            "  Downloading gym-0.21.0.tar.gz (1.5 MB)\n",
            "\u001b[2K     \u001b[90m━━━━━━━━━━━━━━━━━━━━━━━━━━━━━━━━━━━━━━━━\u001b[0m \u001b[32m1.5/1.5 MB\u001b[0m \u001b[31m35.5 MB/s\u001b[0m eta \u001b[36m0:00:00\u001b[0m\n",
            "\u001b[?25h  Preparing metadata (setup.py) ... \u001b[?25l\u001b[?25hdone\n",
            "Collecting jupyter\n",
            "  Downloading jupyter-1.0.0-py2.py3-none-any.whl (2.7 kB)\n",
            "Requirement already satisfied: scipy in /usr/local/lib/python3.8/dist-packages (from d2l==1.0.0-beta0) (1.7.3)\n",
            "Requirement already satisfied: pandas in /usr/local/lib/python3.8/dist-packages (from d2l==1.0.0-beta0) (1.3.5)\n",
            "Collecting matplotlib-inline\n",
            "  Downloading matplotlib_inline-0.1.6-py3-none-any.whl (9.4 kB)\n",
            "Requirement already satisfied: matplotlib in /usr/local/lib/python3.8/dist-packages (from d2l==1.0.0-beta0) (3.2.2)\n",
            "Collecting gpytorch\n",
            "  Downloading gpytorch-1.9.1-py3-none-any.whl (250 kB)\n",
            "\u001b[2K     \u001b[90m━━━━━━━━━━━━━━━━━━━━━━━━━━━━━━━━━━━━━━\u001b[0m \u001b[32m250.9/250.9 KB\u001b[0m \u001b[31m15.0 MB/s\u001b[0m eta \u001b[36m0:00:00\u001b[0m\n",
            "\u001b[?25hRequirement already satisfied: numpy in /usr/local/lib/python3.8/dist-packages (from d2l==1.0.0-beta0) (1.21.6)\n",
            "Requirement already satisfied: requests in /usr/local/lib/python3.8/dist-packages (from d2l==1.0.0-beta0) (2.25.1)\n",
            "Requirement already satisfied: cloudpickle>=1.2.0 in /usr/local/lib/python3.8/dist-packages (from gym==0.21.0->d2l==1.0.0-beta0) (2.2.0)\n",
            "Collecting linear-operator>=0.2.0\n",
            "  Downloading linear_operator-0.3.0-py3-none-any.whl (155 kB)\n",
            "\u001b[2K     \u001b[90m━━━━━━━━━━━━━━━━━━━━━━━━━━━━━━━━━━━━━━\u001b[0m \u001b[32m155.6/155.6 KB\u001b[0m \u001b[31m19.5 MB/s\u001b[0m eta \u001b[36m0:00:00\u001b[0m\n",
            "\u001b[?25hRequirement already satisfied: scikit-learn in /usr/local/lib/python3.8/dist-packages (from gpytorch->d2l==1.0.0-beta0) (1.0.2)\n",
            "Collecting qtconsole\n",
            "  Downloading qtconsole-5.4.0-py3-none-any.whl (121 kB)\n",
            "\u001b[2K     \u001b[90m━━━━━━━━━━━━━━━━━━━━━━━━━━━━━━━━━━━━━━\u001b[0m \u001b[32m121.0/121.0 KB\u001b[0m \u001b[31m14.3 MB/s\u001b[0m eta \u001b[36m0:00:00\u001b[0m\n",
            "\u001b[?25hRequirement already satisfied: nbconvert in /usr/local/lib/python3.8/dist-packages (from jupyter->d2l==1.0.0-beta0) (5.6.1)\n",
            "Requirement already satisfied: jupyter-console in /usr/local/lib/python3.8/dist-packages (from jupyter->d2l==1.0.0-beta0) (6.1.0)\n",
            "Requirement already satisfied: notebook in /usr/local/lib/python3.8/dist-packages (from jupyter->d2l==1.0.0-beta0) (5.7.16)\n",
            "Requirement already satisfied: ipywidgets in /usr/local/lib/python3.8/dist-packages (from jupyter->d2l==1.0.0-beta0) (7.7.1)\n",
            "Requirement already satisfied: ipykernel in /usr/local/lib/python3.8/dist-packages (from jupyter->d2l==1.0.0-beta0) (5.3.4)\n",
            "Requirement already satisfied: python-dateutil>=2.1 in /usr/local/lib/python3.8/dist-packages (from matplotlib->d2l==1.0.0-beta0) (2.8.2)\n",
            "Requirement already satisfied: pyparsing!=2.0.4,!=2.1.2,!=2.1.6,>=2.0.1 in /usr/local/lib/python3.8/dist-packages (from matplotlib->d2l==1.0.0-beta0) (3.0.9)\n",
            "Requirement already satisfied: cycler>=0.10 in /usr/local/lib/python3.8/dist-packages (from matplotlib->d2l==1.0.0-beta0) (0.11.0)\n",
            "Requirement already satisfied: kiwisolver>=1.0.1 in /usr/local/lib/python3.8/dist-packages (from matplotlib->d2l==1.0.0-beta0) (1.4.4)\n",
            "Requirement already satisfied: traitlets in /usr/local/lib/python3.8/dist-packages (from matplotlib-inline->d2l==1.0.0-beta0) (5.7.1)\n",
            "Requirement already satisfied: pytz>=2017.3 in /usr/local/lib/python3.8/dist-packages (from pandas->d2l==1.0.0-beta0) (2022.7)\n",
            "Requirement already satisfied: certifi>=2017.4.17 in /usr/local/lib/python3.8/dist-packages (from requests->d2l==1.0.0-beta0) (2022.12.7)\n",
            "Requirement already satisfied: idna<3,>=2.5 in /usr/local/lib/python3.8/dist-packages (from requests->d2l==1.0.0-beta0) (2.10)\n",
            "Requirement already satisfied: chardet<5,>=3.0.2 in /usr/local/lib/python3.8/dist-packages (from requests->d2l==1.0.0-beta0) (4.0.0)\n",
            "Requirement already satisfied: urllib3<1.27,>=1.21.1 in /usr/local/lib/python3.8/dist-packages (from requests->d2l==1.0.0-beta0) (1.24.3)\n",
            "Requirement already satisfied: torch>=1.11 in /usr/local/lib/python3.8/dist-packages (from linear-operator>=0.2.0->gpytorch->d2l==1.0.0-beta0) (1.13.0+cu116)\n",
            "Requirement already satisfied: six>=1.5 in /usr/local/lib/python3.8/dist-packages (from python-dateutil>=2.1->matplotlib->d2l==1.0.0-beta0) (1.15.0)\n",
            "Requirement already satisfied: jupyter-client in /usr/local/lib/python3.8/dist-packages (from ipykernel->jupyter->d2l==1.0.0-beta0) (6.1.12)\n",
            "Requirement already satisfied: ipython>=5.0.0 in /usr/local/lib/python3.8/dist-packages (from ipykernel->jupyter->d2l==1.0.0-beta0) (7.9.0)\n",
            "Requirement already satisfied: tornado>=4.2 in /usr/local/lib/python3.8/dist-packages (from ipykernel->jupyter->d2l==1.0.0-beta0) (6.0.4)\n",
            "Requirement already satisfied: widgetsnbextension~=3.6.0 in /usr/local/lib/python3.8/dist-packages (from ipywidgets->jupyter->d2l==1.0.0-beta0) (3.6.1)\n",
            "Requirement already satisfied: jupyterlab-widgets>=1.0.0 in /usr/local/lib/python3.8/dist-packages (from ipywidgets->jupyter->d2l==1.0.0-beta0) (3.0.5)\n",
            "Requirement already satisfied: ipython-genutils~=0.2.0 in /usr/local/lib/python3.8/dist-packages (from ipywidgets->jupyter->d2l==1.0.0-beta0) (0.2.0)\n",
            "Requirement already satisfied: prompt-toolkit!=3.0.0,!=3.0.1,<3.1.0,>=2.0.0 in /usr/local/lib/python3.8/dist-packages (from jupyter-console->jupyter->d2l==1.0.0-beta0) (2.0.10)\n",
            "Requirement already satisfied: pygments in /usr/local/lib/python3.8/dist-packages (from jupyter-console->jupyter->d2l==1.0.0-beta0) (2.6.1)\n",
            "Requirement already satisfied: pandocfilters>=1.4.1 in /usr/local/lib/python3.8/dist-packages (from nbconvert->jupyter->d2l==1.0.0-beta0) (1.5.0)\n",
            "Requirement already satisfied: jupyter-core in /usr/local/lib/python3.8/dist-packages (from nbconvert->jupyter->d2l==1.0.0-beta0) (5.1.2)\n",
            "Requirement already satisfied: jinja2>=2.4 in /usr/local/lib/python3.8/dist-packages (from nbconvert->jupyter->d2l==1.0.0-beta0) (2.11.3)\n",
            "Requirement already satisfied: entrypoints>=0.2.2 in /usr/local/lib/python3.8/dist-packages (from nbconvert->jupyter->d2l==1.0.0-beta0) (0.4)\n",
            "Requirement already satisfied: mistune<2,>=0.8.1 in /usr/local/lib/python3.8/dist-packages (from nbconvert->jupyter->d2l==1.0.0-beta0) (0.8.4)\n",
            "Requirement already satisfied: testpath in /usr/local/lib/python3.8/dist-packages (from nbconvert->jupyter->d2l==1.0.0-beta0) (0.6.0)\n",
            "Requirement already satisfied: defusedxml in /usr/local/lib/python3.8/dist-packages (from nbconvert->jupyter->d2l==1.0.0-beta0) (0.7.1)\n",
            "Requirement already satisfied: bleach in /usr/local/lib/python3.8/dist-packages (from nbconvert->jupyter->d2l==1.0.0-beta0) (5.0.1)\n",
            "Requirement already satisfied: nbformat>=4.4 in /usr/local/lib/python3.8/dist-packages (from nbconvert->jupyter->d2l==1.0.0-beta0) (5.7.1)\n",
            "Requirement already satisfied: Send2Trash in /usr/local/lib/python3.8/dist-packages (from notebook->jupyter->d2l==1.0.0-beta0) (1.8.0)\n",
            "Requirement already satisfied: pyzmq>=17 in /usr/local/lib/python3.8/dist-packages (from notebook->jupyter->d2l==1.0.0-beta0) (23.2.1)\n",
            "Requirement already satisfied: terminado>=0.8.1 in /usr/local/lib/python3.8/dist-packages (from notebook->jupyter->d2l==1.0.0-beta0) (0.13.3)\n",
            "Requirement already satisfied: prometheus-client in /usr/local/lib/python3.8/dist-packages (from notebook->jupyter->d2l==1.0.0-beta0) (0.15.0)\n",
            "Collecting qtpy>=2.0.1\n",
            "  Downloading QtPy-2.3.0-py3-none-any.whl (83 kB)\n",
            "\u001b[2K     \u001b[90m━━━━━━━━━━━━━━━━━━━━━━━━━━━━━━━━━━━━━━━━\u001b[0m \u001b[32m83.6/83.6 KB\u001b[0m \u001b[31m10.0 MB/s\u001b[0m eta \u001b[36m0:00:00\u001b[0m\n",
            "\u001b[?25hRequirement already satisfied: joblib>=0.11 in /usr/local/lib/python3.8/dist-packages (from scikit-learn->gpytorch->d2l==1.0.0-beta0) (1.2.0)\n",
            "Requirement already satisfied: threadpoolctl>=2.0.0 in /usr/local/lib/python3.8/dist-packages (from scikit-learn->gpytorch->d2l==1.0.0-beta0) (3.1.0)\n",
            "Requirement already satisfied: pexpect in /usr/local/lib/python3.8/dist-packages (from ipython>=5.0.0->ipykernel->jupyter->d2l==1.0.0-beta0) (4.8.0)\n",
            "Requirement already satisfied: backcall in /usr/local/lib/python3.8/dist-packages (from ipython>=5.0.0->ipykernel->jupyter->d2l==1.0.0-beta0) (0.2.0)\n",
            "Requirement already satisfied: pickleshare in /usr/local/lib/python3.8/dist-packages (from ipython>=5.0.0->ipykernel->jupyter->d2l==1.0.0-beta0) (0.7.5)\n",
            "Requirement already satisfied: decorator in /usr/local/lib/python3.8/dist-packages (from ipython>=5.0.0->ipykernel->jupyter->d2l==1.0.0-beta0) (4.4.2)\n",
            "Requirement already satisfied: setuptools>=18.5 in /usr/local/lib/python3.8/dist-packages (from ipython>=5.0.0->ipykernel->jupyter->d2l==1.0.0-beta0) (57.4.0)\n",
            "Collecting jedi>=0.10\n",
            "  Downloading jedi-0.18.2-py2.py3-none-any.whl (1.6 MB)\n",
            "\u001b[2K     \u001b[90m━━━━━━━━━━━━━━━━━━━━━━━━━━━━━━━━━━━━━━━━\u001b[0m \u001b[32m1.6/1.6 MB\u001b[0m \u001b[31m57.7 MB/s\u001b[0m eta \u001b[36m0:00:00\u001b[0m\n",
            "\u001b[?25hRequirement already satisfied: MarkupSafe>=0.23 in /usr/local/lib/python3.8/dist-packages (from jinja2>=2.4->nbconvert->jupyter->d2l==1.0.0-beta0) (2.0.1)\n",
            "Requirement already satisfied: platformdirs>=2.5 in /usr/local/lib/python3.8/dist-packages (from jupyter-core->nbconvert->jupyter->d2l==1.0.0-beta0) (2.6.2)\n",
            "Requirement already satisfied: fastjsonschema in /usr/local/lib/python3.8/dist-packages (from nbformat>=4.4->nbconvert->jupyter->d2l==1.0.0-beta0) (2.16.2)\n",
            "Requirement already satisfied: jsonschema>=2.6 in /usr/local/lib/python3.8/dist-packages (from nbformat>=4.4->nbconvert->jupyter->d2l==1.0.0-beta0) (4.3.3)\n",
            "Requirement already satisfied: wcwidth in /usr/local/lib/python3.8/dist-packages (from prompt-toolkit!=3.0.0,!=3.0.1,<3.1.0,>=2.0.0->jupyter-console->jupyter->d2l==1.0.0-beta0) (0.2.5)\n",
            "Requirement already satisfied: packaging in /usr/local/lib/python3.8/dist-packages (from qtpy>=2.0.1->qtconsole->jupyter->d2l==1.0.0-beta0) (21.3)\n",
            "Requirement already satisfied: ptyprocess in /usr/local/lib/python3.8/dist-packages (from terminado>=0.8.1->notebook->jupyter->d2l==1.0.0-beta0) (0.7.0)\n",
            "Requirement already satisfied: typing-extensions in /usr/local/lib/python3.8/dist-packages (from torch>=1.11->linear-operator>=0.2.0->gpytorch->d2l==1.0.0-beta0) (4.4.0)\n",
            "Requirement already satisfied: webencodings in /usr/local/lib/python3.8/dist-packages (from bleach->nbconvert->jupyter->d2l==1.0.0-beta0) (0.5.1)\n",
            "Requirement already satisfied: parso<0.9.0,>=0.8.0 in /usr/local/lib/python3.8/dist-packages (from jedi>=0.10->ipython>=5.0.0->ipykernel->jupyter->d2l==1.0.0-beta0) (0.8.3)\n",
            "Requirement already satisfied: importlib-resources>=1.4.0 in /usr/local/lib/python3.8/dist-packages (from jsonschema>=2.6->nbformat>=4.4->nbconvert->jupyter->d2l==1.0.0-beta0) (5.10.2)\n",
            "Requirement already satisfied: pyrsistent!=0.17.0,!=0.17.1,!=0.17.2,>=0.14.0 in /usr/local/lib/python3.8/dist-packages (from jsonschema>=2.6->nbformat>=4.4->nbconvert->jupyter->d2l==1.0.0-beta0) (0.19.3)\n",
            "Requirement already satisfied: attrs>=17.4.0 in /usr/local/lib/python3.8/dist-packages (from jsonschema>=2.6->nbformat>=4.4->nbconvert->jupyter->d2l==1.0.0-beta0) (22.2.0)\n",
            "Requirement already satisfied: zipp>=3.1.0 in /usr/local/lib/python3.8/dist-packages (from importlib-resources>=1.4.0->jsonschema>=2.6->nbformat>=4.4->nbconvert->jupyter->d2l==1.0.0-beta0) (3.11.0)\n",
            "Building wheels for collected packages: gym\n",
            "  Building wheel for gym (setup.py) ... \u001b[?25l\u001b[?25hdone\n",
            "  Created wheel for gym: filename=gym-0.21.0-py3-none-any.whl size=1616821 sha256=acc1c441091dea7bfeb24cad89fd9940215600659d8757af8a6461dc0365ce98\n",
            "  Stored in directory: /root/.cache/pip/wheels/27/6d/b3/a3a6e10704795c9b9000f1ab2dc480dfe7bed42f5972806e73\n",
            "Successfully built gym\n",
            "Installing collected packages: matplotlib-inline, jedi, gym, qtpy, linear-operator, gpytorch, qtconsole, jupyter, d2l\n",
            "  Attempting uninstall: gym\n",
            "    Found existing installation: gym 0.25.2\n",
            "    Uninstalling gym-0.25.2:\n",
            "      Successfully uninstalled gym-0.25.2\n",
            "Successfully installed d2l-1.0.0b0 gpytorch-1.9.1 gym-0.21.0 jedi-0.18.2 jupyter-1.0.0 linear-operator-0.3.0 matplotlib-inline-0.1.6 qtconsole-5.4.0 qtpy-2.3.0\n"
          ]
        }
      ],
      "source": [
        "!pip install d2l==1.0.0-beta0\n"
      ]
    },
    {
      "cell_type": "markdown",
      "id": "5e1380c5",
      "metadata": {
        "origin_pos": 1,
        "id": "5e1380c5"
      },
      "source": [
        "# Linear Regression Implementation from Scratch\n",
        ":label:`sec_linear_scratch`\n",
        "\n",
        "We're now ready to work through \n",
        "a fully functioning implementation \n",
        "of linear regression. \n",
        "In this section, \n",
        "(**we will implement the entire method from scratch,\n",
        "including (i) the model; (ii) the loss function;\n",
        "(iii) a minibatch stochastic gradient descent optimizer;\n",
        "and (iv) the training function \n",
        "that stitches all of these pieces together.**)\n",
        "Finally, we will run our synthetic data generator\n",
        "from :numref:`sec_synthetic-regression-data`\n",
        "and apply our model\n",
        "on the resulting dataset. \n",
        "While modern deep learning frameworks \n",
        "can automate nearly all of this work,\n",
        "implementing things from scratch is the only way\n",
        "to make sure that you really know what you are doing.\n",
        "Moreover, when it comes time to customize models,\n",
        "defining our own layers or loss functions,\n",
        "understanding how things work under the hood will prove handy.\n",
        "In this section, we will rely only \n",
        "on tensors and automatic differentiation.\n",
        "Later on, we will introduce a more concise implementation,\n",
        "taking advantage of bells and whistles of deep learning frameworks \n",
        "while retaining the structure of what follows below.\n"
      ]
    },
    {
      "cell_type": "code",
      "execution_count": 3,
      "id": "0198fb28",
      "metadata": {
        "execution": {
          "iopub.execute_input": "2022-12-14T05:41:35.617912Z",
          "iopub.status.busy": "2022-12-14T05:41:35.617636Z",
          "iopub.status.idle": "2022-12-14T05:41:37.876131Z",
          "shell.execute_reply": "2022-12-14T05:41:37.875242Z"
        },
        "origin_pos": 3,
        "tab": [
          "pytorch"
        ],
        "colab": {
          "base_uri": "https://localhost:8080/"
        },
        "id": "0198fb28",
        "outputId": "97644b01-1982-4b86-d4a2-8a3c695719a9"
      },
      "outputs": [
        {
          "output_type": "stream",
          "name": "stderr",
          "text": [
            "/usr/local/lib/python3.8/dist-packages/torch/cuda/__init__.py:497: UserWarning: Can't initialize NVML\n",
            "  warnings.warn(\"Can't initialize NVML\")\n"
          ]
        }
      ],
      "source": [
        "%matplotlib inline\n",
        "import torch\n",
        "from d2l import torch as d2l"
      ]
    },
    {
      "cell_type": "markdown",
      "id": "7e0d329f",
      "metadata": {
        "origin_pos": 6,
        "id": "7e0d329f"
      },
      "source": [
        "## Defining the Model\n",
        "\n",
        "[**Before we can begin optimizing our model's parameters**] by minibatch SGD,\n",
        "(**we need to have some parameters in the first place.**)\n",
        "In the following we initialize weights by drawing\n",
        "random numbers from a normal distribution with mean 0\n",
        "and a standard deviation of 0.01. \n",
        "The magic number 0.01 often works well in practice, \n",
        "but you can specify a different value \n",
        "through the argument `sigma`.\n",
        "Moreover we set the bias to 0.\n",
        "Note that for object-oriented design\n",
        "we add the code to the `__init__` method of a subclass of `d2l.Module` (introduced in :numref:`subsec_oo-design-models`).\n"
      ]
    },
    {
      "cell_type": "code",
      "execution_count": 4,
      "id": "c39226ad",
      "metadata": {
        "execution": {
          "iopub.execute_input": "2022-12-14T05:41:37.880367Z",
          "iopub.status.busy": "2022-12-14T05:41:37.879810Z",
          "iopub.status.idle": "2022-12-14T05:41:37.885081Z",
          "shell.execute_reply": "2022-12-14T05:41:37.884165Z"
        },
        "origin_pos": 7,
        "tab": [
          "pytorch"
        ],
        "id": "c39226ad"
      },
      "outputs": [],
      "source": [
        "class LinearRegressionScratch(d2l.Module):  #@save\n",
        "    def __init__(self, num_inputs, lr, sigma=0.01):\n",
        "        super().__init__()\n",
        "        self.save_hyperparameters()\n",
        "        self.w = torch.normal(0, sigma, (num_inputs, 1), requires_grad=True)\n",
        "        self.b = torch.zeros(1, requires_grad=True)"
      ]
    },
    {
      "cell_type": "markdown",
      "id": "b6a6be1d",
      "metadata": {
        "origin_pos": 9,
        "id": "b6a6be1d"
      },
      "source": [
        "Next, we must [**define our model,\n",
        "relating its input and parameters to its output.**]\n",
        "Using the same notation in :eqref:`eq_linreg-y-vec`,\n",
        "for our linear model we simply take the matrix-vector product\n",
        "of the input features $\\mathbf{X}$ \n",
        "and the model weights $\\mathbf{w}$,\n",
        "and add the offset $b$ to each example.\n",
        "$\\mathbf{Xw}$ is a vector and $b$ is a scalar.\n",
        "Due to the broadcasting mechanism \n",
        "(see :numref:`subsec_broadcasting`),\n",
        "when we add a vector and a scalar,\n",
        "the scalar is added to each component of the vector.\n",
        "The resulting `forward` function \n",
        "is registered as a method in the `LinearRegressionScratch` class\n",
        "via `add_to_class` (introduced in :numref:`oo-design-utilities`).\n"
      ]
    },
    {
      "cell_type": "code",
      "execution_count": 5,
      "id": "bde65490",
      "metadata": {
        "execution": {
          "iopub.execute_input": "2022-12-14T05:41:37.888503Z",
          "iopub.status.busy": "2022-12-14T05:41:37.888095Z",
          "iopub.status.idle": "2022-12-14T05:41:37.892552Z",
          "shell.execute_reply": "2022-12-14T05:41:37.891657Z"
        },
        "origin_pos": 10,
        "tab": [
          "pytorch"
        ],
        "id": "bde65490"
      },
      "outputs": [],
      "source": [
        "@d2l.add_to_class(LinearRegressionScratch)  #@save\n",
        "def forward(self, X):\n",
        "    \"\"\"The linear regression model.\"\"\"\n",
        "    return torch.matmul(X, self.w) + self.b"
      ]
    },
    {
      "cell_type": "markdown",
      "id": "e2ba89c8",
      "metadata": {
        "origin_pos": 11,
        "id": "e2ba89c8"
      },
      "source": [
        "## Defining the Loss Function\n",
        "\n",
        "Since [**updating our model requires taking\n",
        "the gradient of our loss function,**]\n",
        "we ought to (**define the loss function first.**)\n",
        "Here we use the squared loss function\n",
        "in :eqref:`eq_mse`.\n",
        "In the implementation, we need to transform the true value `y`\n",
        "into the predicted value's shape `y_hat`.\n",
        "The result returned by the following function\n",
        "will also have the same shape as `y_hat`. \n",
        "We also return the averaged loss value\n",
        "among all examples in the minibatch.\n"
      ]
    },
    {
      "cell_type": "code",
      "execution_count": 6,
      "id": "6febc46f",
      "metadata": {
        "execution": {
          "iopub.execute_input": "2022-12-14T05:41:37.895956Z",
          "iopub.status.busy": "2022-12-14T05:41:37.895555Z",
          "iopub.status.idle": "2022-12-14T05:41:37.899789Z",
          "shell.execute_reply": "2022-12-14T05:41:37.898861Z"
        },
        "origin_pos": 12,
        "tab": [
          "pytorch"
        ],
        "id": "6febc46f"
      },
      "outputs": [],
      "source": [
        "@d2l.add_to_class(LinearRegressionScratch)  #@save\n",
        "def loss(self, y_hat, y):\n",
        "    l = (y_hat - y) ** 2 / 2\n",
        "    return l.mean()"
      ]
    },
    {
      "cell_type": "markdown",
      "id": "72332448",
      "metadata": {
        "origin_pos": 14,
        "id": "72332448"
      },
      "source": [
        "## Defining the Optimization Algorithm\n",
        "\n",
        "As discussed in :numref:`sec_linear_regression`,\n",
        "linear regression has a closed-form solution.\n",
        "However, our goal here is to illustrate \n",
        "how to train more general neural networks,\n",
        "and that requires that we teach you \n",
        "how to use minibatch SGD.\n",
        "Hence we will take this opportunity\n",
        "to introduce your first working example of SGD.\n",
        "At each step, using a minibatch \n",
        "randomly drawn from our dataset,\n",
        "we estimate the gradient of the loss\n",
        "with respect to the parameters.\n",
        "Next, we update the parameters\n",
        "in the direction that may reduce the loss.\n",
        "\n",
        "The following code applies the update, \n",
        "given a set of parameters, a learning rate `lr`.\n",
        "Since our loss is computed as an average over the minibatch, \n",
        "we don't need to adjust the learning rate against the batch size. \n",
        "In later chapters we will investigate \n",
        "how learning rates should be adjusted\n",
        "for very large minibatches as they arise \n",
        "in distributed large scale learning.\n",
        "For now, we can ignore this dependency.\n"
      ]
    },
    {
      "cell_type": "markdown",
      "id": "465bd836",
      "metadata": {
        "origin_pos": 16,
        "tab": [
          "pytorch"
        ],
        "id": "465bd836"
      },
      "source": [
        "We define our `SGD` class,\n",
        "a subclass of `d2l.HyperParameters` (introduced in :numref:`oo-design-utilities`),\n",
        "to have a similar API \n",
        "as the built-in SGD optimizer.\n",
        "We update the parameters in the `step` method.\n",
        "The `zero_grad` method sets all gradients to 0,\n",
        "which must be run before a backpropagation step.\n"
      ]
    },
    {
      "cell_type": "code",
      "execution_count": 7,
      "id": "8e54a2da",
      "metadata": {
        "execution": {
          "iopub.execute_input": "2022-12-14T05:41:37.903493Z",
          "iopub.status.busy": "2022-12-14T05:41:37.902858Z",
          "iopub.status.idle": "2022-12-14T05:41:37.908352Z",
          "shell.execute_reply": "2022-12-14T05:41:37.907572Z"
        },
        "origin_pos": 18,
        "tab": [
          "pytorch"
        ],
        "id": "8e54a2da"
      },
      "outputs": [],
      "source": [
        "class SGD(d2l.HyperParameters):  #@save\n",
        "    def __init__(self, params, lr):\n",
        "        \"\"\"Minibatch stochastic gradient descent.\"\"\"\n",
        "        self.save_hyperparameters()\n",
        "\n",
        "    def step(self):\n",
        "        for param in self.params:\n",
        "            param -= self.lr * param.grad\n",
        "\n",
        "    def zero_grad(self):\n",
        "        for param in self.params:\n",
        "            if param.grad is not None:\n",
        "                param.grad.zero_()"
      ]
    },
    {
      "cell_type": "markdown",
      "id": "b9108524",
      "metadata": {
        "origin_pos": 21,
        "id": "b9108524"
      },
      "source": [
        "We next define the `configure_optimizers` method, which returns an instance of the `SGD` class.\n"
      ]
    },
    {
      "cell_type": "code",
      "execution_count": 8,
      "id": "22702565",
      "metadata": {
        "execution": {
          "iopub.execute_input": "2022-12-14T05:41:37.911984Z",
          "iopub.status.busy": "2022-12-14T05:41:37.911361Z",
          "iopub.status.idle": "2022-12-14T05:41:37.915523Z",
          "shell.execute_reply": "2022-12-14T05:41:37.914608Z"
        },
        "origin_pos": 22,
        "tab": [
          "pytorch"
        ],
        "id": "22702565"
      },
      "outputs": [],
      "source": [
        "@d2l.add_to_class(LinearRegressionScratch)  #@save\n",
        "def configure_optimizers(self):\n",
        "    return SGD([self.w, self.b], self.lr)"
      ]
    },
    {
      "cell_type": "markdown",
      "id": "dedb1e56",
      "metadata": {
        "origin_pos": 23,
        "id": "dedb1e56"
      },
      "source": [
        "## Training\n",
        "\n",
        "Now that we have all of the parts in place\n",
        "(parameters, loss function, model, and optimizer),\n",
        "we are ready to [**implement the main training loop.**]\n",
        "It is crucial that you understand this code well\n",
        "since you will employ similar training loops\n",
        "for every other deep learning model\n",
        "covered in this book.\n",
        "In each *epoch*, we iterate through \n",
        "the entire training dataset, \n",
        "passing once through every example\n",
        "(assuming that the number of examples \n",
        "is divisible by the batch size). \n",
        "In each iteration, we grab a minibatch of training examples,\n",
        "and compute its loss through the model's `training_step` method. \n",
        "Next, we compute the gradients with respect to each parameter. \n",
        "Finally, we will call the optimization algorithm\n",
        "to update the model parameters. \n",
        "In summary, we will execute the following loop:\n",
        "\n",
        "* Initialize parameters $(\\mathbf{w}, b)$\n",
        "* Repeat until done\n",
        "    * Compute gradient $\\mathbf{g} \\leftarrow \\partial_{(\\mathbf{w},b)} \\frac{1}{|\\mathcal{B}|} \\sum_{i \\in \\mathcal{B}} l(\\mathbf{x}^{(i)}, y^{(i)}, \\mathbf{w}, b)$\n",
        "    * Update parameters $(\\mathbf{w}, b) \\leftarrow (\\mathbf{w}, b) - \\eta \\mathbf{g}$\n",
        " \n",
        "Recall that the synthetic regression dataset \n",
        "that we generated in :numref:``sec_synthetic-regression-data`` \n",
        "does not provide a validation dataset. \n",
        "In most cases, however, \n",
        "we will use a validation dataset \n",
        "to measure our model quality. \n",
        "Here we pass the validation dataloader \n",
        "once in each epoch to measure the model performance.\n",
        "Following our object-oriented design,\n",
        "the `prepare_batch` and `fit_epoch` functions\n",
        "are registered as methods of the `d2l.Trainer` class\n",
        "(introduced in :numref:`oo-design-training`).\n"
      ]
    },
    {
      "cell_type": "code",
      "execution_count": 9,
      "id": "4548938f",
      "metadata": {
        "execution": {
          "iopub.execute_input": "2022-12-14T05:41:37.919028Z",
          "iopub.status.busy": "2022-12-14T05:41:37.918497Z",
          "iopub.status.idle": "2022-12-14T05:41:37.922368Z",
          "shell.execute_reply": "2022-12-14T05:41:37.921454Z"
        },
        "origin_pos": 24,
        "tab": [
          "pytorch"
        ],
        "id": "4548938f"
      },
      "outputs": [],
      "source": [
        "@d2l.add_to_class(d2l.Trainer)  #@save\n",
        "def prepare_batch(self, batch):\n",
        "    return batch"
      ]
    },
    {
      "cell_type": "code",
      "execution_count": 10,
      "id": "ccde1f5b",
      "metadata": {
        "execution": {
          "iopub.execute_input": "2022-12-14T05:41:37.925893Z",
          "iopub.status.busy": "2022-12-14T05:41:37.925300Z",
          "iopub.status.idle": "2022-12-14T05:41:37.931430Z",
          "shell.execute_reply": "2022-12-14T05:41:37.930486Z"
        },
        "origin_pos": 25,
        "tab": [
          "pytorch"
        ],
        "id": "ccde1f5b"
      },
      "outputs": [],
      "source": [
        "@d2l.add_to_class(d2l.Trainer)  #@save\n",
        "def fit_epoch(self):\n",
        "    self.model.train()\n",
        "    for batch in self.train_dataloader:\n",
        "        loss = self.model.training_step(self.prepare_batch(batch))\n",
        "        self.optim.zero_grad()\n",
        "        with torch.no_grad():\n",
        "            loss.backward()\n",
        "            if self.gradient_clip_val > 0:  # To be discussed later\n",
        "                self.clip_gradients(self.gradient_clip_val, self.model)\n",
        "            self.optim.step()\n",
        "        self.train_batch_idx += 1\n",
        "    if self.val_dataloader is None:\n",
        "        return\n",
        "    self.model.eval()\n",
        "    for batch in self.val_dataloader:\n",
        "        with torch.no_grad():\n",
        "            self.model.validation_step(self.prepare_batch(batch))\n",
        "        self.val_batch_idx += 1"
      ]
    },
    {
      "cell_type": "markdown",
      "id": "404b49b2",
      "metadata": {
        "origin_pos": 29,
        "id": "404b49b2"
      },
      "source": [
        "We are almost ready to train the model,\n",
        "but first we need some data to train on.\n",
        "Here we use the `SyntheticRegressionData` class \n",
        "and pass in some ground-truth parameters.\n",
        "Then, we train our model with \n",
        "the learning rate `lr=0.03` \n",
        "and set `max_epochs=3`. \n",
        "Note that in general, both the number of epochs \n",
        "and the learning rate are hyperparameters.\n",
        "In general, setting hyperparameters is tricky\n",
        "and we will usually want to use a 3-way split,\n",
        "one set for training, \n",
        "a second for hyperparameter seclection,\n",
        "and the third reserved for the final evaluation.\n",
        "We elide these details for now but will revise them\n",
        "later.\n"
      ]
    },
    {
      "cell_type": "code",
      "execution_count": 11,
      "id": "e7ad25a0",
      "metadata": {
        "execution": {
          "iopub.execute_input": "2022-12-14T05:41:37.934965Z",
          "iopub.status.busy": "2022-12-14T05:41:37.934361Z",
          "iopub.status.idle": "2022-12-14T05:41:39.470906Z",
          "shell.execute_reply": "2022-12-14T05:41:39.470115Z"
        },
        "origin_pos": 30,
        "tab": [
          "pytorch"
        ],
        "colab": {
          "base_uri": "https://localhost:8080/",
          "height": 262
        },
        "id": "e7ad25a0",
        "outputId": "fb775784-7f97-4fce-ba2f-f72773db6220"
      },
      "outputs": [
        {
          "output_type": "display_data",
          "data": {
            "text/plain": [
              "<Figure size 252x180 with 1 Axes>"
            ],
            "image/svg+xml": "<?xml version=\"1.0\" encoding=\"utf-8\" standalone=\"no\"?>\n<!DOCTYPE svg PUBLIC \"-//W3C//DTD SVG 1.1//EN\"\n  \"http://www.w3.org/Graphics/SVG/1.1/DTD/svg11.dtd\">\n<!-- Created with matplotlib (https://matplotlib.org/) -->\n<svg height=\"180.65625pt\" version=\"1.1\" viewBox=\"0 0 246.917187 180.65625\" width=\"246.917187pt\" xmlns=\"http://www.w3.org/2000/svg\" xmlns:xlink=\"http://www.w3.org/1999/xlink\">\n <defs>\n  <style type=\"text/css\">\n*{stroke-linecap:butt;stroke-linejoin:round;}\n  </style>\n </defs>\n <g id=\"figure_1\">\n  <g id=\"patch_1\">\n   <path d=\"M 0 180.65625 \nL 246.917187 180.65625 \nL 246.917187 0 \nL 0 0 \nz\n\" style=\"fill:none;\"/>\n  </g>\n  <g id=\"axes_1\">\n   <g id=\"patch_2\">\n    <path d=\"M 36.465625 143.1 \nL 231.765625 143.1 \nL 231.765625 7.2 \nL 36.465625 7.2 \nz\n\" style=\"fill:#ffffff;\"/>\n   </g>\n   <g id=\"matplotlib.axis_1\">\n    <g id=\"xtick_1\">\n     <g id=\"line2d_1\">\n      <defs>\n       <path d=\"M 0 0 \nL 0 3.5 \n\" id=\"m1372f05a7c\" style=\"stroke:#000000;stroke-width:0.8;\"/>\n      </defs>\n      <g>\n       <use style=\"stroke:#000000;stroke-width:0.8;\" x=\"36.465625\" xlink:href=\"#m1372f05a7c\" y=\"143.1\"/>\n      </g>\n     </g>\n     <g id=\"text_1\">\n      <!-- 0.0 -->\n      <defs>\n       <path d=\"M 31.78125 66.40625 \nQ 24.171875 66.40625 20.328125 58.90625 \nQ 16.5 51.421875 16.5 36.375 \nQ 16.5 21.390625 20.328125 13.890625 \nQ 24.171875 6.390625 31.78125 6.390625 \nQ 39.453125 6.390625 43.28125 13.890625 \nQ 47.125 21.390625 47.125 36.375 \nQ 47.125 51.421875 43.28125 58.90625 \nQ 39.453125 66.40625 31.78125 66.40625 \nz\nM 31.78125 74.21875 \nQ 44.046875 74.21875 50.515625 64.515625 \nQ 56.984375 54.828125 56.984375 36.375 \nQ 56.984375 17.96875 50.515625 8.265625 \nQ 44.046875 -1.421875 31.78125 -1.421875 \nQ 19.53125 -1.421875 13.0625 8.265625 \nQ 6.59375 17.96875 6.59375 36.375 \nQ 6.59375 54.828125 13.0625 64.515625 \nQ 19.53125 74.21875 31.78125 74.21875 \nz\n\" id=\"DejaVuSans-48\"/>\n       <path d=\"M 10.6875 12.40625 \nL 21 12.40625 \nL 21 0 \nL 10.6875 0 \nz\n\" id=\"DejaVuSans-46\"/>\n      </defs>\n      <g transform=\"translate(28.514063 157.698438)scale(0.1 -0.1)\">\n       <use xlink:href=\"#DejaVuSans-48\"/>\n       <use x=\"63.623047\" xlink:href=\"#DejaVuSans-46\"/>\n       <use x=\"95.410156\" xlink:href=\"#DejaVuSans-48\"/>\n      </g>\n     </g>\n    </g>\n    <g id=\"xtick_2\">\n     <g id=\"line2d_2\">\n      <g>\n       <use style=\"stroke:#000000;stroke-width:0.8;\" x=\"69.015625\" xlink:href=\"#m1372f05a7c\" y=\"143.1\"/>\n      </g>\n     </g>\n     <g id=\"text_2\">\n      <!-- 0.5 -->\n      <defs>\n       <path d=\"M 10.796875 72.90625 \nL 49.515625 72.90625 \nL 49.515625 64.59375 \nL 19.828125 64.59375 \nL 19.828125 46.734375 \nQ 21.96875 47.46875 24.109375 47.828125 \nQ 26.265625 48.1875 28.421875 48.1875 \nQ 40.625 48.1875 47.75 41.5 \nQ 54.890625 34.8125 54.890625 23.390625 \nQ 54.890625 11.625 47.5625 5.09375 \nQ 40.234375 -1.421875 26.90625 -1.421875 \nQ 22.3125 -1.421875 17.546875 -0.640625 \nQ 12.796875 0.140625 7.71875 1.703125 \nL 7.71875 11.625 \nQ 12.109375 9.234375 16.796875 8.0625 \nQ 21.484375 6.890625 26.703125 6.890625 \nQ 35.15625 6.890625 40.078125 11.328125 \nQ 45.015625 15.765625 45.015625 23.390625 \nQ 45.015625 31 40.078125 35.4375 \nQ 35.15625 39.890625 26.703125 39.890625 \nQ 22.75 39.890625 18.8125 39.015625 \nQ 14.890625 38.140625 10.796875 36.28125 \nz\n\" id=\"DejaVuSans-53\"/>\n      </defs>\n      <g transform=\"translate(61.064062 157.698438)scale(0.1 -0.1)\">\n       <use xlink:href=\"#DejaVuSans-48\"/>\n       <use x=\"63.623047\" xlink:href=\"#DejaVuSans-46\"/>\n       <use x=\"95.410156\" xlink:href=\"#DejaVuSans-53\"/>\n      </g>\n     </g>\n    </g>\n    <g id=\"xtick_3\">\n     <g id=\"line2d_3\">\n      <g>\n       <use style=\"stroke:#000000;stroke-width:0.8;\" x=\"101.565625\" xlink:href=\"#m1372f05a7c\" y=\"143.1\"/>\n      </g>\n     </g>\n     <g id=\"text_3\">\n      <!-- 1.0 -->\n      <defs>\n       <path d=\"M 12.40625 8.296875 \nL 28.515625 8.296875 \nL 28.515625 63.921875 \nL 10.984375 60.40625 \nL 10.984375 69.390625 \nL 28.421875 72.90625 \nL 38.28125 72.90625 \nL 38.28125 8.296875 \nL 54.390625 8.296875 \nL 54.390625 0 \nL 12.40625 0 \nz\n\" id=\"DejaVuSans-49\"/>\n      </defs>\n      <g transform=\"translate(93.614063 157.698438)scale(0.1 -0.1)\">\n       <use xlink:href=\"#DejaVuSans-49\"/>\n       <use x=\"63.623047\" xlink:href=\"#DejaVuSans-46\"/>\n       <use x=\"95.410156\" xlink:href=\"#DejaVuSans-48\"/>\n      </g>\n     </g>\n    </g>\n    <g id=\"xtick_4\">\n     <g id=\"line2d_4\">\n      <g>\n       <use style=\"stroke:#000000;stroke-width:0.8;\" x=\"134.115625\" xlink:href=\"#m1372f05a7c\" y=\"143.1\"/>\n      </g>\n     </g>\n     <g id=\"text_4\">\n      <!-- 1.5 -->\n      <g transform=\"translate(126.164062 157.698438)scale(0.1 -0.1)\">\n       <use xlink:href=\"#DejaVuSans-49\"/>\n       <use x=\"63.623047\" xlink:href=\"#DejaVuSans-46\"/>\n       <use x=\"95.410156\" xlink:href=\"#DejaVuSans-53\"/>\n      </g>\n     </g>\n    </g>\n    <g id=\"xtick_5\">\n     <g id=\"line2d_5\">\n      <g>\n       <use style=\"stroke:#000000;stroke-width:0.8;\" x=\"166.665625\" xlink:href=\"#m1372f05a7c\" y=\"143.1\"/>\n      </g>\n     </g>\n     <g id=\"text_5\">\n      <!-- 2.0 -->\n      <defs>\n       <path d=\"M 19.1875 8.296875 \nL 53.609375 8.296875 \nL 53.609375 0 \nL 7.328125 0 \nL 7.328125 8.296875 \nQ 12.9375 14.109375 22.625 23.890625 \nQ 32.328125 33.6875 34.8125 36.53125 \nQ 39.546875 41.84375 41.421875 45.53125 \nQ 43.3125 49.21875 43.3125 52.78125 \nQ 43.3125 58.59375 39.234375 62.25 \nQ 35.15625 65.921875 28.609375 65.921875 \nQ 23.96875 65.921875 18.8125 64.3125 \nQ 13.671875 62.703125 7.8125 59.421875 \nL 7.8125 69.390625 \nQ 13.765625 71.78125 18.9375 73 \nQ 24.125 74.21875 28.421875 74.21875 \nQ 39.75 74.21875 46.484375 68.546875 \nQ 53.21875 62.890625 53.21875 53.421875 \nQ 53.21875 48.921875 51.53125 44.890625 \nQ 49.859375 40.875 45.40625 35.40625 \nQ 44.1875 33.984375 37.640625 27.21875 \nQ 31.109375 20.453125 19.1875 8.296875 \nz\n\" id=\"DejaVuSans-50\"/>\n      </defs>\n      <g transform=\"translate(158.714062 157.698438)scale(0.1 -0.1)\">\n       <use xlink:href=\"#DejaVuSans-50\"/>\n       <use x=\"63.623047\" xlink:href=\"#DejaVuSans-46\"/>\n       <use x=\"95.410156\" xlink:href=\"#DejaVuSans-48\"/>\n      </g>\n     </g>\n    </g>\n    <g id=\"xtick_6\">\n     <g id=\"line2d_6\">\n      <g>\n       <use style=\"stroke:#000000;stroke-width:0.8;\" x=\"199.215625\" xlink:href=\"#m1372f05a7c\" y=\"143.1\"/>\n      </g>\n     </g>\n     <g id=\"text_6\">\n      <!-- 2.5 -->\n      <g transform=\"translate(191.264062 157.698438)scale(0.1 -0.1)\">\n       <use xlink:href=\"#DejaVuSans-50\"/>\n       <use x=\"63.623047\" xlink:href=\"#DejaVuSans-46\"/>\n       <use x=\"95.410156\" xlink:href=\"#DejaVuSans-53\"/>\n      </g>\n     </g>\n    </g>\n    <g id=\"xtick_7\">\n     <g id=\"line2d_7\">\n      <g>\n       <use style=\"stroke:#000000;stroke-width:0.8;\" x=\"231.765625\" xlink:href=\"#m1372f05a7c\" y=\"143.1\"/>\n      </g>\n     </g>\n     <g id=\"text_7\">\n      <!-- 3.0 -->\n      <defs>\n       <path d=\"M 40.578125 39.3125 \nQ 47.65625 37.796875 51.625 33 \nQ 55.609375 28.21875 55.609375 21.1875 \nQ 55.609375 10.40625 48.1875 4.484375 \nQ 40.765625 -1.421875 27.09375 -1.421875 \nQ 22.515625 -1.421875 17.65625 -0.515625 \nQ 12.796875 0.390625 7.625 2.203125 \nL 7.625 11.71875 \nQ 11.71875 9.328125 16.59375 8.109375 \nQ 21.484375 6.890625 26.8125 6.890625 \nQ 36.078125 6.890625 40.9375 10.546875 \nQ 45.796875 14.203125 45.796875 21.1875 \nQ 45.796875 27.640625 41.28125 31.265625 \nQ 36.765625 34.90625 28.71875 34.90625 \nL 20.21875 34.90625 \nL 20.21875 43.015625 \nL 29.109375 43.015625 \nQ 36.375 43.015625 40.234375 45.921875 \nQ 44.09375 48.828125 44.09375 54.296875 \nQ 44.09375 59.90625 40.109375 62.90625 \nQ 36.140625 65.921875 28.71875 65.921875 \nQ 24.65625 65.921875 20.015625 65.03125 \nQ 15.375 64.15625 9.8125 62.3125 \nL 9.8125 71.09375 \nQ 15.4375 72.65625 20.34375 73.4375 \nQ 25.25 74.21875 29.59375 74.21875 \nQ 40.828125 74.21875 47.359375 69.109375 \nQ 53.90625 64.015625 53.90625 55.328125 \nQ 53.90625 49.265625 50.4375 45.09375 \nQ 46.96875 40.921875 40.578125 39.3125 \nz\n\" id=\"DejaVuSans-51\"/>\n      </defs>\n      <g transform=\"translate(223.814063 157.698438)scale(0.1 -0.1)\">\n       <use xlink:href=\"#DejaVuSans-51\"/>\n       <use x=\"63.623047\" xlink:href=\"#DejaVuSans-46\"/>\n       <use x=\"95.410156\" xlink:href=\"#DejaVuSans-48\"/>\n      </g>\n     </g>\n    </g>\n    <g id=\"text_8\">\n     <!-- epoch -->\n     <defs>\n      <path d=\"M 56.203125 29.59375 \nL 56.203125 25.203125 \nL 14.890625 25.203125 \nQ 15.484375 15.921875 20.484375 11.0625 \nQ 25.484375 6.203125 34.421875 6.203125 \nQ 39.59375 6.203125 44.453125 7.46875 \nQ 49.3125 8.734375 54.109375 11.28125 \nL 54.109375 2.78125 \nQ 49.265625 0.734375 44.1875 -0.34375 \nQ 39.109375 -1.421875 33.890625 -1.421875 \nQ 20.796875 -1.421875 13.15625 6.1875 \nQ 5.515625 13.8125 5.515625 26.8125 \nQ 5.515625 40.234375 12.765625 48.109375 \nQ 20.015625 56 32.328125 56 \nQ 43.359375 56 49.78125 48.890625 \nQ 56.203125 41.796875 56.203125 29.59375 \nz\nM 47.21875 32.234375 \nQ 47.125 39.59375 43.09375 43.984375 \nQ 39.0625 48.390625 32.421875 48.390625 \nQ 24.90625 48.390625 20.390625 44.140625 \nQ 15.875 39.890625 15.1875 32.171875 \nz\n\" id=\"DejaVuSans-101\"/>\n      <path d=\"M 18.109375 8.203125 \nL 18.109375 -20.796875 \nL 9.078125 -20.796875 \nL 9.078125 54.6875 \nL 18.109375 54.6875 \nL 18.109375 46.390625 \nQ 20.953125 51.265625 25.265625 53.625 \nQ 29.59375 56 35.59375 56 \nQ 45.5625 56 51.78125 48.09375 \nQ 58.015625 40.1875 58.015625 27.296875 \nQ 58.015625 14.40625 51.78125 6.484375 \nQ 45.5625 -1.421875 35.59375 -1.421875 \nQ 29.59375 -1.421875 25.265625 0.953125 \nQ 20.953125 3.328125 18.109375 8.203125 \nz\nM 48.6875 27.296875 \nQ 48.6875 37.203125 44.609375 42.84375 \nQ 40.53125 48.484375 33.40625 48.484375 \nQ 26.265625 48.484375 22.1875 42.84375 \nQ 18.109375 37.203125 18.109375 27.296875 \nQ 18.109375 17.390625 22.1875 11.75 \nQ 26.265625 6.109375 33.40625 6.109375 \nQ 40.53125 6.109375 44.609375 11.75 \nQ 48.6875 17.390625 48.6875 27.296875 \nz\n\" id=\"DejaVuSans-112\"/>\n      <path d=\"M 30.609375 48.390625 \nQ 23.390625 48.390625 19.1875 42.75 \nQ 14.984375 37.109375 14.984375 27.296875 \nQ 14.984375 17.484375 19.15625 11.84375 \nQ 23.34375 6.203125 30.609375 6.203125 \nQ 37.796875 6.203125 41.984375 11.859375 \nQ 46.1875 17.53125 46.1875 27.296875 \nQ 46.1875 37.015625 41.984375 42.703125 \nQ 37.796875 48.390625 30.609375 48.390625 \nz\nM 30.609375 56 \nQ 42.328125 56 49.015625 48.375 \nQ 55.71875 40.765625 55.71875 27.296875 \nQ 55.71875 13.875 49.015625 6.21875 \nQ 42.328125 -1.421875 30.609375 -1.421875 \nQ 18.84375 -1.421875 12.171875 6.21875 \nQ 5.515625 13.875 5.515625 27.296875 \nQ 5.515625 40.765625 12.171875 48.375 \nQ 18.84375 56 30.609375 56 \nz\n\" id=\"DejaVuSans-111\"/>\n      <path d=\"M 48.78125 52.59375 \nL 48.78125 44.1875 \nQ 44.96875 46.296875 41.140625 47.34375 \nQ 37.3125 48.390625 33.40625 48.390625 \nQ 24.65625 48.390625 19.8125 42.84375 \nQ 14.984375 37.3125 14.984375 27.296875 \nQ 14.984375 17.28125 19.8125 11.734375 \nQ 24.65625 6.203125 33.40625 6.203125 \nQ 37.3125 6.203125 41.140625 7.25 \nQ 44.96875 8.296875 48.78125 10.40625 \nL 48.78125 2.09375 \nQ 45.015625 0.34375 40.984375 -0.53125 \nQ 36.96875 -1.421875 32.421875 -1.421875 \nQ 20.0625 -1.421875 12.78125 6.34375 \nQ 5.515625 14.109375 5.515625 27.296875 \nQ 5.515625 40.671875 12.859375 48.328125 \nQ 20.21875 56 33.015625 56 \nQ 37.15625 56 41.109375 55.140625 \nQ 45.0625 54.296875 48.78125 52.59375 \nz\n\" id=\"DejaVuSans-99\"/>\n      <path d=\"M 54.890625 33.015625 \nL 54.890625 0 \nL 45.90625 0 \nL 45.90625 32.71875 \nQ 45.90625 40.484375 42.875 44.328125 \nQ 39.84375 48.1875 33.796875 48.1875 \nQ 26.515625 48.1875 22.3125 43.546875 \nQ 18.109375 38.921875 18.109375 30.90625 \nL 18.109375 0 \nL 9.078125 0 \nL 9.078125 75.984375 \nL 18.109375 75.984375 \nL 18.109375 46.1875 \nQ 21.34375 51.125 25.703125 53.5625 \nQ 30.078125 56 35.796875 56 \nQ 45.21875 56 50.046875 50.171875 \nQ 54.890625 44.34375 54.890625 33.015625 \nz\n\" id=\"DejaVuSans-104\"/>\n     </defs>\n     <g transform=\"translate(118.8875 171.376563)scale(0.1 -0.1)\">\n      <use xlink:href=\"#DejaVuSans-101\"/>\n      <use x=\"61.523438\" xlink:href=\"#DejaVuSans-112\"/>\n      <use x=\"125\" xlink:href=\"#DejaVuSans-111\"/>\n      <use x=\"186.181641\" xlink:href=\"#DejaVuSans-99\"/>\n      <use x=\"241.162109\" xlink:href=\"#DejaVuSans-104\"/>\n     </g>\n    </g>\n   </g>\n   <g id=\"matplotlib.axis_2\">\n    <g id=\"ytick_1\">\n     <g id=\"line2d_8\">\n      <defs>\n       <path d=\"M 0 0 \nL -3.5 0 \n\" id=\"m00c69c6867\" style=\"stroke:#000000;stroke-width:0.8;\"/>\n      </defs>\n      <g>\n       <use style=\"stroke:#000000;stroke-width:0.8;\" x=\"36.465625\" xlink:href=\"#m00c69c6867\" y=\"137.370565\"/>\n      </g>\n     </g>\n     <g id=\"text_9\">\n      <!-- 0.0 -->\n      <g transform=\"translate(13.5625 141.169783)scale(0.1 -0.1)\">\n       <use xlink:href=\"#DejaVuSans-48\"/>\n       <use x=\"63.623047\" xlink:href=\"#DejaVuSans-46\"/>\n       <use x=\"95.410156\" xlink:href=\"#DejaVuSans-48\"/>\n      </g>\n     </g>\n    </g>\n    <g id=\"ytick_2\">\n     <g id=\"line2d_9\">\n      <g>\n       <use style=\"stroke:#000000;stroke-width:0.8;\" x=\"36.465625\" xlink:href=\"#m00c69c6867\" y=\"109.113346\"/>\n      </g>\n     </g>\n     <g id=\"text_10\">\n      <!-- 2.5 -->\n      <g transform=\"translate(13.5625 112.912565)scale(0.1 -0.1)\">\n       <use xlink:href=\"#DejaVuSans-50\"/>\n       <use x=\"63.623047\" xlink:href=\"#DejaVuSans-46\"/>\n       <use x=\"95.410156\" xlink:href=\"#DejaVuSans-53\"/>\n      </g>\n     </g>\n    </g>\n    <g id=\"ytick_3\">\n     <g id=\"line2d_10\">\n      <g>\n       <use style=\"stroke:#000000;stroke-width:0.8;\" x=\"36.465625\" xlink:href=\"#m00c69c6867\" y=\"80.856128\"/>\n      </g>\n     </g>\n     <g id=\"text_11\">\n      <!-- 5.0 -->\n      <g transform=\"translate(13.5625 84.655346)scale(0.1 -0.1)\">\n       <use xlink:href=\"#DejaVuSans-53\"/>\n       <use x=\"63.623047\" xlink:href=\"#DejaVuSans-46\"/>\n       <use x=\"95.410156\" xlink:href=\"#DejaVuSans-48\"/>\n      </g>\n     </g>\n    </g>\n    <g id=\"ytick_4\">\n     <g id=\"line2d_11\">\n      <g>\n       <use style=\"stroke:#000000;stroke-width:0.8;\" x=\"36.465625\" xlink:href=\"#m00c69c6867\" y=\"52.598909\"/>\n      </g>\n     </g>\n     <g id=\"text_12\">\n      <!-- 7.5 -->\n      <defs>\n       <path d=\"M 8.203125 72.90625 \nL 55.078125 72.90625 \nL 55.078125 68.703125 \nL 28.609375 0 \nL 18.3125 0 \nL 43.21875 64.59375 \nL 8.203125 64.59375 \nz\n\" id=\"DejaVuSans-55\"/>\n      </defs>\n      <g transform=\"translate(13.5625 56.398128)scale(0.1 -0.1)\">\n       <use xlink:href=\"#DejaVuSans-55\"/>\n       <use x=\"63.623047\" xlink:href=\"#DejaVuSans-46\"/>\n       <use x=\"95.410156\" xlink:href=\"#DejaVuSans-53\"/>\n      </g>\n     </g>\n    </g>\n    <g id=\"ytick_5\">\n     <g id=\"line2d_12\">\n      <g>\n       <use style=\"stroke:#000000;stroke-width:0.8;\" x=\"36.465625\" xlink:href=\"#m00c69c6867\" y=\"24.341691\"/>\n      </g>\n     </g>\n     <g id=\"text_13\">\n      <!-- 10.0 -->\n      <g transform=\"translate(7.2 28.140909)scale(0.1 -0.1)\">\n       <use xlink:href=\"#DejaVuSans-49\"/>\n       <use x=\"63.623047\" xlink:href=\"#DejaVuSans-48\"/>\n       <use x=\"127.246094\" xlink:href=\"#DejaVuSans-46\"/>\n       <use x=\"159.033203\" xlink:href=\"#DejaVuSans-48\"/>\n      </g>\n     </g>\n    </g>\n   </g>\n   <g id=\"line2d_13\">\n    <path clip-path=\"url(#pe9e7dc02f1)\" d=\"M 51.723438 13.377273 \n\" style=\"fill:none;stroke:#1f77b4;stroke-linecap:square;stroke-width:1.5;\"/>\n   </g>\n   <g id=\"line2d_14\">\n    <path clip-path=\"url(#pe9e7dc02f1)\" d=\"M 51.723438 13.377273 \nL 84.273438 88.916217 \n\" style=\"fill:none;stroke:#1f77b4;stroke-linecap:square;stroke-width:1.5;\"/>\n   </g>\n   <g id=\"line2d_15\">\n    <path clip-path=\"url(#pe9e7dc02f1)\" d=\"M 51.723438 13.377273 \nL 84.273438 88.916217 \n\" style=\"fill:none;stroke:#1f77b4;stroke-linecap:square;stroke-width:1.5;\"/>\n   </g>\n   <g id=\"line2d_16\">\n    <path clip-path=\"url(#pe9e7dc02f1)\" d=\"M 101.565625 111.945228 \n\" style=\"fill:none;stroke:#ff7f0e;stroke-dasharray:5.55,2.4;stroke-dashoffset:0;stroke-width:1.5;\"/>\n   </g>\n   <g id=\"line2d_17\">\n    <path clip-path=\"url(#pe9e7dc02f1)\" d=\"M 51.723438 13.377273 \nL 84.273438 88.916217 \nL 116.823437 120.23197 \n\" style=\"fill:none;stroke:#1f77b4;stroke-linecap:square;stroke-width:1.5;\"/>\n   </g>\n   <g id=\"line2d_18\">\n    <path clip-path=\"url(#pe9e7dc02f1)\" d=\"M 101.565625 111.945228 \n\" style=\"fill:none;stroke:#ff7f0e;stroke-dasharray:5.55,2.4;stroke-dashoffset:0;stroke-width:1.5;\"/>\n   </g>\n   <g id=\"line2d_19\">\n    <path clip-path=\"url(#pe9e7dc02f1)\" d=\"M 51.723438 13.377273 \nL 84.273438 88.916217 \nL 116.823437 120.23197 \nL 149.373437 131.693827 \n\" style=\"fill:none;stroke:#1f77b4;stroke-linecap:square;stroke-width:1.5;\"/>\n   </g>\n   <g id=\"line2d_20\">\n    <path clip-path=\"url(#pe9e7dc02f1)\" d=\"M 101.565625 111.945228 \n\" style=\"fill:none;stroke:#ff7f0e;stroke-dasharray:5.55,2.4;stroke-dashoffset:0;stroke-width:1.5;\"/>\n   </g>\n   <g id=\"line2d_21\">\n    <path clip-path=\"url(#pe9e7dc02f1)\" d=\"M 51.723438 13.377273 \nL 84.273438 88.916217 \nL 116.823437 120.23197 \nL 149.373437 131.693827 \n\" style=\"fill:none;stroke:#1f77b4;stroke-linecap:square;stroke-width:1.5;\"/>\n   </g>\n   <g id=\"line2d_22\">\n    <path clip-path=\"url(#pe9e7dc02f1)\" d=\"M 101.565625 111.945228 \nL 166.665625 134.070967 \n\" style=\"fill:none;stroke:#ff7f0e;stroke-dasharray:5.55,2.4;stroke-dashoffset:0;stroke-width:1.5;\"/>\n   </g>\n   <g id=\"line2d_23\">\n    <path clip-path=\"url(#pe9e7dc02f1)\" d=\"M 51.723438 13.377273 \nL 84.273438 88.916217 \nL 116.823437 120.23197 \nL 149.373437 131.693827 \nL 181.923437 135.24967 \n\" style=\"fill:none;stroke:#1f77b4;stroke-linecap:square;stroke-width:1.5;\"/>\n   </g>\n   <g id=\"line2d_24\">\n    <path clip-path=\"url(#pe9e7dc02f1)\" d=\"M 101.565625 111.945228 \nL 166.665625 134.070967 \n\" style=\"fill:none;stroke:#ff7f0e;stroke-dasharray:5.55,2.4;stroke-dashoffset:0;stroke-width:1.5;\"/>\n   </g>\n   <g id=\"line2d_25\">\n    <path clip-path=\"url(#pe9e7dc02f1)\" d=\"M 51.723438 13.377273 \nL 84.273438 88.916217 \nL 116.823437 120.23197 \nL 149.373437 131.693827 \nL 181.923437 135.24967 \nL 214.473437 136.558454 \n\" style=\"fill:none;stroke:#1f77b4;stroke-linecap:square;stroke-width:1.5;\"/>\n   </g>\n   <g id=\"line2d_26\">\n    <path clip-path=\"url(#pe9e7dc02f1)\" d=\"M 101.565625 111.945228 \nL 166.665625 134.070967 \n\" style=\"fill:none;stroke:#ff7f0e;stroke-dasharray:5.55,2.4;stroke-dashoffset:0;stroke-width:1.5;\"/>\n   </g>\n   <g id=\"line2d_27\">\n    <path clip-path=\"url(#pe9e7dc02f1)\" d=\"M 51.723438 13.377273 \nL 84.273438 88.916217 \nL 116.823437 120.23197 \nL 149.373437 131.693827 \nL 181.923437 135.24967 \nL 214.473437 136.558454 \n\" style=\"fill:none;stroke:#1f77b4;stroke-linecap:square;stroke-width:1.5;\"/>\n   </g>\n   <g id=\"line2d_28\">\n    <path clip-path=\"url(#pe9e7dc02f1)\" d=\"M 101.565625 111.945228 \nL 166.665625 134.070967 \nL 231.765625 136.922727 \n\" style=\"fill:none;stroke:#ff7f0e;stroke-dasharray:5.55,2.4;stroke-dashoffset:0;stroke-width:1.5;\"/>\n   </g>\n   <g id=\"patch_3\">\n    <path d=\"M 36.465625 143.1 \nL 36.465625 7.2 \n\" style=\"fill:none;stroke:#000000;stroke-linecap:square;stroke-linejoin:miter;stroke-width:0.8;\"/>\n   </g>\n   <g id=\"patch_4\">\n    <path d=\"M 231.765625 143.1 \nL 231.765625 7.2 \n\" style=\"fill:none;stroke:#000000;stroke-linecap:square;stroke-linejoin:miter;stroke-width:0.8;\"/>\n   </g>\n   <g id=\"patch_5\">\n    <path d=\"M 36.465625 143.1 \nL 231.765625 143.1 \n\" style=\"fill:none;stroke:#000000;stroke-linecap:square;stroke-linejoin:miter;stroke-width:0.8;\"/>\n   </g>\n   <g id=\"patch_6\">\n    <path d=\"M 36.465625 7.2 \nL 231.765625 7.2 \n\" style=\"fill:none;stroke:#000000;stroke-linecap:square;stroke-linejoin:miter;stroke-width:0.8;\"/>\n   </g>\n   <g id=\"legend_1\">\n    <g id=\"patch_7\">\n     <path d=\"M 145.175 45.1125 \nL 224.765625 45.1125 \nQ 226.765625 45.1125 226.765625 43.1125 \nL 226.765625 14.2 \nQ 226.765625 12.2 224.765625 12.2 \nL 145.175 12.2 \nQ 143.175 12.2 143.175 14.2 \nL 143.175 43.1125 \nQ 143.175 45.1125 145.175 45.1125 \nz\n\" style=\"fill:#ffffff;opacity:0.8;stroke:#cccccc;stroke-linejoin:miter;\"/>\n    </g>\n    <g id=\"line2d_29\">\n     <path d=\"M 147.175 20.298437 \nL 167.175 20.298437 \n\" style=\"fill:none;stroke:#1f77b4;stroke-linecap:square;stroke-width:1.5;\"/>\n    </g>\n    <g id=\"line2d_30\"/>\n    <g id=\"text_14\">\n     <!-- train_loss -->\n     <defs>\n      <path d=\"M 18.3125 70.21875 \nL 18.3125 54.6875 \nL 36.8125 54.6875 \nL 36.8125 47.703125 \nL 18.3125 47.703125 \nL 18.3125 18.015625 \nQ 18.3125 11.328125 20.140625 9.421875 \nQ 21.96875 7.515625 27.59375 7.515625 \nL 36.8125 7.515625 \nL 36.8125 0 \nL 27.59375 0 \nQ 17.1875 0 13.234375 3.875 \nQ 9.28125 7.765625 9.28125 18.015625 \nL 9.28125 47.703125 \nL 2.6875 47.703125 \nL 2.6875 54.6875 \nL 9.28125 54.6875 \nL 9.28125 70.21875 \nz\n\" id=\"DejaVuSans-116\"/>\n      <path d=\"M 41.109375 46.296875 \nQ 39.59375 47.171875 37.8125 47.578125 \nQ 36.03125 48 33.890625 48 \nQ 26.265625 48 22.1875 43.046875 \nQ 18.109375 38.09375 18.109375 28.8125 \nL 18.109375 0 \nL 9.078125 0 \nL 9.078125 54.6875 \nL 18.109375 54.6875 \nL 18.109375 46.1875 \nQ 20.953125 51.171875 25.484375 53.578125 \nQ 30.03125 56 36.53125 56 \nQ 37.453125 56 38.578125 55.875 \nQ 39.703125 55.765625 41.0625 55.515625 \nz\n\" id=\"DejaVuSans-114\"/>\n      <path d=\"M 34.28125 27.484375 \nQ 23.390625 27.484375 19.1875 25 \nQ 14.984375 22.515625 14.984375 16.5 \nQ 14.984375 11.71875 18.140625 8.90625 \nQ 21.296875 6.109375 26.703125 6.109375 \nQ 34.1875 6.109375 38.703125 11.40625 \nQ 43.21875 16.703125 43.21875 25.484375 \nL 43.21875 27.484375 \nz\nM 52.203125 31.203125 \nL 52.203125 0 \nL 43.21875 0 \nL 43.21875 8.296875 \nQ 40.140625 3.328125 35.546875 0.953125 \nQ 30.953125 -1.421875 24.3125 -1.421875 \nQ 15.921875 -1.421875 10.953125 3.296875 \nQ 6 8.015625 6 15.921875 \nQ 6 25.140625 12.171875 29.828125 \nQ 18.359375 34.515625 30.609375 34.515625 \nL 43.21875 34.515625 \nL 43.21875 35.40625 \nQ 43.21875 41.609375 39.140625 45 \nQ 35.0625 48.390625 27.6875 48.390625 \nQ 23 48.390625 18.546875 47.265625 \nQ 14.109375 46.140625 10.015625 43.890625 \nL 10.015625 52.203125 \nQ 14.9375 54.109375 19.578125 55.046875 \nQ 24.21875 56 28.609375 56 \nQ 40.484375 56 46.34375 49.84375 \nQ 52.203125 43.703125 52.203125 31.203125 \nz\n\" id=\"DejaVuSans-97\"/>\n      <path d=\"M 9.421875 54.6875 \nL 18.40625 54.6875 \nL 18.40625 0 \nL 9.421875 0 \nz\nM 9.421875 75.984375 \nL 18.40625 75.984375 \nL 18.40625 64.59375 \nL 9.421875 64.59375 \nz\n\" id=\"DejaVuSans-105\"/>\n      <path d=\"M 54.890625 33.015625 \nL 54.890625 0 \nL 45.90625 0 \nL 45.90625 32.71875 \nQ 45.90625 40.484375 42.875 44.328125 \nQ 39.84375 48.1875 33.796875 48.1875 \nQ 26.515625 48.1875 22.3125 43.546875 \nQ 18.109375 38.921875 18.109375 30.90625 \nL 18.109375 0 \nL 9.078125 0 \nL 9.078125 54.6875 \nL 18.109375 54.6875 \nL 18.109375 46.1875 \nQ 21.34375 51.125 25.703125 53.5625 \nQ 30.078125 56 35.796875 56 \nQ 45.21875 56 50.046875 50.171875 \nQ 54.890625 44.34375 54.890625 33.015625 \nz\n\" id=\"DejaVuSans-110\"/>\n      <path d=\"M 50.984375 -16.609375 \nL 50.984375 -23.578125 \nL -0.984375 -23.578125 \nL -0.984375 -16.609375 \nz\n\" id=\"DejaVuSans-95\"/>\n      <path d=\"M 9.421875 75.984375 \nL 18.40625 75.984375 \nL 18.40625 0 \nL 9.421875 0 \nz\n\" id=\"DejaVuSans-108\"/>\n      <path d=\"M 44.28125 53.078125 \nL 44.28125 44.578125 \nQ 40.484375 46.53125 36.375 47.5 \nQ 32.28125 48.484375 27.875 48.484375 \nQ 21.1875 48.484375 17.84375 46.4375 \nQ 14.5 44.390625 14.5 40.28125 \nQ 14.5 37.15625 16.890625 35.375 \nQ 19.28125 33.59375 26.515625 31.984375 \nL 29.59375 31.296875 \nQ 39.15625 29.25 43.1875 25.515625 \nQ 47.21875 21.78125 47.21875 15.09375 \nQ 47.21875 7.46875 41.1875 3.015625 \nQ 35.15625 -1.421875 24.609375 -1.421875 \nQ 20.21875 -1.421875 15.453125 -0.5625 \nQ 10.6875 0.296875 5.421875 2 \nL 5.421875 11.28125 \nQ 10.40625 8.6875 15.234375 7.390625 \nQ 20.0625 6.109375 24.8125 6.109375 \nQ 31.15625 6.109375 34.5625 8.28125 \nQ 37.984375 10.453125 37.984375 14.40625 \nQ 37.984375 18.0625 35.515625 20.015625 \nQ 33.0625 21.96875 24.703125 23.78125 \nL 21.578125 24.515625 \nQ 13.234375 26.265625 9.515625 29.90625 \nQ 5.8125 33.546875 5.8125 39.890625 \nQ 5.8125 47.609375 11.28125 51.796875 \nQ 16.75 56 26.8125 56 \nQ 31.78125 56 36.171875 55.265625 \nQ 40.578125 54.546875 44.28125 53.078125 \nz\n\" id=\"DejaVuSans-115\"/>\n     </defs>\n     <g transform=\"translate(175.175 23.798437)scale(0.1 -0.1)\">\n      <use xlink:href=\"#DejaVuSans-116\"/>\n      <use x=\"39.208984\" xlink:href=\"#DejaVuSans-114\"/>\n      <use x=\"80.322266\" xlink:href=\"#DejaVuSans-97\"/>\n      <use x=\"141.601562\" xlink:href=\"#DejaVuSans-105\"/>\n      <use x=\"169.384766\" xlink:href=\"#DejaVuSans-110\"/>\n      <use x=\"232.763672\" xlink:href=\"#DejaVuSans-95\"/>\n      <use x=\"282.763672\" xlink:href=\"#DejaVuSans-108\"/>\n      <use x=\"310.546875\" xlink:href=\"#DejaVuSans-111\"/>\n      <use x=\"371.728516\" xlink:href=\"#DejaVuSans-115\"/>\n      <use x=\"423.828125\" xlink:href=\"#DejaVuSans-115\"/>\n     </g>\n    </g>\n    <g id=\"line2d_31\">\n     <path d=\"M 147.175 35.254687 \nL 167.175 35.254687 \n\" style=\"fill:none;stroke:#ff7f0e;stroke-dasharray:5.55,2.4;stroke-dashoffset:0;stroke-width:1.5;\"/>\n    </g>\n    <g id=\"line2d_32\"/>\n    <g id=\"text_15\">\n     <!-- val_loss -->\n     <defs>\n      <path d=\"M 2.984375 54.6875 \nL 12.5 54.6875 \nL 29.59375 8.796875 \nL 46.6875 54.6875 \nL 56.203125 54.6875 \nL 35.6875 0 \nL 23.484375 0 \nz\n\" id=\"DejaVuSans-118\"/>\n     </defs>\n     <g transform=\"translate(175.175 38.754687)scale(0.1 -0.1)\">\n      <use xlink:href=\"#DejaVuSans-118\"/>\n      <use x=\"59.179688\" xlink:href=\"#DejaVuSans-97\"/>\n      <use x=\"120.458984\" xlink:href=\"#DejaVuSans-108\"/>\n      <use x=\"148.242188\" xlink:href=\"#DejaVuSans-95\"/>\n      <use x=\"198.242188\" xlink:href=\"#DejaVuSans-108\"/>\n      <use x=\"226.025391\" xlink:href=\"#DejaVuSans-111\"/>\n      <use x=\"287.207031\" xlink:href=\"#DejaVuSans-115\"/>\n      <use x=\"339.306641\" xlink:href=\"#DejaVuSans-115\"/>\n     </g>\n    </g>\n   </g>\n  </g>\n </g>\n <defs>\n  <clipPath id=\"pe9e7dc02f1\">\n   <rect height=\"135.9\" width=\"195.3\" x=\"36.465625\" y=\"7.2\"/>\n  </clipPath>\n </defs>\n</svg>\n"
          },
          "metadata": {
            "needs_background": "light"
          }
        }
      ],
      "source": [
        "model = LinearRegressionScratch(2, lr=0.03)\n",
        "data = d2l.SyntheticRegressionData(w=torch.tensor([2, -3.4]), b=4.2)\n",
        "trainer = d2l.Trainer(max_epochs=3)\n",
        "trainer.fit(model, data)"
      ]
    },
    {
      "cell_type": "markdown",
      "id": "363ca79f",
      "metadata": {
        "origin_pos": 31,
        "id": "363ca79f"
      },
      "source": [
        "Because we synthesized the dataset ourselves,\n",
        "we know precisely what the true parameters are.\n",
        "Thus, we can [**evaluate our success in training\n",
        "by comparing the true parameters\n",
        "with those that we learned**] through our training loop.\n",
        "Indeed they turn out to be very close to each other.\n"
      ]
    },
    {
      "cell_type": "code",
      "execution_count": 12,
      "id": "bf94655b",
      "metadata": {
        "execution": {
          "iopub.execute_input": "2022-12-14T05:41:39.475629Z",
          "iopub.status.busy": "2022-12-14T05:41:39.475354Z",
          "iopub.status.idle": "2022-12-14T05:41:39.481113Z",
          "shell.execute_reply": "2022-12-14T05:41:39.480344Z"
        },
        "origin_pos": 32,
        "tab": [
          "pytorch"
        ],
        "colab": {
          "base_uri": "https://localhost:8080/"
        },
        "id": "bf94655b",
        "outputId": "c31cfb3d-2fbc-439b-ae4b-5153e7e64cf5"
      },
      "outputs": [
        {
          "output_type": "stream",
          "name": "stdout",
          "text": [
            "error in estimating w: tensor([ 0.0662, -0.1826], grad_fn=<SubBackward0>)\n",
            "error in estimating b: tensor([0.1964], grad_fn=<RsubBackward1>)\n"
          ]
        }
      ],
      "source": [
        "print(f'error in estimating w: {data.w - model.w.reshape(data.w.shape)}')\n",
        "print(f'error in estimating b: {data.b - model.b}')"
      ]
    },
    {
      "cell_type": "markdown",
      "id": "50642ea6",
      "metadata": {
        "origin_pos": 34,
        "id": "50642ea6"
      },
      "source": [
        "We should not take the ability to exactly recover \n",
        "the ground-truth parameters for granted.\n",
        "In general, for deep models unique solutions\n",
        "for the parameters do not exist,\n",
        "and even for linear models,\n",
        "exactly recovering the parameters\n",
        "is only possible when no feature \n",
        "is linearly dependent on the others.\n",
        "However, in machine learning, \n",
        "we are often less concerned\n",
        "with recovering true underlying parameters,\n",
        "and more concerned with parameters \n",
        "that lead to highly accurate prediction :cite:`Vapnik.1992`.\n",
        "Fortunately, even on difficult optimization problems,\n",
        "stochastic gradient descent can often find remarkably good solutions,\n",
        "owing partly to the fact that, for deep networks,\n",
        "there exist many configurations of the parameters\n",
        "that lead to highly accurate prediction.\n",
        "\n",
        "\n",
        "## Summary\n",
        "\n",
        "In this section, we took a significant step \n",
        "towards designing deep learning systems \n",
        "by implementing a fully functional \n",
        "neural network model and training loop.\n",
        "In this process, we built a data loader, \n",
        "a model, a loss function, an optimization procedure,\n",
        "and a visualization and monitoring tool. \n",
        "We did this by composing a Python object \n",
        "that contains all relevant components for training a model. \n",
        "While this is not yet a professional-grade implementation\n",
        "it is perfectly functional and code like this \n",
        "could already help you to solve small problems quickly.\n",
        "In the next sections, we will see how to do this\n",
        "both *more concisely* (avoiding boilerplate code)\n",
        "and *more efficiently* (use our GPUs to their full potential).\n",
        "\n",
        "\n",
        "\n",
        "## Exercises\n",
        "\n",
        "1. What would happen if we were to initialize the weights to zero. Would the algorithm still work? What if we\n",
        "   initialized the parameters with variance $1,000$ rather than $0.01$?\n",
        "1. Assume that you are [Georg Simon Ohm](https://en.wikipedia.org/wiki/Georg_Ohm) trying to come up\n",
        "   with a model for resistors that relate voltage and current. Can you use automatic\n",
        "   differentiation to learn the parameters of your model?\n",
        "1. Can you use [Planck's Law](https://en.wikipedia.org/wiki/Planck%27s_law) to determine the temperature of an object\n",
        "   using spectral energy density? For reference, the spectral density $B$ of radiation emanating from a black body is\n",
        "   $B(\\lambda, T) = \\frac{2 hc^2}{\\lambda^5} \\cdot \\left(\\exp \\frac{h c}{\\lambda k T} - 1\\right)^{-1}$. Here\n",
        "   $\\lambda$ is the wavelength, $T$ is the temperature, $c$ is the speed of light, $h$ is Planck's quantum, and $k$ is the\n",
        "   Boltzmann constant. You measure the energy for different wavelengths $\\lambda$ and you now need to fit the spectral\n",
        "   density curve to Planck's law.\n",
        "1. What are the problems you might encounter if you wanted to compute the second derivatives of the loss? How would\n",
        "   you fix them?\n",
        "1. Why is the `reshape` method needed in the `loss` function?\n",
        "1. Experiment using different learning rates to find out how quickly the loss function value drops. Can you reduce the\n",
        "   error by increasing the number of epochs of training?\n",
        "1. If the number of examples cannot be divided by the batch size, what happens to `data_iter` at the end of an epoch?\n",
        "1. Try implementing a different loss function, such as the absolute value loss `(y_hat - d2l.reshape(y, y_hat.shape)).abs().sum()`.\n",
        "    1. Check what happens for regular data.\n",
        "    1. Check whether there is a difference in behavior if you actively perturb some entries of $\\mathbf{y}$,\n",
        "       such as $y_5 = 10,000$.\n",
        "    1. Can you think of a cheap solution for combining the best aspects of squared loss and absolute value loss?\n",
        "       Hint: how can you avoid really large gradient values?\n",
        "1. Why do we need to reshuffle the dataset? Can you design a case where a maliciously dataset would break the\n",
        "   optimization algorithm otherwise?\n"
      ]
    },
    {
      "cell_type": "code",
      "source": [
        "# 1. What would happen if we were to initialize the weights to zero. Would the algorithm still work? \n",
        "'''Algorithm still works. If all the weights are initialized to zeros, the derivatives will remain same for every w in W[l]. \n",
        "As a result, neurons will learn same features in each iterations. \n",
        "This problem is known as network failing to break symmetry. \n",
        "And not only zero, any constant initialization will produce a poor result.'''\n",
        "\n",
        "#What if we initialized the parameters with variance 1,000 rather than 0.01?\n",
        "''' training error start with a huge quantity, and ends with a number increase by two orders of magnitude for both w and b. '''\n",
        "model = LinearRegressionScratch(2, lr=0.03,sigma =1000)\n",
        "data = d2l.SyntheticRegressionData(w=torch.zeros(2), b=4.2)\n",
        "trainer = d2l.Trainer(max_epochs=3)\n",
        "trainer.fit(model, data)"
      ],
      "metadata": {
        "colab": {
          "base_uri": "https://localhost:8080/",
          "height": 262
        },
        "id": "B05Tkz0rl5pB",
        "outputId": "05bc10f1-e9a9-4f94-e4df-c7e70f95336d"
      },
      "id": "B05Tkz0rl5pB",
      "execution_count": 15,
      "outputs": [
        {
          "output_type": "display_data",
          "data": {
            "text/plain": [
              "<Figure size 252x180 with 1 Axes>"
            ],
            "image/svg+xml": "<?xml version=\"1.0\" encoding=\"utf-8\" standalone=\"no\"?>\n<!DOCTYPE svg PUBLIC \"-//W3C//DTD SVG 1.1//EN\"\n  \"http://www.w3.org/Graphics/SVG/1.1/DTD/svg11.dtd\">\n<!-- Created with matplotlib (https://matplotlib.org/) -->\n<svg height=\"180.65625pt\" version=\"1.1\" viewBox=\"0 0 262.826562 180.65625\" width=\"262.826562pt\" xmlns=\"http://www.w3.org/2000/svg\" xmlns:xlink=\"http://www.w3.org/1999/xlink\">\n <defs>\n  <style type=\"text/css\">\n*{stroke-linecap:butt;stroke-linejoin:round;}\n  </style>\n </defs>\n <g id=\"figure_1\">\n  <g id=\"patch_1\">\n   <path d=\"M 0 180.65625 \nL 262.826562 180.65625 \nL 262.826562 0 \nL 0 0 \nz\n\" style=\"fill:none;\"/>\n  </g>\n  <g id=\"axes_1\">\n   <g id=\"patch_2\">\n    <path d=\"M 52.375 143.1 \nL 247.675 143.1 \nL 247.675 7.2 \nL 52.375 7.2 \nz\n\" style=\"fill:#ffffff;\"/>\n   </g>\n   <g id=\"matplotlib.axis_1\">\n    <g id=\"xtick_1\">\n     <g id=\"line2d_1\">\n      <defs>\n       <path d=\"M 0 0 \nL 0 3.5 \n\" id=\"meed93726b9\" style=\"stroke:#000000;stroke-width:0.8;\"/>\n      </defs>\n      <g>\n       <use style=\"stroke:#000000;stroke-width:0.8;\" x=\"52.375\" xlink:href=\"#meed93726b9\" y=\"143.1\"/>\n      </g>\n     </g>\n     <g id=\"text_1\">\n      <!-- 0.0 -->\n      <defs>\n       <path d=\"M 31.78125 66.40625 \nQ 24.171875 66.40625 20.328125 58.90625 \nQ 16.5 51.421875 16.5 36.375 \nQ 16.5 21.390625 20.328125 13.890625 \nQ 24.171875 6.390625 31.78125 6.390625 \nQ 39.453125 6.390625 43.28125 13.890625 \nQ 47.125 21.390625 47.125 36.375 \nQ 47.125 51.421875 43.28125 58.90625 \nQ 39.453125 66.40625 31.78125 66.40625 \nz\nM 31.78125 74.21875 \nQ 44.046875 74.21875 50.515625 64.515625 \nQ 56.984375 54.828125 56.984375 36.375 \nQ 56.984375 17.96875 50.515625 8.265625 \nQ 44.046875 -1.421875 31.78125 -1.421875 \nQ 19.53125 -1.421875 13.0625 8.265625 \nQ 6.59375 17.96875 6.59375 36.375 \nQ 6.59375 54.828125 13.0625 64.515625 \nQ 19.53125 74.21875 31.78125 74.21875 \nz\n\" id=\"DejaVuSans-48\"/>\n       <path d=\"M 10.6875 12.40625 \nL 21 12.40625 \nL 21 0 \nL 10.6875 0 \nz\n\" id=\"DejaVuSans-46\"/>\n      </defs>\n      <g transform=\"translate(44.423437 157.698438)scale(0.1 -0.1)\">\n       <use xlink:href=\"#DejaVuSans-48\"/>\n       <use x=\"63.623047\" xlink:href=\"#DejaVuSans-46\"/>\n       <use x=\"95.410156\" xlink:href=\"#DejaVuSans-48\"/>\n      </g>\n     </g>\n    </g>\n    <g id=\"xtick_2\">\n     <g id=\"line2d_2\">\n      <g>\n       <use style=\"stroke:#000000;stroke-width:0.8;\" x=\"84.925\" xlink:href=\"#meed93726b9\" y=\"143.1\"/>\n      </g>\n     </g>\n     <g id=\"text_2\">\n      <!-- 0.5 -->\n      <defs>\n       <path d=\"M 10.796875 72.90625 \nL 49.515625 72.90625 \nL 49.515625 64.59375 \nL 19.828125 64.59375 \nL 19.828125 46.734375 \nQ 21.96875 47.46875 24.109375 47.828125 \nQ 26.265625 48.1875 28.421875 48.1875 \nQ 40.625 48.1875 47.75 41.5 \nQ 54.890625 34.8125 54.890625 23.390625 \nQ 54.890625 11.625 47.5625 5.09375 \nQ 40.234375 -1.421875 26.90625 -1.421875 \nQ 22.3125 -1.421875 17.546875 -0.640625 \nQ 12.796875 0.140625 7.71875 1.703125 \nL 7.71875 11.625 \nQ 12.109375 9.234375 16.796875 8.0625 \nQ 21.484375 6.890625 26.703125 6.890625 \nQ 35.15625 6.890625 40.078125 11.328125 \nQ 45.015625 15.765625 45.015625 23.390625 \nQ 45.015625 31 40.078125 35.4375 \nQ 35.15625 39.890625 26.703125 39.890625 \nQ 22.75 39.890625 18.8125 39.015625 \nQ 14.890625 38.140625 10.796875 36.28125 \nz\n\" id=\"DejaVuSans-53\"/>\n      </defs>\n      <g transform=\"translate(76.973438 157.698438)scale(0.1 -0.1)\">\n       <use xlink:href=\"#DejaVuSans-48\"/>\n       <use x=\"63.623047\" xlink:href=\"#DejaVuSans-46\"/>\n       <use x=\"95.410156\" xlink:href=\"#DejaVuSans-53\"/>\n      </g>\n     </g>\n    </g>\n    <g id=\"xtick_3\">\n     <g id=\"line2d_3\">\n      <g>\n       <use style=\"stroke:#000000;stroke-width:0.8;\" x=\"117.475\" xlink:href=\"#meed93726b9\" y=\"143.1\"/>\n      </g>\n     </g>\n     <g id=\"text_3\">\n      <!-- 1.0 -->\n      <defs>\n       <path d=\"M 12.40625 8.296875 \nL 28.515625 8.296875 \nL 28.515625 63.921875 \nL 10.984375 60.40625 \nL 10.984375 69.390625 \nL 28.421875 72.90625 \nL 38.28125 72.90625 \nL 38.28125 8.296875 \nL 54.390625 8.296875 \nL 54.390625 0 \nL 12.40625 0 \nz\n\" id=\"DejaVuSans-49\"/>\n      </defs>\n      <g transform=\"translate(109.523438 157.698438)scale(0.1 -0.1)\">\n       <use xlink:href=\"#DejaVuSans-49\"/>\n       <use x=\"63.623047\" xlink:href=\"#DejaVuSans-46\"/>\n       <use x=\"95.410156\" xlink:href=\"#DejaVuSans-48\"/>\n      </g>\n     </g>\n    </g>\n    <g id=\"xtick_4\">\n     <g id=\"line2d_4\">\n      <g>\n       <use style=\"stroke:#000000;stroke-width:0.8;\" x=\"150.025\" xlink:href=\"#meed93726b9\" y=\"143.1\"/>\n      </g>\n     </g>\n     <g id=\"text_4\">\n      <!-- 1.5 -->\n      <g transform=\"translate(142.073437 157.698438)scale(0.1 -0.1)\">\n       <use xlink:href=\"#DejaVuSans-49\"/>\n       <use x=\"63.623047\" xlink:href=\"#DejaVuSans-46\"/>\n       <use x=\"95.410156\" xlink:href=\"#DejaVuSans-53\"/>\n      </g>\n     </g>\n    </g>\n    <g id=\"xtick_5\">\n     <g id=\"line2d_5\">\n      <g>\n       <use style=\"stroke:#000000;stroke-width:0.8;\" x=\"182.575\" xlink:href=\"#meed93726b9\" y=\"143.1\"/>\n      </g>\n     </g>\n     <g id=\"text_5\">\n      <!-- 2.0 -->\n      <defs>\n       <path d=\"M 19.1875 8.296875 \nL 53.609375 8.296875 \nL 53.609375 0 \nL 7.328125 0 \nL 7.328125 8.296875 \nQ 12.9375 14.109375 22.625 23.890625 \nQ 32.328125 33.6875 34.8125 36.53125 \nQ 39.546875 41.84375 41.421875 45.53125 \nQ 43.3125 49.21875 43.3125 52.78125 \nQ 43.3125 58.59375 39.234375 62.25 \nQ 35.15625 65.921875 28.609375 65.921875 \nQ 23.96875 65.921875 18.8125 64.3125 \nQ 13.671875 62.703125 7.8125 59.421875 \nL 7.8125 69.390625 \nQ 13.765625 71.78125 18.9375 73 \nQ 24.125 74.21875 28.421875 74.21875 \nQ 39.75 74.21875 46.484375 68.546875 \nQ 53.21875 62.890625 53.21875 53.421875 \nQ 53.21875 48.921875 51.53125 44.890625 \nQ 49.859375 40.875 45.40625 35.40625 \nQ 44.1875 33.984375 37.640625 27.21875 \nQ 31.109375 20.453125 19.1875 8.296875 \nz\n\" id=\"DejaVuSans-50\"/>\n      </defs>\n      <g transform=\"translate(174.623437 157.698438)scale(0.1 -0.1)\">\n       <use xlink:href=\"#DejaVuSans-50\"/>\n       <use x=\"63.623047\" xlink:href=\"#DejaVuSans-46\"/>\n       <use x=\"95.410156\" xlink:href=\"#DejaVuSans-48\"/>\n      </g>\n     </g>\n    </g>\n    <g id=\"xtick_6\">\n     <g id=\"line2d_6\">\n      <g>\n       <use style=\"stroke:#000000;stroke-width:0.8;\" x=\"215.125\" xlink:href=\"#meed93726b9\" y=\"143.1\"/>\n      </g>\n     </g>\n     <g id=\"text_6\">\n      <!-- 2.5 -->\n      <g transform=\"translate(207.173438 157.698438)scale(0.1 -0.1)\">\n       <use xlink:href=\"#DejaVuSans-50\"/>\n       <use x=\"63.623047\" xlink:href=\"#DejaVuSans-46\"/>\n       <use x=\"95.410156\" xlink:href=\"#DejaVuSans-53\"/>\n      </g>\n     </g>\n    </g>\n    <g id=\"xtick_7\">\n     <g id=\"line2d_7\">\n      <g>\n       <use style=\"stroke:#000000;stroke-width:0.8;\" x=\"247.675\" xlink:href=\"#meed93726b9\" y=\"143.1\"/>\n      </g>\n     </g>\n     <g id=\"text_7\">\n      <!-- 3.0 -->\n      <defs>\n       <path d=\"M 40.578125 39.3125 \nQ 47.65625 37.796875 51.625 33 \nQ 55.609375 28.21875 55.609375 21.1875 \nQ 55.609375 10.40625 48.1875 4.484375 \nQ 40.765625 -1.421875 27.09375 -1.421875 \nQ 22.515625 -1.421875 17.65625 -0.515625 \nQ 12.796875 0.390625 7.625 2.203125 \nL 7.625 11.71875 \nQ 11.71875 9.328125 16.59375 8.109375 \nQ 21.484375 6.890625 26.8125 6.890625 \nQ 36.078125 6.890625 40.9375 10.546875 \nQ 45.796875 14.203125 45.796875 21.1875 \nQ 45.796875 27.640625 41.28125 31.265625 \nQ 36.765625 34.90625 28.71875 34.90625 \nL 20.21875 34.90625 \nL 20.21875 43.015625 \nL 29.109375 43.015625 \nQ 36.375 43.015625 40.234375 45.921875 \nQ 44.09375 48.828125 44.09375 54.296875 \nQ 44.09375 59.90625 40.109375 62.90625 \nQ 36.140625 65.921875 28.71875 65.921875 \nQ 24.65625 65.921875 20.015625 65.03125 \nQ 15.375 64.15625 9.8125 62.3125 \nL 9.8125 71.09375 \nQ 15.4375 72.65625 20.34375 73.4375 \nQ 25.25 74.21875 29.59375 74.21875 \nQ 40.828125 74.21875 47.359375 69.109375 \nQ 53.90625 64.015625 53.90625 55.328125 \nQ 53.90625 49.265625 50.4375 45.09375 \nQ 46.96875 40.921875 40.578125 39.3125 \nz\n\" id=\"DejaVuSans-51\"/>\n      </defs>\n      <g transform=\"translate(239.723437 157.698438)scale(0.1 -0.1)\">\n       <use xlink:href=\"#DejaVuSans-51\"/>\n       <use x=\"63.623047\" xlink:href=\"#DejaVuSans-46\"/>\n       <use x=\"95.410156\" xlink:href=\"#DejaVuSans-48\"/>\n      </g>\n     </g>\n    </g>\n    <g id=\"text_8\">\n     <!-- epoch -->\n     <defs>\n      <path d=\"M 56.203125 29.59375 \nL 56.203125 25.203125 \nL 14.890625 25.203125 \nQ 15.484375 15.921875 20.484375 11.0625 \nQ 25.484375 6.203125 34.421875 6.203125 \nQ 39.59375 6.203125 44.453125 7.46875 \nQ 49.3125 8.734375 54.109375 11.28125 \nL 54.109375 2.78125 \nQ 49.265625 0.734375 44.1875 -0.34375 \nQ 39.109375 -1.421875 33.890625 -1.421875 \nQ 20.796875 -1.421875 13.15625 6.1875 \nQ 5.515625 13.8125 5.515625 26.8125 \nQ 5.515625 40.234375 12.765625 48.109375 \nQ 20.015625 56 32.328125 56 \nQ 43.359375 56 49.78125 48.890625 \nQ 56.203125 41.796875 56.203125 29.59375 \nz\nM 47.21875 32.234375 \nQ 47.125 39.59375 43.09375 43.984375 \nQ 39.0625 48.390625 32.421875 48.390625 \nQ 24.90625 48.390625 20.390625 44.140625 \nQ 15.875 39.890625 15.1875 32.171875 \nz\n\" id=\"DejaVuSans-101\"/>\n      <path d=\"M 18.109375 8.203125 \nL 18.109375 -20.796875 \nL 9.078125 -20.796875 \nL 9.078125 54.6875 \nL 18.109375 54.6875 \nL 18.109375 46.390625 \nQ 20.953125 51.265625 25.265625 53.625 \nQ 29.59375 56 35.59375 56 \nQ 45.5625 56 51.78125 48.09375 \nQ 58.015625 40.1875 58.015625 27.296875 \nQ 58.015625 14.40625 51.78125 6.484375 \nQ 45.5625 -1.421875 35.59375 -1.421875 \nQ 29.59375 -1.421875 25.265625 0.953125 \nQ 20.953125 3.328125 18.109375 8.203125 \nz\nM 48.6875 27.296875 \nQ 48.6875 37.203125 44.609375 42.84375 \nQ 40.53125 48.484375 33.40625 48.484375 \nQ 26.265625 48.484375 22.1875 42.84375 \nQ 18.109375 37.203125 18.109375 27.296875 \nQ 18.109375 17.390625 22.1875 11.75 \nQ 26.265625 6.109375 33.40625 6.109375 \nQ 40.53125 6.109375 44.609375 11.75 \nQ 48.6875 17.390625 48.6875 27.296875 \nz\n\" id=\"DejaVuSans-112\"/>\n      <path d=\"M 30.609375 48.390625 \nQ 23.390625 48.390625 19.1875 42.75 \nQ 14.984375 37.109375 14.984375 27.296875 \nQ 14.984375 17.484375 19.15625 11.84375 \nQ 23.34375 6.203125 30.609375 6.203125 \nQ 37.796875 6.203125 41.984375 11.859375 \nQ 46.1875 17.53125 46.1875 27.296875 \nQ 46.1875 37.015625 41.984375 42.703125 \nQ 37.796875 48.390625 30.609375 48.390625 \nz\nM 30.609375 56 \nQ 42.328125 56 49.015625 48.375 \nQ 55.71875 40.765625 55.71875 27.296875 \nQ 55.71875 13.875 49.015625 6.21875 \nQ 42.328125 -1.421875 30.609375 -1.421875 \nQ 18.84375 -1.421875 12.171875 6.21875 \nQ 5.515625 13.875 5.515625 27.296875 \nQ 5.515625 40.765625 12.171875 48.375 \nQ 18.84375 56 30.609375 56 \nz\n\" id=\"DejaVuSans-111\"/>\n      <path d=\"M 48.78125 52.59375 \nL 48.78125 44.1875 \nQ 44.96875 46.296875 41.140625 47.34375 \nQ 37.3125 48.390625 33.40625 48.390625 \nQ 24.65625 48.390625 19.8125 42.84375 \nQ 14.984375 37.3125 14.984375 27.296875 \nQ 14.984375 17.28125 19.8125 11.734375 \nQ 24.65625 6.203125 33.40625 6.203125 \nQ 37.3125 6.203125 41.140625 7.25 \nQ 44.96875 8.296875 48.78125 10.40625 \nL 48.78125 2.09375 \nQ 45.015625 0.34375 40.984375 -0.53125 \nQ 36.96875 -1.421875 32.421875 -1.421875 \nQ 20.0625 -1.421875 12.78125 6.34375 \nQ 5.515625 14.109375 5.515625 27.296875 \nQ 5.515625 40.671875 12.859375 48.328125 \nQ 20.21875 56 33.015625 56 \nQ 37.15625 56 41.109375 55.140625 \nQ 45.0625 54.296875 48.78125 52.59375 \nz\n\" id=\"DejaVuSans-99\"/>\n      <path d=\"M 54.890625 33.015625 \nL 54.890625 0 \nL 45.90625 0 \nL 45.90625 32.71875 \nQ 45.90625 40.484375 42.875 44.328125 \nQ 39.84375 48.1875 33.796875 48.1875 \nQ 26.515625 48.1875 22.3125 43.546875 \nQ 18.109375 38.921875 18.109375 30.90625 \nL 18.109375 0 \nL 9.078125 0 \nL 9.078125 75.984375 \nL 18.109375 75.984375 \nL 18.109375 46.1875 \nQ 21.34375 51.125 25.703125 53.5625 \nQ 30.078125 56 35.796875 56 \nQ 45.21875 56 50.046875 50.171875 \nQ 54.890625 44.34375 54.890625 33.015625 \nz\n\" id=\"DejaVuSans-104\"/>\n     </defs>\n     <g transform=\"translate(134.796875 171.376563)scale(0.1 -0.1)\">\n      <use xlink:href=\"#DejaVuSans-101\"/>\n      <use x=\"61.523438\" xlink:href=\"#DejaVuSans-112\"/>\n      <use x=\"125\" xlink:href=\"#DejaVuSans-111\"/>\n      <use x=\"186.181641\" xlink:href=\"#DejaVuSans-99\"/>\n      <use x=\"241.162109\" xlink:href=\"#DejaVuSans-104\"/>\n     </g>\n    </g>\n   </g>\n   <g id=\"matplotlib.axis_2\">\n    <g id=\"ytick_1\">\n     <g id=\"line2d_8\">\n      <defs>\n       <path d=\"M 0 0 \nL -3.5 0 \n\" id=\"m0f4f3b8741\" style=\"stroke:#000000;stroke-width:0.8;\"/>\n      </defs>\n      <g>\n       <use style=\"stroke:#000000;stroke-width:0.8;\" x=\"52.375\" xlink:href=\"#m0f4f3b8741\" y=\"137.376825\"/>\n      </g>\n     </g>\n     <g id=\"text_9\">\n      <!-- 0 -->\n      <g transform=\"translate(39.0125 141.176044)scale(0.1 -0.1)\">\n       <use xlink:href=\"#DejaVuSans-48\"/>\n      </g>\n     </g>\n    </g>\n    <g id=\"ytick_2\">\n     <g id=\"line2d_9\">\n      <g>\n       <use style=\"stroke:#000000;stroke-width:0.8;\" x=\"52.375\" xlink:href=\"#m0f4f3b8741\" y=\"93.122395\"/>\n      </g>\n     </g>\n     <g id=\"text_10\">\n      <!-- 50000 -->\n      <g transform=\"translate(13.5625 96.921614)scale(0.1 -0.1)\">\n       <use xlink:href=\"#DejaVuSans-53\"/>\n       <use x=\"63.623047\" xlink:href=\"#DejaVuSans-48\"/>\n       <use x=\"127.246094\" xlink:href=\"#DejaVuSans-48\"/>\n       <use x=\"190.869141\" xlink:href=\"#DejaVuSans-48\"/>\n       <use x=\"254.492188\" xlink:href=\"#DejaVuSans-48\"/>\n      </g>\n     </g>\n    </g>\n    <g id=\"ytick_3\">\n     <g id=\"line2d_10\">\n      <g>\n       <use style=\"stroke:#000000;stroke-width:0.8;\" x=\"52.375\" xlink:href=\"#m0f4f3b8741\" y=\"48.867966\"/>\n      </g>\n     </g>\n     <g id=\"text_11\">\n      <!-- 100000 -->\n      <g transform=\"translate(7.2 52.667184)scale(0.1 -0.1)\">\n       <use xlink:href=\"#DejaVuSans-49\"/>\n       <use x=\"63.623047\" xlink:href=\"#DejaVuSans-48\"/>\n       <use x=\"127.246094\" xlink:href=\"#DejaVuSans-48\"/>\n       <use x=\"190.869141\" xlink:href=\"#DejaVuSans-48\"/>\n       <use x=\"254.492188\" xlink:href=\"#DejaVuSans-48\"/>\n       <use x=\"318.115234\" xlink:href=\"#DejaVuSans-48\"/>\n      </g>\n     </g>\n    </g>\n   </g>\n   <g id=\"line2d_11\">\n    <path clip-path=\"url(#p32beba21ce)\" d=\"M 67.632812 13.377273 \n\" style=\"fill:none;stroke:#1f77b4;stroke-linecap:square;stroke-width:1.5;\"/>\n   </g>\n   <g id=\"line2d_12\">\n    <path clip-path=\"url(#p32beba21ce)\" d=\"M 67.632812 13.377273 \nL 100.182812 84.127053 \n\" style=\"fill:none;stroke:#1f77b4;stroke-linecap:square;stroke-width:1.5;\"/>\n   </g>\n   <g id=\"line2d_13\">\n    <path clip-path=\"url(#p32beba21ce)\" d=\"M 67.632812 13.377273 \nL 100.182812 84.127053 \n\" style=\"fill:none;stroke:#1f77b4;stroke-linecap:square;stroke-width:1.5;\"/>\n   </g>\n   <g id=\"line2d_14\">\n    <path clip-path=\"url(#p32beba21ce)\" d=\"M 117.475 114.35615 \n\" style=\"fill:none;stroke:#ff7f0e;stroke-dasharray:5.55,2.4;stroke-dashoffset:0;stroke-width:1.5;\"/>\n   </g>\n   <g id=\"line2d_15\">\n    <path clip-path=\"url(#p32beba21ce)\" d=\"M 67.632812 13.377273 \nL 100.182812 84.127053 \nL 132.732812 120.963482 \n\" style=\"fill:none;stroke:#1f77b4;stroke-linecap:square;stroke-width:1.5;\"/>\n   </g>\n   <g id=\"line2d_16\">\n    <path clip-path=\"url(#p32beba21ce)\" d=\"M 117.475 114.35615 \n\" style=\"fill:none;stroke:#ff7f0e;stroke-dasharray:5.55,2.4;stroke-dashoffset:0;stroke-width:1.5;\"/>\n   </g>\n   <g id=\"line2d_17\">\n    <path clip-path=\"url(#p32beba21ce)\" d=\"M 67.632812 13.377273 \nL 100.182812 84.127053 \nL 132.732812 120.963482 \nL 165.282812 131.125352 \n\" style=\"fill:none;stroke:#1f77b4;stroke-linecap:square;stroke-width:1.5;\"/>\n   </g>\n   <g id=\"line2d_18\">\n    <path clip-path=\"url(#p32beba21ce)\" d=\"M 117.475 114.35615 \n\" style=\"fill:none;stroke:#ff7f0e;stroke-dasharray:5.55,2.4;stroke-dashoffset:0;stroke-width:1.5;\"/>\n   </g>\n   <g id=\"line2d_19\">\n    <path clip-path=\"url(#p32beba21ce)\" d=\"M 67.632812 13.377273 \nL 100.182812 84.127053 \nL 132.732812 120.963482 \nL 165.282812 131.125352 \n\" style=\"fill:none;stroke:#1f77b4;stroke-linecap:square;stroke-width:1.5;\"/>\n   </g>\n   <g id=\"line2d_20\">\n    <path clip-path=\"url(#p32beba21ce)\" d=\"M 117.475 114.35615 \nL 182.575 134.044748 \n\" style=\"fill:none;stroke:#ff7f0e;stroke-dasharray:5.55,2.4;stroke-dashoffset:0;stroke-width:1.5;\"/>\n   </g>\n   <g id=\"line2d_21\">\n    <path clip-path=\"url(#p32beba21ce)\" d=\"M 67.632812 13.377273 \nL 100.182812 84.127053 \nL 132.732812 120.963482 \nL 165.282812 131.125352 \nL 197.832812 135.001158 \n\" style=\"fill:none;stroke:#1f77b4;stroke-linecap:square;stroke-width:1.5;\"/>\n   </g>\n   <g id=\"line2d_22\">\n    <path clip-path=\"url(#p32beba21ce)\" d=\"M 117.475 114.35615 \nL 182.575 134.044748 \n\" style=\"fill:none;stroke:#ff7f0e;stroke-dasharray:5.55,2.4;stroke-dashoffset:0;stroke-width:1.5;\"/>\n   </g>\n   <g id=\"line2d_23\">\n    <path clip-path=\"url(#p32beba21ce)\" d=\"M 67.632812 13.377273 \nL 100.182812 84.127053 \nL 132.732812 120.963482 \nL 165.282812 131.125352 \nL 197.832812 135.001158 \nL 230.382812 136.443259 \n\" style=\"fill:none;stroke:#1f77b4;stroke-linecap:square;stroke-width:1.5;\"/>\n   </g>\n   <g id=\"line2d_24\">\n    <path clip-path=\"url(#p32beba21ce)\" d=\"M 117.475 114.35615 \nL 182.575 134.044748 \n\" style=\"fill:none;stroke:#ff7f0e;stroke-dasharray:5.55,2.4;stroke-dashoffset:0;stroke-width:1.5;\"/>\n   </g>\n   <g id=\"line2d_25\">\n    <path clip-path=\"url(#p32beba21ce)\" d=\"M 67.632812 13.377273 \nL 100.182812 84.127053 \nL 132.732812 120.963482 \nL 165.282812 131.125352 \nL 197.832812 135.001158 \nL 230.382812 136.443259 \n\" style=\"fill:none;stroke:#1f77b4;stroke-linecap:square;stroke-width:1.5;\"/>\n   </g>\n   <g id=\"line2d_26\">\n    <path clip-path=\"url(#p32beba21ce)\" d=\"M 117.475 114.35615 \nL 182.575 134.044748 \nL 247.675 136.922727 \n\" style=\"fill:none;stroke:#ff7f0e;stroke-dasharray:5.55,2.4;stroke-dashoffset:0;stroke-width:1.5;\"/>\n   </g>\n   <g id=\"patch_3\">\n    <path d=\"M 52.375 143.1 \nL 52.375 7.2 \n\" style=\"fill:none;stroke:#000000;stroke-linecap:square;stroke-linejoin:miter;stroke-width:0.8;\"/>\n   </g>\n   <g id=\"patch_4\">\n    <path d=\"M 247.675 143.1 \nL 247.675 7.2 \n\" style=\"fill:none;stroke:#000000;stroke-linecap:square;stroke-linejoin:miter;stroke-width:0.8;\"/>\n   </g>\n   <g id=\"patch_5\">\n    <path d=\"M 52.375 143.1 \nL 247.675 143.1 \n\" style=\"fill:none;stroke:#000000;stroke-linecap:square;stroke-linejoin:miter;stroke-width:0.8;\"/>\n   </g>\n   <g id=\"patch_6\">\n    <path d=\"M 52.375 7.2 \nL 247.675 7.2 \n\" style=\"fill:none;stroke:#000000;stroke-linecap:square;stroke-linejoin:miter;stroke-width:0.8;\"/>\n   </g>\n   <g id=\"legend_1\">\n    <g id=\"patch_7\">\n     <path d=\"M 161.084375 45.1125 \nL 240.675 45.1125 \nQ 242.675 45.1125 242.675 43.1125 \nL 242.675 14.2 \nQ 242.675 12.2 240.675 12.2 \nL 161.084375 12.2 \nQ 159.084375 12.2 159.084375 14.2 \nL 159.084375 43.1125 \nQ 159.084375 45.1125 161.084375 45.1125 \nz\n\" style=\"fill:#ffffff;opacity:0.8;stroke:#cccccc;stroke-linejoin:miter;\"/>\n    </g>\n    <g id=\"line2d_27\">\n     <path d=\"M 163.084375 20.298437 \nL 183.084375 20.298437 \n\" style=\"fill:none;stroke:#1f77b4;stroke-linecap:square;stroke-width:1.5;\"/>\n    </g>\n    <g id=\"line2d_28\"/>\n    <g id=\"text_12\">\n     <!-- train_loss -->\n     <defs>\n      <path d=\"M 18.3125 70.21875 \nL 18.3125 54.6875 \nL 36.8125 54.6875 \nL 36.8125 47.703125 \nL 18.3125 47.703125 \nL 18.3125 18.015625 \nQ 18.3125 11.328125 20.140625 9.421875 \nQ 21.96875 7.515625 27.59375 7.515625 \nL 36.8125 7.515625 \nL 36.8125 0 \nL 27.59375 0 \nQ 17.1875 0 13.234375 3.875 \nQ 9.28125 7.765625 9.28125 18.015625 \nL 9.28125 47.703125 \nL 2.6875 47.703125 \nL 2.6875 54.6875 \nL 9.28125 54.6875 \nL 9.28125 70.21875 \nz\n\" id=\"DejaVuSans-116\"/>\n      <path d=\"M 41.109375 46.296875 \nQ 39.59375 47.171875 37.8125 47.578125 \nQ 36.03125 48 33.890625 48 \nQ 26.265625 48 22.1875 43.046875 \nQ 18.109375 38.09375 18.109375 28.8125 \nL 18.109375 0 \nL 9.078125 0 \nL 9.078125 54.6875 \nL 18.109375 54.6875 \nL 18.109375 46.1875 \nQ 20.953125 51.171875 25.484375 53.578125 \nQ 30.03125 56 36.53125 56 \nQ 37.453125 56 38.578125 55.875 \nQ 39.703125 55.765625 41.0625 55.515625 \nz\n\" id=\"DejaVuSans-114\"/>\n      <path d=\"M 34.28125 27.484375 \nQ 23.390625 27.484375 19.1875 25 \nQ 14.984375 22.515625 14.984375 16.5 \nQ 14.984375 11.71875 18.140625 8.90625 \nQ 21.296875 6.109375 26.703125 6.109375 \nQ 34.1875 6.109375 38.703125 11.40625 \nQ 43.21875 16.703125 43.21875 25.484375 \nL 43.21875 27.484375 \nz\nM 52.203125 31.203125 \nL 52.203125 0 \nL 43.21875 0 \nL 43.21875 8.296875 \nQ 40.140625 3.328125 35.546875 0.953125 \nQ 30.953125 -1.421875 24.3125 -1.421875 \nQ 15.921875 -1.421875 10.953125 3.296875 \nQ 6 8.015625 6 15.921875 \nQ 6 25.140625 12.171875 29.828125 \nQ 18.359375 34.515625 30.609375 34.515625 \nL 43.21875 34.515625 \nL 43.21875 35.40625 \nQ 43.21875 41.609375 39.140625 45 \nQ 35.0625 48.390625 27.6875 48.390625 \nQ 23 48.390625 18.546875 47.265625 \nQ 14.109375 46.140625 10.015625 43.890625 \nL 10.015625 52.203125 \nQ 14.9375 54.109375 19.578125 55.046875 \nQ 24.21875 56 28.609375 56 \nQ 40.484375 56 46.34375 49.84375 \nQ 52.203125 43.703125 52.203125 31.203125 \nz\n\" id=\"DejaVuSans-97\"/>\n      <path d=\"M 9.421875 54.6875 \nL 18.40625 54.6875 \nL 18.40625 0 \nL 9.421875 0 \nz\nM 9.421875 75.984375 \nL 18.40625 75.984375 \nL 18.40625 64.59375 \nL 9.421875 64.59375 \nz\n\" id=\"DejaVuSans-105\"/>\n      <path d=\"M 54.890625 33.015625 \nL 54.890625 0 \nL 45.90625 0 \nL 45.90625 32.71875 \nQ 45.90625 40.484375 42.875 44.328125 \nQ 39.84375 48.1875 33.796875 48.1875 \nQ 26.515625 48.1875 22.3125 43.546875 \nQ 18.109375 38.921875 18.109375 30.90625 \nL 18.109375 0 \nL 9.078125 0 \nL 9.078125 54.6875 \nL 18.109375 54.6875 \nL 18.109375 46.1875 \nQ 21.34375 51.125 25.703125 53.5625 \nQ 30.078125 56 35.796875 56 \nQ 45.21875 56 50.046875 50.171875 \nQ 54.890625 44.34375 54.890625 33.015625 \nz\n\" id=\"DejaVuSans-110\"/>\n      <path d=\"M 50.984375 -16.609375 \nL 50.984375 -23.578125 \nL -0.984375 -23.578125 \nL -0.984375 -16.609375 \nz\n\" id=\"DejaVuSans-95\"/>\n      <path d=\"M 9.421875 75.984375 \nL 18.40625 75.984375 \nL 18.40625 0 \nL 9.421875 0 \nz\n\" id=\"DejaVuSans-108\"/>\n      <path d=\"M 44.28125 53.078125 \nL 44.28125 44.578125 \nQ 40.484375 46.53125 36.375 47.5 \nQ 32.28125 48.484375 27.875 48.484375 \nQ 21.1875 48.484375 17.84375 46.4375 \nQ 14.5 44.390625 14.5 40.28125 \nQ 14.5 37.15625 16.890625 35.375 \nQ 19.28125 33.59375 26.515625 31.984375 \nL 29.59375 31.296875 \nQ 39.15625 29.25 43.1875 25.515625 \nQ 47.21875 21.78125 47.21875 15.09375 \nQ 47.21875 7.46875 41.1875 3.015625 \nQ 35.15625 -1.421875 24.609375 -1.421875 \nQ 20.21875 -1.421875 15.453125 -0.5625 \nQ 10.6875 0.296875 5.421875 2 \nL 5.421875 11.28125 \nQ 10.40625 8.6875 15.234375 7.390625 \nQ 20.0625 6.109375 24.8125 6.109375 \nQ 31.15625 6.109375 34.5625 8.28125 \nQ 37.984375 10.453125 37.984375 14.40625 \nQ 37.984375 18.0625 35.515625 20.015625 \nQ 33.0625 21.96875 24.703125 23.78125 \nL 21.578125 24.515625 \nQ 13.234375 26.265625 9.515625 29.90625 \nQ 5.8125 33.546875 5.8125 39.890625 \nQ 5.8125 47.609375 11.28125 51.796875 \nQ 16.75 56 26.8125 56 \nQ 31.78125 56 36.171875 55.265625 \nQ 40.578125 54.546875 44.28125 53.078125 \nz\n\" id=\"DejaVuSans-115\"/>\n     </defs>\n     <g transform=\"translate(191.084375 23.798437)scale(0.1 -0.1)\">\n      <use xlink:href=\"#DejaVuSans-116\"/>\n      <use x=\"39.208984\" xlink:href=\"#DejaVuSans-114\"/>\n      <use x=\"80.322266\" xlink:href=\"#DejaVuSans-97\"/>\n      <use x=\"141.601562\" xlink:href=\"#DejaVuSans-105\"/>\n      <use x=\"169.384766\" xlink:href=\"#DejaVuSans-110\"/>\n      <use x=\"232.763672\" xlink:href=\"#DejaVuSans-95\"/>\n      <use x=\"282.763672\" xlink:href=\"#DejaVuSans-108\"/>\n      <use x=\"310.546875\" xlink:href=\"#DejaVuSans-111\"/>\n      <use x=\"371.728516\" xlink:href=\"#DejaVuSans-115\"/>\n      <use x=\"423.828125\" xlink:href=\"#DejaVuSans-115\"/>\n     </g>\n    </g>\n    <g id=\"line2d_29\">\n     <path d=\"M 163.084375 35.254687 \nL 183.084375 35.254687 \n\" style=\"fill:none;stroke:#ff7f0e;stroke-dasharray:5.55,2.4;stroke-dashoffset:0;stroke-width:1.5;\"/>\n    </g>\n    <g id=\"line2d_30\"/>\n    <g id=\"text_13\">\n     <!-- val_loss -->\n     <defs>\n      <path d=\"M 2.984375 54.6875 \nL 12.5 54.6875 \nL 29.59375 8.796875 \nL 46.6875 54.6875 \nL 56.203125 54.6875 \nL 35.6875 0 \nL 23.484375 0 \nz\n\" id=\"DejaVuSans-118\"/>\n     </defs>\n     <g transform=\"translate(191.084375 38.754687)scale(0.1 -0.1)\">\n      <use xlink:href=\"#DejaVuSans-118\"/>\n      <use x=\"59.179688\" xlink:href=\"#DejaVuSans-97\"/>\n      <use x=\"120.458984\" xlink:href=\"#DejaVuSans-108\"/>\n      <use x=\"148.242188\" xlink:href=\"#DejaVuSans-95\"/>\n      <use x=\"198.242188\" xlink:href=\"#DejaVuSans-108\"/>\n      <use x=\"226.025391\" xlink:href=\"#DejaVuSans-111\"/>\n      <use x=\"287.207031\" xlink:href=\"#DejaVuSans-115\"/>\n      <use x=\"339.306641\" xlink:href=\"#DejaVuSans-115\"/>\n     </g>\n    </g>\n   </g>\n  </g>\n </g>\n <defs>\n  <clipPath id=\"p32beba21ce\">\n   <rect height=\"135.9\" width=\"195.3\" x=\"52.375\" y=\"7.2\"/>\n  </clipPath>\n </defs>\n</svg>\n"
          },
          "metadata": {
            "needs_background": "light"
          }
        }
      ]
    },
    {
      "cell_type": "code",
      "source": [
        "# 2. Assume that you are Georg Simon Ohm trying to come up with a model for resistors that relate voltage and current. Can you use automatic differentiation to learn the parameters of your model?\n",
        "''' Assuming the input as current and output as voltage the weights are resistors that needs to be updated. \n",
        "This can be solved by Linear regression model which in turn calculates automatic differentiation, since from data we can analyse that current and voltage are linearly related'''\n"
      ],
      "metadata": {
        "id": "1Mj9cRaQZFgi"
      },
      "id": "1Mj9cRaQZFgi",
      "execution_count": null,
      "outputs": []
    },
    {
      "cell_type": "code",
      "source": [
        "# 3. \n",
        "'''Can you use Planck's Law to determine the temperature of an object using spectral energy density? For reference, \n",
        "the spectral density B of radiation emanating from a black body is B(λ,T)=2hc2λ5⋅(exphcλkT−1)−1. \n",
        "Here λ is the wavelength, T is the temperature, c is the speed of light, h is Planck's quantum, and k is the Boltzmann constant. \n",
        "You measure the energy for different wavelengths λ and you now need to fit the spectral density curve to Planck's law.'''\n",
        "\n",
        "# link - http://python4esac.github.io/fitting/example_blackbody.html\n",
        "\n"
      ],
      "metadata": {
        "id": "aqfmbm-GZLGV"
      },
      "id": "aqfmbm-GZLGV",
      "execution_count": null,
      "outputs": []
    },
    {
      "cell_type": "code",
      "source": [
        "from scipy.optimize import curve_fit\n",
        "import pylab as plt\n",
        "import numpy as np\n",
        "\n",
        "def blackbody_lam(lam, T):\n",
        "    \"\"\" Blackbody as a function of wavelength (um) and temperature (K).\n",
        "\n",
        "    returns units of erg/s/cm^2/cm/Steradian\n",
        "    \"\"\"\n",
        "    from scipy.constants import h,k,c\n",
        "    lam = 1e-6 * lam # convert to metres\n",
        "    return 2*h*c**2 / (lam**5 * (np.exp(h*c / (lam*k*T)) - 1))\n",
        "\n",
        "wa = np.linspace(0.1, 2, 100)   # wavelengths in um\n",
        "T1 = 5000.\n",
        "T2 = 8000.\n",
        "y1 = blackbody_lam(wa, T1)\n",
        "y2 = blackbody_lam(wa, T2)\n",
        "ytot = y1 + y2\n",
        "\n",
        "np.random.seed(1)\n",
        "\n",
        "# make synthetic data with Gaussian errors\n",
        "\n",
        "sigma = np.ones(len(wa)) * 1 * np.median(ytot)\n",
        "ydata = ytot + np.random.randn(len(wa)) * sigma\n",
        "\n",
        "# plot the input model and synthetic data\n",
        "\n",
        "plt.figure()\n",
        "plt.plot(wa, y1, ':', lw=2, label='T1=%.0f' % T1)\n",
        "plt.plot(wa, y2, ':', lw=2, label='T2=%.0f' % T2)\n",
        "plt.plot(wa, ytot, ':', lw=2, label='T1 + T2\\n(true model)')\n",
        "plt.plot(wa, ydata, ls='steps-mid', lw=2, label='Fake data')\n",
        "plt.xlabel('Wavelength (microns)')\n",
        "plt.ylabel('Intensity (erg/s/cm$^2$/cm/Steradian)')\n",
        "\n",
        "# fit two blackbodies to the synthetic data\n",
        "\n",
        "def func(wa, T1, T2):\n",
        "    return blackbody_lam(wa, T1) + blackbody_lam(wa, T2)\n",
        "\n",
        "# Note the initial guess values for T1 and T2 (p0 keyword below). They\n",
        "# are quite different to the known true values, but not *too*\n",
        "# different. If these are too far away from the solution curve_fit()\n",
        "# will not be able to find a solution. This is not a Python-specific\n",
        "# problem, it is true for almost every fitting algorithm for\n",
        "# non-linear models. The initial guess is important!\n",
        "\n",
        "popt, pcov = curve_fit(func, wa, ydata, p0=(1000, 3000), sigma=sigma)\n",
        "\n",
        "# get the best fitting parameter values and their 1 sigma errors\n",
        "# (assuming the parameters aren't strongly correlated).\n",
        "\n",
        "bestT1, bestT2 = popt\n",
        "sigmaT1, sigmaT2 = np.sqrt(np.diag(pcov))\n",
        "\n",
        "ybest = blackbody_lam(wa, bestT1) + blackbody_lam(wa, bestT2)\n",
        "\n",
        "print('True model values')\n",
        "print('  T1 = %.2f' % T1)\n",
        "print ('  T2 = %.2f' % T2)\n",
        "\n",
        "print ('Parameters of best-fitting model:')\n",
        "print ('  T1 = %.2f +/- %.2f' % (bestT1, sigmaT1))\n",
        "print ('  T2 = %.2f +/- %.2f' % (bestT2, sigmaT2))\n",
        "\n",
        "degrees_of_freedom = len(wa) - 2\n",
        "resid = (ydata - func(wa, *popt)) / sigma\n",
        "chisq = np.dot(resid, resid)\n",
        "\n",
        "print(degrees_of_freedom, 'dof')\n",
        "print('chi squared %.2f' % chisq)\n",
        "print('nchi2 %.2f' % (chisq / degrees_of_freedom))\n",
        "\n",
        "# plot the solution\n",
        "\n",
        "plt.plot(wa, ybest, label='Best fitting\\nmodel')\n",
        "plt.legend(frameon=False)\n",
        "plt.savefig('fit_bb.png')\n",
        "plt.show()"
      ],
      "metadata": {
        "colab": {
          "base_uri": "https://localhost:8080/",
          "height": 596
        },
        "id": "djkNH5LjvQMu",
        "outputId": "23d93213-9720-4bd9-c32c-0a5cd3fcbd8b"
      },
      "id": "djkNH5LjvQMu",
      "execution_count": 34,
      "outputs": [
        {
          "output_type": "stream",
          "name": "stderr",
          "text": [
            "<ipython-input-34-cb18d17ce10d>:34: MatplotlibDeprecationWarning: Passing the drawstyle with the linestyle as a single string is deprecated since Matplotlib 3.1 and support will be removed in 3.3; please pass the drawstyle separately using the drawstyle keyword argument to Line2D or set_drawstyle() method (or ds/set_ds()).\n",
            "  plt.plot(wa, ydata, ls='steps-mid', lw=2, label='Fake data')\n"
          ]
        },
        {
          "output_type": "stream",
          "name": "stdout",
          "text": [
            "True model values\n",
            "  T1 = 5000.00\n",
            "  T2 = 8000.00\n",
            "Parameters of best-fitting model:\n",
            "  T1 = 7932.53 +/- 102.35\n",
            "  T2 = 5192.46 +/- 451.14\n",
            "98 dof\n",
            "chi squared 78.29\n",
            "nchi2 0.80\n"
          ]
        },
        {
          "output_type": "display_data",
          "data": {
            "text/plain": [
              "<Figure size 432x288 with 1 Axes>"
            ],
            "image/svg+xml": "<?xml version=\"1.0\" encoding=\"utf-8\" standalone=\"no\"?>\n<!DOCTYPE svg PUBLIC \"-//W3C//DTD SVG 1.1//EN\"\n  \"http://www.w3.org/Graphics/SVG/1.1/DTD/svg11.dtd\">\n<!-- Created with matplotlib (https://matplotlib.org/) -->\n<svg height=\"272.794688pt\" version=\"1.1\" viewBox=\"0 0 402.045312 272.794688\" width=\"402.045312pt\" xmlns=\"http://www.w3.org/2000/svg\" xmlns:xlink=\"http://www.w3.org/1999/xlink\">\n <defs>\n  <style type=\"text/css\">\n*{stroke-linecap:butt;stroke-linejoin:round;}\n  </style>\n </defs>\n <g id=\"figure_1\">\n  <g id=\"patch_1\">\n   <path d=\"M 0 272.794688 \nL 402.045312 272.794688 \nL 402.045312 0 \nL 0 0 \nz\n\" style=\"fill:none;\"/>\n  </g>\n  <g id=\"axes_1\">\n   <g id=\"patch_2\">\n    <path d=\"M 60.045313 235.238438 \nL 394.845313 235.238438 \nL 394.845313 17.798438 \nL 60.045313 17.798438 \nz\n\" style=\"fill:#ffffff;\"/>\n   </g>\n   <g id=\"matplotlib.axis_1\">\n    <g id=\"xtick_1\">\n     <g id=\"line2d_1\">\n      <defs>\n       <path d=\"M 0 0 \nL 0 3.5 \n\" id=\"m1afecb6356\" style=\"stroke:#000000;stroke-width:0.8;\"/>\n      </defs>\n      <g>\n       <use style=\"stroke:#000000;stroke-width:0.8;\" x=\"99.292202\" xlink:href=\"#m1afecb6356\" y=\"235.238438\"/>\n      </g>\n     </g>\n     <g id=\"text_1\">\n      <!-- 0.25 -->\n      <defs>\n       <path d=\"M 31.78125 66.40625 \nQ 24.171875 66.40625 20.328125 58.90625 \nQ 16.5 51.421875 16.5 36.375 \nQ 16.5 21.390625 20.328125 13.890625 \nQ 24.171875 6.390625 31.78125 6.390625 \nQ 39.453125 6.390625 43.28125 13.890625 \nQ 47.125 21.390625 47.125 36.375 \nQ 47.125 51.421875 43.28125 58.90625 \nQ 39.453125 66.40625 31.78125 66.40625 \nz\nM 31.78125 74.21875 \nQ 44.046875 74.21875 50.515625 64.515625 \nQ 56.984375 54.828125 56.984375 36.375 \nQ 56.984375 17.96875 50.515625 8.265625 \nQ 44.046875 -1.421875 31.78125 -1.421875 \nQ 19.53125 -1.421875 13.0625 8.265625 \nQ 6.59375 17.96875 6.59375 36.375 \nQ 6.59375 54.828125 13.0625 64.515625 \nQ 19.53125 74.21875 31.78125 74.21875 \nz\n\" id=\"DejaVuSans-48\"/>\n       <path d=\"M 10.6875 12.40625 \nL 21 12.40625 \nL 21 0 \nL 10.6875 0 \nz\n\" id=\"DejaVuSans-46\"/>\n       <path d=\"M 19.1875 8.296875 \nL 53.609375 8.296875 \nL 53.609375 0 \nL 7.328125 0 \nL 7.328125 8.296875 \nQ 12.9375 14.109375 22.625 23.890625 \nQ 32.328125 33.6875 34.8125 36.53125 \nQ 39.546875 41.84375 41.421875 45.53125 \nQ 43.3125 49.21875 43.3125 52.78125 \nQ 43.3125 58.59375 39.234375 62.25 \nQ 35.15625 65.921875 28.609375 65.921875 \nQ 23.96875 65.921875 18.8125 64.3125 \nQ 13.671875 62.703125 7.8125 59.421875 \nL 7.8125 69.390625 \nQ 13.765625 71.78125 18.9375 73 \nQ 24.125 74.21875 28.421875 74.21875 \nQ 39.75 74.21875 46.484375 68.546875 \nQ 53.21875 62.890625 53.21875 53.421875 \nQ 53.21875 48.921875 51.53125 44.890625 \nQ 49.859375 40.875 45.40625 35.40625 \nQ 44.1875 33.984375 37.640625 27.21875 \nQ 31.109375 20.453125 19.1875 8.296875 \nz\n\" id=\"DejaVuSans-50\"/>\n       <path d=\"M 10.796875 72.90625 \nL 49.515625 72.90625 \nL 49.515625 64.59375 \nL 19.828125 64.59375 \nL 19.828125 46.734375 \nQ 21.96875 47.46875 24.109375 47.828125 \nQ 26.265625 48.1875 28.421875 48.1875 \nQ 40.625 48.1875 47.75 41.5 \nQ 54.890625 34.8125 54.890625 23.390625 \nQ 54.890625 11.625 47.5625 5.09375 \nQ 40.234375 -1.421875 26.90625 -1.421875 \nQ 22.3125 -1.421875 17.546875 -0.640625 \nQ 12.796875 0.140625 7.71875 1.703125 \nL 7.71875 11.625 \nQ 12.109375 9.234375 16.796875 8.0625 \nQ 21.484375 6.890625 26.703125 6.890625 \nQ 35.15625 6.890625 40.078125 11.328125 \nQ 45.015625 15.765625 45.015625 23.390625 \nQ 45.015625 31 40.078125 35.4375 \nQ 35.15625 39.890625 26.703125 39.890625 \nQ 22.75 39.890625 18.8125 39.015625 \nQ 14.890625 38.140625 10.796875 36.28125 \nz\n\" id=\"DejaVuSans-53\"/>\n      </defs>\n      <g transform=\"translate(88.15939 249.836875)scale(0.1 -0.1)\">\n       <use xlink:href=\"#DejaVuSans-48\"/>\n       <use x=\"63.623047\" xlink:href=\"#DejaVuSans-46\"/>\n       <use x=\"95.410156\" xlink:href=\"#DejaVuSans-50\"/>\n       <use x=\"159.033203\" xlink:href=\"#DejaVuSans-53\"/>\n      </g>\n     </g>\n    </g>\n    <g id=\"xtick_2\">\n     <g id=\"line2d_2\">\n      <g>\n       <use style=\"stroke:#000000;stroke-width:0.8;\" x=\"139.340049\" xlink:href=\"#m1afecb6356\" y=\"235.238438\"/>\n      </g>\n     </g>\n     <g id=\"text_2\">\n      <!-- 0.50 -->\n      <g transform=\"translate(128.207237 249.836875)scale(0.1 -0.1)\">\n       <use xlink:href=\"#DejaVuSans-48\"/>\n       <use x=\"63.623047\" xlink:href=\"#DejaVuSans-46\"/>\n       <use x=\"95.410156\" xlink:href=\"#DejaVuSans-53\"/>\n       <use x=\"159.033203\" xlink:href=\"#DejaVuSans-48\"/>\n      </g>\n     </g>\n    </g>\n    <g id=\"xtick_3\">\n     <g id=\"line2d_3\">\n      <g>\n       <use style=\"stroke:#000000;stroke-width:0.8;\" x=\"179.387896\" xlink:href=\"#m1afecb6356\" y=\"235.238438\"/>\n      </g>\n     </g>\n     <g id=\"text_3\">\n      <!-- 0.75 -->\n      <defs>\n       <path d=\"M 8.203125 72.90625 \nL 55.078125 72.90625 \nL 55.078125 68.703125 \nL 28.609375 0 \nL 18.3125 0 \nL 43.21875 64.59375 \nL 8.203125 64.59375 \nz\n\" id=\"DejaVuSans-55\"/>\n      </defs>\n      <g transform=\"translate(168.255084 249.836875)scale(0.1 -0.1)\">\n       <use xlink:href=\"#DejaVuSans-48\"/>\n       <use x=\"63.623047\" xlink:href=\"#DejaVuSans-46\"/>\n       <use x=\"95.410156\" xlink:href=\"#DejaVuSans-55\"/>\n       <use x=\"159.033203\" xlink:href=\"#DejaVuSans-53\"/>\n      </g>\n     </g>\n    </g>\n    <g id=\"xtick_4\">\n     <g id=\"line2d_4\">\n      <g>\n       <use style=\"stroke:#000000;stroke-width:0.8;\" x=\"219.435743\" xlink:href=\"#m1afecb6356\" y=\"235.238438\"/>\n      </g>\n     </g>\n     <g id=\"text_4\">\n      <!-- 1.00 -->\n      <defs>\n       <path d=\"M 12.40625 8.296875 \nL 28.515625 8.296875 \nL 28.515625 63.921875 \nL 10.984375 60.40625 \nL 10.984375 69.390625 \nL 28.421875 72.90625 \nL 38.28125 72.90625 \nL 38.28125 8.296875 \nL 54.390625 8.296875 \nL 54.390625 0 \nL 12.40625 0 \nz\n\" id=\"DejaVuSans-49\"/>\n      </defs>\n      <g transform=\"translate(208.302931 249.836875)scale(0.1 -0.1)\">\n       <use xlink:href=\"#DejaVuSans-49\"/>\n       <use x=\"63.623047\" xlink:href=\"#DejaVuSans-46\"/>\n       <use x=\"95.410156\" xlink:href=\"#DejaVuSans-48\"/>\n       <use x=\"159.033203\" xlink:href=\"#DejaVuSans-48\"/>\n      </g>\n     </g>\n    </g>\n    <g id=\"xtick_5\">\n     <g id=\"line2d_5\">\n      <g>\n       <use style=\"stroke:#000000;stroke-width:0.8;\" x=\"259.48359\" xlink:href=\"#m1afecb6356\" y=\"235.238438\"/>\n      </g>\n     </g>\n     <g id=\"text_5\">\n      <!-- 1.25 -->\n      <g transform=\"translate(248.350778 249.836875)scale(0.1 -0.1)\">\n       <use xlink:href=\"#DejaVuSans-49\"/>\n       <use x=\"63.623047\" xlink:href=\"#DejaVuSans-46\"/>\n       <use x=\"95.410156\" xlink:href=\"#DejaVuSans-50\"/>\n       <use x=\"159.033203\" xlink:href=\"#DejaVuSans-53\"/>\n      </g>\n     </g>\n    </g>\n    <g id=\"xtick_6\">\n     <g id=\"line2d_6\">\n      <g>\n       <use style=\"stroke:#000000;stroke-width:0.8;\" x=\"299.531437\" xlink:href=\"#m1afecb6356\" y=\"235.238438\"/>\n      </g>\n     </g>\n     <g id=\"text_6\">\n      <!-- 1.50 -->\n      <g transform=\"translate(288.398624 249.836875)scale(0.1 -0.1)\">\n       <use xlink:href=\"#DejaVuSans-49\"/>\n       <use x=\"63.623047\" xlink:href=\"#DejaVuSans-46\"/>\n       <use x=\"95.410156\" xlink:href=\"#DejaVuSans-53\"/>\n       <use x=\"159.033203\" xlink:href=\"#DejaVuSans-48\"/>\n      </g>\n     </g>\n    </g>\n    <g id=\"xtick_7\">\n     <g id=\"line2d_7\">\n      <g>\n       <use style=\"stroke:#000000;stroke-width:0.8;\" x=\"339.579284\" xlink:href=\"#m1afecb6356\" y=\"235.238438\"/>\n      </g>\n     </g>\n     <g id=\"text_7\">\n      <!-- 1.75 -->\n      <g transform=\"translate(328.446471 249.836875)scale(0.1 -0.1)\">\n       <use xlink:href=\"#DejaVuSans-49\"/>\n       <use x=\"63.623047\" xlink:href=\"#DejaVuSans-46\"/>\n       <use x=\"95.410156\" xlink:href=\"#DejaVuSans-55\"/>\n       <use x=\"159.033203\" xlink:href=\"#DejaVuSans-53\"/>\n      </g>\n     </g>\n    </g>\n    <g id=\"xtick_8\">\n     <g id=\"line2d_8\">\n      <g>\n       <use style=\"stroke:#000000;stroke-width:0.8;\" x=\"379.627131\" xlink:href=\"#m1afecb6356\" y=\"235.238438\"/>\n      </g>\n     </g>\n     <g id=\"text_8\">\n      <!-- 2.00 -->\n      <g transform=\"translate(368.494318 249.836875)scale(0.1 -0.1)\">\n       <use xlink:href=\"#DejaVuSans-50\"/>\n       <use x=\"63.623047\" xlink:href=\"#DejaVuSans-46\"/>\n       <use x=\"95.410156\" xlink:href=\"#DejaVuSans-48\"/>\n       <use x=\"159.033203\" xlink:href=\"#DejaVuSans-48\"/>\n      </g>\n     </g>\n    </g>\n    <g id=\"text_9\">\n     <!-- Wavelength (microns) -->\n     <defs>\n      <path d=\"M 3.328125 72.90625 \nL 13.28125 72.90625 \nL 28.609375 11.28125 \nL 43.890625 72.90625 \nL 54.984375 72.90625 \nL 70.3125 11.28125 \nL 85.59375 72.90625 \nL 95.609375 72.90625 \nL 77.296875 0 \nL 64.890625 0 \nL 49.515625 63.28125 \nL 33.984375 0 \nL 21.578125 0 \nz\n\" id=\"DejaVuSans-87\"/>\n      <path d=\"M 34.28125 27.484375 \nQ 23.390625 27.484375 19.1875 25 \nQ 14.984375 22.515625 14.984375 16.5 \nQ 14.984375 11.71875 18.140625 8.90625 \nQ 21.296875 6.109375 26.703125 6.109375 \nQ 34.1875 6.109375 38.703125 11.40625 \nQ 43.21875 16.703125 43.21875 25.484375 \nL 43.21875 27.484375 \nz\nM 52.203125 31.203125 \nL 52.203125 0 \nL 43.21875 0 \nL 43.21875 8.296875 \nQ 40.140625 3.328125 35.546875 0.953125 \nQ 30.953125 -1.421875 24.3125 -1.421875 \nQ 15.921875 -1.421875 10.953125 3.296875 \nQ 6 8.015625 6 15.921875 \nQ 6 25.140625 12.171875 29.828125 \nQ 18.359375 34.515625 30.609375 34.515625 \nL 43.21875 34.515625 \nL 43.21875 35.40625 \nQ 43.21875 41.609375 39.140625 45 \nQ 35.0625 48.390625 27.6875 48.390625 \nQ 23 48.390625 18.546875 47.265625 \nQ 14.109375 46.140625 10.015625 43.890625 \nL 10.015625 52.203125 \nQ 14.9375 54.109375 19.578125 55.046875 \nQ 24.21875 56 28.609375 56 \nQ 40.484375 56 46.34375 49.84375 \nQ 52.203125 43.703125 52.203125 31.203125 \nz\n\" id=\"DejaVuSans-97\"/>\n      <path d=\"M 2.984375 54.6875 \nL 12.5 54.6875 \nL 29.59375 8.796875 \nL 46.6875 54.6875 \nL 56.203125 54.6875 \nL 35.6875 0 \nL 23.484375 0 \nz\n\" id=\"DejaVuSans-118\"/>\n      <path d=\"M 56.203125 29.59375 \nL 56.203125 25.203125 \nL 14.890625 25.203125 \nQ 15.484375 15.921875 20.484375 11.0625 \nQ 25.484375 6.203125 34.421875 6.203125 \nQ 39.59375 6.203125 44.453125 7.46875 \nQ 49.3125 8.734375 54.109375 11.28125 \nL 54.109375 2.78125 \nQ 49.265625 0.734375 44.1875 -0.34375 \nQ 39.109375 -1.421875 33.890625 -1.421875 \nQ 20.796875 -1.421875 13.15625 6.1875 \nQ 5.515625 13.8125 5.515625 26.8125 \nQ 5.515625 40.234375 12.765625 48.109375 \nQ 20.015625 56 32.328125 56 \nQ 43.359375 56 49.78125 48.890625 \nQ 56.203125 41.796875 56.203125 29.59375 \nz\nM 47.21875 32.234375 \nQ 47.125 39.59375 43.09375 43.984375 \nQ 39.0625 48.390625 32.421875 48.390625 \nQ 24.90625 48.390625 20.390625 44.140625 \nQ 15.875 39.890625 15.1875 32.171875 \nz\n\" id=\"DejaVuSans-101\"/>\n      <path d=\"M 9.421875 75.984375 \nL 18.40625 75.984375 \nL 18.40625 0 \nL 9.421875 0 \nz\n\" id=\"DejaVuSans-108\"/>\n      <path d=\"M 54.890625 33.015625 \nL 54.890625 0 \nL 45.90625 0 \nL 45.90625 32.71875 \nQ 45.90625 40.484375 42.875 44.328125 \nQ 39.84375 48.1875 33.796875 48.1875 \nQ 26.515625 48.1875 22.3125 43.546875 \nQ 18.109375 38.921875 18.109375 30.90625 \nL 18.109375 0 \nL 9.078125 0 \nL 9.078125 54.6875 \nL 18.109375 54.6875 \nL 18.109375 46.1875 \nQ 21.34375 51.125 25.703125 53.5625 \nQ 30.078125 56 35.796875 56 \nQ 45.21875 56 50.046875 50.171875 \nQ 54.890625 44.34375 54.890625 33.015625 \nz\n\" id=\"DejaVuSans-110\"/>\n      <path d=\"M 45.40625 27.984375 \nQ 45.40625 37.75 41.375 43.109375 \nQ 37.359375 48.484375 30.078125 48.484375 \nQ 22.859375 48.484375 18.828125 43.109375 \nQ 14.796875 37.75 14.796875 27.984375 \nQ 14.796875 18.265625 18.828125 12.890625 \nQ 22.859375 7.515625 30.078125 7.515625 \nQ 37.359375 7.515625 41.375 12.890625 \nQ 45.40625 18.265625 45.40625 27.984375 \nz\nM 54.390625 6.78125 \nQ 54.390625 -7.171875 48.1875 -13.984375 \nQ 42 -20.796875 29.203125 -20.796875 \nQ 24.46875 -20.796875 20.265625 -20.09375 \nQ 16.0625 -19.390625 12.109375 -17.921875 \nL 12.109375 -9.1875 \nQ 16.0625 -11.328125 19.921875 -12.34375 \nQ 23.78125 -13.375 27.78125 -13.375 \nQ 36.625 -13.375 41.015625 -8.765625 \nQ 45.40625 -4.15625 45.40625 5.171875 \nL 45.40625 9.625 \nQ 42.625 4.78125 38.28125 2.390625 \nQ 33.9375 0 27.875 0 \nQ 17.828125 0 11.671875 7.65625 \nQ 5.515625 15.328125 5.515625 27.984375 \nQ 5.515625 40.671875 11.671875 48.328125 \nQ 17.828125 56 27.875 56 \nQ 33.9375 56 38.28125 53.609375 \nQ 42.625 51.21875 45.40625 46.390625 \nL 45.40625 54.6875 \nL 54.390625 54.6875 \nz\n\" id=\"DejaVuSans-103\"/>\n      <path d=\"M 18.3125 70.21875 \nL 18.3125 54.6875 \nL 36.8125 54.6875 \nL 36.8125 47.703125 \nL 18.3125 47.703125 \nL 18.3125 18.015625 \nQ 18.3125 11.328125 20.140625 9.421875 \nQ 21.96875 7.515625 27.59375 7.515625 \nL 36.8125 7.515625 \nL 36.8125 0 \nL 27.59375 0 \nQ 17.1875 0 13.234375 3.875 \nQ 9.28125 7.765625 9.28125 18.015625 \nL 9.28125 47.703125 \nL 2.6875 47.703125 \nL 2.6875 54.6875 \nL 9.28125 54.6875 \nL 9.28125 70.21875 \nz\n\" id=\"DejaVuSans-116\"/>\n      <path d=\"M 54.890625 33.015625 \nL 54.890625 0 \nL 45.90625 0 \nL 45.90625 32.71875 \nQ 45.90625 40.484375 42.875 44.328125 \nQ 39.84375 48.1875 33.796875 48.1875 \nQ 26.515625 48.1875 22.3125 43.546875 \nQ 18.109375 38.921875 18.109375 30.90625 \nL 18.109375 0 \nL 9.078125 0 \nL 9.078125 75.984375 \nL 18.109375 75.984375 \nL 18.109375 46.1875 \nQ 21.34375 51.125 25.703125 53.5625 \nQ 30.078125 56 35.796875 56 \nQ 45.21875 56 50.046875 50.171875 \nQ 54.890625 44.34375 54.890625 33.015625 \nz\n\" id=\"DejaVuSans-104\"/>\n      <path id=\"DejaVuSans-32\"/>\n      <path d=\"M 31 75.875 \nQ 24.46875 64.65625 21.28125 53.65625 \nQ 18.109375 42.671875 18.109375 31.390625 \nQ 18.109375 20.125 21.3125 9.0625 \nQ 24.515625 -2 31 -13.1875 \nL 23.1875 -13.1875 \nQ 15.875 -1.703125 12.234375 9.375 \nQ 8.59375 20.453125 8.59375 31.390625 \nQ 8.59375 42.28125 12.203125 53.3125 \nQ 15.828125 64.359375 23.1875 75.875 \nz\n\" id=\"DejaVuSans-40\"/>\n      <path d=\"M 52 44.1875 \nQ 55.375 50.25 60.0625 53.125 \nQ 64.75 56 71.09375 56 \nQ 79.640625 56 84.28125 50.015625 \nQ 88.921875 44.046875 88.921875 33.015625 \nL 88.921875 0 \nL 79.890625 0 \nL 79.890625 32.71875 \nQ 79.890625 40.578125 77.09375 44.375 \nQ 74.3125 48.1875 68.609375 48.1875 \nQ 61.625 48.1875 57.5625 43.546875 \nQ 53.515625 38.921875 53.515625 30.90625 \nL 53.515625 0 \nL 44.484375 0 \nL 44.484375 32.71875 \nQ 44.484375 40.625 41.703125 44.40625 \nQ 38.921875 48.1875 33.109375 48.1875 \nQ 26.21875 48.1875 22.15625 43.53125 \nQ 18.109375 38.875 18.109375 30.90625 \nL 18.109375 0 \nL 9.078125 0 \nL 9.078125 54.6875 \nL 18.109375 54.6875 \nL 18.109375 46.1875 \nQ 21.1875 51.21875 25.484375 53.609375 \nQ 29.78125 56 35.6875 56 \nQ 41.65625 56 45.828125 52.96875 \nQ 50 49.953125 52 44.1875 \nz\n\" id=\"DejaVuSans-109\"/>\n      <path d=\"M 9.421875 54.6875 \nL 18.40625 54.6875 \nL 18.40625 0 \nL 9.421875 0 \nz\nM 9.421875 75.984375 \nL 18.40625 75.984375 \nL 18.40625 64.59375 \nL 9.421875 64.59375 \nz\n\" id=\"DejaVuSans-105\"/>\n      <path d=\"M 48.78125 52.59375 \nL 48.78125 44.1875 \nQ 44.96875 46.296875 41.140625 47.34375 \nQ 37.3125 48.390625 33.40625 48.390625 \nQ 24.65625 48.390625 19.8125 42.84375 \nQ 14.984375 37.3125 14.984375 27.296875 \nQ 14.984375 17.28125 19.8125 11.734375 \nQ 24.65625 6.203125 33.40625 6.203125 \nQ 37.3125 6.203125 41.140625 7.25 \nQ 44.96875 8.296875 48.78125 10.40625 \nL 48.78125 2.09375 \nQ 45.015625 0.34375 40.984375 -0.53125 \nQ 36.96875 -1.421875 32.421875 -1.421875 \nQ 20.0625 -1.421875 12.78125 6.34375 \nQ 5.515625 14.109375 5.515625 27.296875 \nQ 5.515625 40.671875 12.859375 48.328125 \nQ 20.21875 56 33.015625 56 \nQ 37.15625 56 41.109375 55.140625 \nQ 45.0625 54.296875 48.78125 52.59375 \nz\n\" id=\"DejaVuSans-99\"/>\n      <path d=\"M 41.109375 46.296875 \nQ 39.59375 47.171875 37.8125 47.578125 \nQ 36.03125 48 33.890625 48 \nQ 26.265625 48 22.1875 43.046875 \nQ 18.109375 38.09375 18.109375 28.8125 \nL 18.109375 0 \nL 9.078125 0 \nL 9.078125 54.6875 \nL 18.109375 54.6875 \nL 18.109375 46.1875 \nQ 20.953125 51.171875 25.484375 53.578125 \nQ 30.03125 56 36.53125 56 \nQ 37.453125 56 38.578125 55.875 \nQ 39.703125 55.765625 41.0625 55.515625 \nz\n\" id=\"DejaVuSans-114\"/>\n      <path d=\"M 30.609375 48.390625 \nQ 23.390625 48.390625 19.1875 42.75 \nQ 14.984375 37.109375 14.984375 27.296875 \nQ 14.984375 17.484375 19.15625 11.84375 \nQ 23.34375 6.203125 30.609375 6.203125 \nQ 37.796875 6.203125 41.984375 11.859375 \nQ 46.1875 17.53125 46.1875 27.296875 \nQ 46.1875 37.015625 41.984375 42.703125 \nQ 37.796875 48.390625 30.609375 48.390625 \nz\nM 30.609375 56 \nQ 42.328125 56 49.015625 48.375 \nQ 55.71875 40.765625 55.71875 27.296875 \nQ 55.71875 13.875 49.015625 6.21875 \nQ 42.328125 -1.421875 30.609375 -1.421875 \nQ 18.84375 -1.421875 12.171875 6.21875 \nQ 5.515625 13.875 5.515625 27.296875 \nQ 5.515625 40.765625 12.171875 48.375 \nQ 18.84375 56 30.609375 56 \nz\n\" id=\"DejaVuSans-111\"/>\n      <path d=\"M 44.28125 53.078125 \nL 44.28125 44.578125 \nQ 40.484375 46.53125 36.375 47.5 \nQ 32.28125 48.484375 27.875 48.484375 \nQ 21.1875 48.484375 17.84375 46.4375 \nQ 14.5 44.390625 14.5 40.28125 \nQ 14.5 37.15625 16.890625 35.375 \nQ 19.28125 33.59375 26.515625 31.984375 \nL 29.59375 31.296875 \nQ 39.15625 29.25 43.1875 25.515625 \nQ 47.21875 21.78125 47.21875 15.09375 \nQ 47.21875 7.46875 41.1875 3.015625 \nQ 35.15625 -1.421875 24.609375 -1.421875 \nQ 20.21875 -1.421875 15.453125 -0.5625 \nQ 10.6875 0.296875 5.421875 2 \nL 5.421875 11.28125 \nQ 10.40625 8.6875 15.234375 7.390625 \nQ 20.0625 6.109375 24.8125 6.109375 \nQ 31.15625 6.109375 34.5625 8.28125 \nQ 37.984375 10.453125 37.984375 14.40625 \nQ 37.984375 18.0625 35.515625 20.015625 \nQ 33.0625 21.96875 24.703125 23.78125 \nL 21.578125 24.515625 \nQ 13.234375 26.265625 9.515625 29.90625 \nQ 5.8125 33.546875 5.8125 39.890625 \nQ 5.8125 47.609375 11.28125 51.796875 \nQ 16.75 56 26.8125 56 \nQ 31.78125 56 36.171875 55.265625 \nQ 40.578125 54.546875 44.28125 53.078125 \nz\n\" id=\"DejaVuSans-115\"/>\n      <path d=\"M 8.015625 75.875 \nL 15.828125 75.875 \nQ 23.140625 64.359375 26.78125 53.3125 \nQ 30.421875 42.28125 30.421875 31.390625 \nQ 30.421875 20.453125 26.78125 9.375 \nQ 23.140625 -1.703125 15.828125 -13.1875 \nL 8.015625 -13.1875 \nQ 14.5 -2 17.703125 9.0625 \nQ 20.90625 20.125 20.90625 31.390625 \nQ 20.90625 42.671875 17.703125 53.65625 \nQ 14.5 64.65625 8.015625 75.875 \nz\n\" id=\"DejaVuSans-41\"/>\n     </defs>\n     <g transform=\"translate(172.507812 263.515)scale(0.1 -0.1)\">\n      <use xlink:href=\"#DejaVuSans-87\"/>\n      <use x=\"92.501953\" xlink:href=\"#DejaVuSans-97\"/>\n      <use x=\"153.78125\" xlink:href=\"#DejaVuSans-118\"/>\n      <use x=\"212.960938\" xlink:href=\"#DejaVuSans-101\"/>\n      <use x=\"274.484375\" xlink:href=\"#DejaVuSans-108\"/>\n      <use x=\"302.267578\" xlink:href=\"#DejaVuSans-101\"/>\n      <use x=\"363.791016\" xlink:href=\"#DejaVuSans-110\"/>\n      <use x=\"427.169922\" xlink:href=\"#DejaVuSans-103\"/>\n      <use x=\"490.646484\" xlink:href=\"#DejaVuSans-116\"/>\n      <use x=\"529.855469\" xlink:href=\"#DejaVuSans-104\"/>\n      <use x=\"593.234375\" xlink:href=\"#DejaVuSans-32\"/>\n      <use x=\"625.021484\" xlink:href=\"#DejaVuSans-40\"/>\n      <use x=\"664.035156\" xlink:href=\"#DejaVuSans-109\"/>\n      <use x=\"761.447266\" xlink:href=\"#DejaVuSans-105\"/>\n      <use x=\"789.230469\" xlink:href=\"#DejaVuSans-99\"/>\n      <use x=\"844.210938\" xlink:href=\"#DejaVuSans-114\"/>\n      <use x=\"883.074219\" xlink:href=\"#DejaVuSans-111\"/>\n      <use x=\"944.255859\" xlink:href=\"#DejaVuSans-110\"/>\n      <use x=\"1007.634766\" xlink:href=\"#DejaVuSans-115\"/>\n      <use x=\"1059.734375\" xlink:href=\"#DejaVuSans-41\"/>\n     </g>\n    </g>\n   </g>\n   <g id=\"matplotlib.axis_2\">\n    <g id=\"ytick_1\">\n     <g id=\"line2d_9\">\n      <defs>\n       <path d=\"M 0 0 \nL -3.5 0 \n\" id=\"m3dc391a035\" style=\"stroke:#000000;stroke-width:0.8;\"/>\n      </defs>\n      <g>\n       <use style=\"stroke:#000000;stroke-width:0.8;\" x=\"60.045313\" xlink:href=\"#m3dc391a035\" y=\"214.445132\"/>\n      </g>\n     </g>\n     <g id=\"text_10\">\n      <!-- −0.25 -->\n      <defs>\n       <path d=\"M 10.59375 35.5 \nL 73.1875 35.5 \nL 73.1875 27.203125 \nL 10.59375 27.203125 \nz\n\" id=\"DejaVuSans-8722\"/>\n      </defs>\n      <g transform=\"translate(22.4 218.24435)scale(0.1 -0.1)\">\n       <use xlink:href=\"#DejaVuSans-8722\"/>\n       <use x=\"83.789062\" xlink:href=\"#DejaVuSans-48\"/>\n       <use x=\"147.412109\" xlink:href=\"#DejaVuSans-46\"/>\n       <use x=\"179.199219\" xlink:href=\"#DejaVuSans-50\"/>\n       <use x=\"242.822266\" xlink:href=\"#DejaVuSans-53\"/>\n      </g>\n     </g>\n    </g>\n    <g id=\"ytick_2\">\n     <g id=\"line2d_10\">\n      <g>\n       <use style=\"stroke:#000000;stroke-width:0.8;\" x=\"60.045313\" xlink:href=\"#m3dc391a035\" y=\"190.053036\"/>\n      </g>\n     </g>\n     <g id=\"text_11\">\n      <!-- 0.00 -->\n      <g transform=\"translate(30.779688 193.852255)scale(0.1 -0.1)\">\n       <use xlink:href=\"#DejaVuSans-48\"/>\n       <use x=\"63.623047\" xlink:href=\"#DejaVuSans-46\"/>\n       <use x=\"95.410156\" xlink:href=\"#DejaVuSans-48\"/>\n       <use x=\"159.033203\" xlink:href=\"#DejaVuSans-48\"/>\n      </g>\n     </g>\n    </g>\n    <g id=\"ytick_3\">\n     <g id=\"line2d_11\">\n      <g>\n       <use style=\"stroke:#000000;stroke-width:0.8;\" x=\"60.045313\" xlink:href=\"#m3dc391a035\" y=\"165.66094\"/>\n      </g>\n     </g>\n     <g id=\"text_12\">\n      <!-- 0.25 -->\n      <g transform=\"translate(30.779688 169.460159)scale(0.1 -0.1)\">\n       <use xlink:href=\"#DejaVuSans-48\"/>\n       <use x=\"63.623047\" xlink:href=\"#DejaVuSans-46\"/>\n       <use x=\"95.410156\" xlink:href=\"#DejaVuSans-50\"/>\n       <use x=\"159.033203\" xlink:href=\"#DejaVuSans-53\"/>\n      </g>\n     </g>\n    </g>\n    <g id=\"ytick_4\">\n     <g id=\"line2d_12\">\n      <g>\n       <use style=\"stroke:#000000;stroke-width:0.8;\" x=\"60.045313\" xlink:href=\"#m3dc391a035\" y=\"141.268845\"/>\n      </g>\n     </g>\n     <g id=\"text_13\">\n      <!-- 0.50 -->\n      <g transform=\"translate(30.779688 145.068064)scale(0.1 -0.1)\">\n       <use xlink:href=\"#DejaVuSans-48\"/>\n       <use x=\"63.623047\" xlink:href=\"#DejaVuSans-46\"/>\n       <use x=\"95.410156\" xlink:href=\"#DejaVuSans-53\"/>\n       <use x=\"159.033203\" xlink:href=\"#DejaVuSans-48\"/>\n      </g>\n     </g>\n    </g>\n    <g id=\"ytick_5\">\n     <g id=\"line2d_13\">\n      <g>\n       <use style=\"stroke:#000000;stroke-width:0.8;\" x=\"60.045313\" xlink:href=\"#m3dc391a035\" y=\"116.876749\"/>\n      </g>\n     </g>\n     <g id=\"text_14\">\n      <!-- 0.75 -->\n      <g transform=\"translate(30.779688 120.675968)scale(0.1 -0.1)\">\n       <use xlink:href=\"#DejaVuSans-48\"/>\n       <use x=\"63.623047\" xlink:href=\"#DejaVuSans-46\"/>\n       <use x=\"95.410156\" xlink:href=\"#DejaVuSans-55\"/>\n       <use x=\"159.033203\" xlink:href=\"#DejaVuSans-53\"/>\n      </g>\n     </g>\n    </g>\n    <g id=\"ytick_6\">\n     <g id=\"line2d_14\">\n      <g>\n       <use style=\"stroke:#000000;stroke-width:0.8;\" x=\"60.045313\" xlink:href=\"#m3dc391a035\" y=\"92.484654\"/>\n      </g>\n     </g>\n     <g id=\"text_15\">\n      <!-- 1.00 -->\n      <g transform=\"translate(30.779688 96.283873)scale(0.1 -0.1)\">\n       <use xlink:href=\"#DejaVuSans-49\"/>\n       <use x=\"63.623047\" xlink:href=\"#DejaVuSans-46\"/>\n       <use x=\"95.410156\" xlink:href=\"#DejaVuSans-48\"/>\n       <use x=\"159.033203\" xlink:href=\"#DejaVuSans-48\"/>\n      </g>\n     </g>\n    </g>\n    <g id=\"ytick_7\">\n     <g id=\"line2d_15\">\n      <g>\n       <use style=\"stroke:#000000;stroke-width:0.8;\" x=\"60.045313\" xlink:href=\"#m3dc391a035\" y=\"68.092558\"/>\n      </g>\n     </g>\n     <g id=\"text_16\">\n      <!-- 1.25 -->\n      <g transform=\"translate(30.779688 71.891777)scale(0.1 -0.1)\">\n       <use xlink:href=\"#DejaVuSans-49\"/>\n       <use x=\"63.623047\" xlink:href=\"#DejaVuSans-46\"/>\n       <use x=\"95.410156\" xlink:href=\"#DejaVuSans-50\"/>\n       <use x=\"159.033203\" xlink:href=\"#DejaVuSans-53\"/>\n      </g>\n     </g>\n    </g>\n    <g id=\"ytick_8\">\n     <g id=\"line2d_16\">\n      <g>\n       <use style=\"stroke:#000000;stroke-width:0.8;\" x=\"60.045313\" xlink:href=\"#m3dc391a035\" y=\"43.700463\"/>\n      </g>\n     </g>\n     <g id=\"text_17\">\n      <!-- 1.50 -->\n      <g transform=\"translate(30.779688 47.499681)scale(0.1 -0.1)\">\n       <use xlink:href=\"#DejaVuSans-49\"/>\n       <use x=\"63.623047\" xlink:href=\"#DejaVuSans-46\"/>\n       <use x=\"95.410156\" xlink:href=\"#DejaVuSans-53\"/>\n       <use x=\"159.033203\" xlink:href=\"#DejaVuSans-48\"/>\n      </g>\n     </g>\n    </g>\n    <g id=\"ytick_9\">\n     <g id=\"line2d_17\">\n      <g>\n       <use style=\"stroke:#000000;stroke-width:0.8;\" x=\"60.045313\" xlink:href=\"#m3dc391a035\" y=\"19.308367\"/>\n      </g>\n     </g>\n     <g id=\"text_18\">\n      <!-- 1.75 -->\n      <g transform=\"translate(30.779688 23.107586)scale(0.1 -0.1)\">\n       <use xlink:href=\"#DejaVuSans-49\"/>\n       <use x=\"63.623047\" xlink:href=\"#DejaVuSans-46\"/>\n       <use x=\"95.410156\" xlink:href=\"#DejaVuSans-55\"/>\n       <use x=\"159.033203\" xlink:href=\"#DejaVuSans-53\"/>\n      </g>\n     </g>\n    </g>\n    <g id=\"text_19\">\n     <!-- Intensity (erg/s/cm$^2$/cm/Steradian) -->\n     <defs>\n      <path d=\"M 9.8125 72.90625 \nL 19.671875 72.90625 \nL 19.671875 0 \nL 9.8125 0 \nz\n\" id=\"DejaVuSans-73\"/>\n      <path d=\"M 32.171875 -5.078125 \nQ 28.375 -14.84375 24.75 -17.8125 \nQ 21.140625 -20.796875 15.09375 -20.796875 \nL 7.90625 -20.796875 \nL 7.90625 -13.28125 \nL 13.1875 -13.28125 \nQ 16.890625 -13.28125 18.9375 -11.515625 \nQ 21 -9.765625 23.484375 -3.21875 \nL 25.09375 0.875 \nL 2.984375 54.6875 \nL 12.5 54.6875 \nL 29.59375 11.921875 \nL 46.6875 54.6875 \nL 56.203125 54.6875 \nz\n\" id=\"DejaVuSans-121\"/>\n      <path d=\"M 25.390625 72.90625 \nL 33.6875 72.90625 \nL 8.296875 -9.28125 \nL 0 -9.28125 \nz\n\" id=\"DejaVuSans-47\"/>\n      <path d=\"M 53.515625 70.515625 \nL 53.515625 60.890625 \nQ 47.90625 63.578125 42.921875 64.890625 \nQ 37.9375 66.21875 33.296875 66.21875 \nQ 25.25 66.21875 20.875 63.09375 \nQ 16.5 59.96875 16.5 54.203125 \nQ 16.5 49.359375 19.40625 46.890625 \nQ 22.3125 44.4375 30.421875 42.921875 \nL 36.375 41.703125 \nQ 47.40625 39.59375 52.65625 34.296875 \nQ 57.90625 29 57.90625 20.125 \nQ 57.90625 9.515625 50.796875 4.046875 \nQ 43.703125 -1.421875 29.984375 -1.421875 \nQ 24.8125 -1.421875 18.96875 -0.25 \nQ 13.140625 0.921875 6.890625 3.21875 \nL 6.890625 13.375 \nQ 12.890625 10.015625 18.65625 8.296875 \nQ 24.421875 6.59375 29.984375 6.59375 \nQ 38.421875 6.59375 43.015625 9.90625 \nQ 47.609375 13.234375 47.609375 19.390625 \nQ 47.609375 24.75 44.3125 27.78125 \nQ 41.015625 30.8125 33.5 32.328125 \nL 27.484375 33.5 \nQ 16.453125 35.6875 11.515625 40.375 \nQ 6.59375 45.0625 6.59375 53.421875 \nQ 6.59375 63.09375 13.40625 68.65625 \nQ 20.21875 74.21875 32.171875 74.21875 \nQ 37.3125 74.21875 42.625 73.28125 \nQ 47.953125 72.359375 53.515625 70.515625 \nz\n\" id=\"DejaVuSans-83\"/>\n      <path d=\"M 45.40625 46.390625 \nL 45.40625 75.984375 \nL 54.390625 75.984375 \nL 54.390625 0 \nL 45.40625 0 \nL 45.40625 8.203125 \nQ 42.578125 3.328125 38.25 0.953125 \nQ 33.9375 -1.421875 27.875 -1.421875 \nQ 17.96875 -1.421875 11.734375 6.484375 \nQ 5.515625 14.40625 5.515625 27.296875 \nQ 5.515625 40.1875 11.734375 48.09375 \nQ 17.96875 56 27.875 56 \nQ 33.9375 56 38.25 53.625 \nQ 42.578125 51.265625 45.40625 46.390625 \nz\nM 14.796875 27.296875 \nQ 14.796875 17.390625 18.875 11.75 \nQ 22.953125 6.109375 30.078125 6.109375 \nQ 37.203125 6.109375 41.296875 11.75 \nQ 45.40625 17.390625 45.40625 27.296875 \nQ 45.40625 37.203125 41.296875 42.84375 \nQ 37.203125 48.484375 30.078125 48.484375 \nQ 22.953125 48.484375 18.875 42.84375 \nQ 14.796875 37.203125 14.796875 27.296875 \nz\n\" id=\"DejaVuSans-100\"/>\n     </defs>\n     <g transform=\"translate(16.3 213.218437)rotate(-90)scale(0.1 -0.1)\">\n      <use transform=\"translate(0 0.765625)\" xlink:href=\"#DejaVuSans-73\"/>\n      <use transform=\"translate(29.492188 0.765625)\" xlink:href=\"#DejaVuSans-110\"/>\n      <use transform=\"translate(92.871094 0.765625)\" xlink:href=\"#DejaVuSans-116\"/>\n      <use transform=\"translate(132.080078 0.765625)\" xlink:href=\"#DejaVuSans-101\"/>\n      <use transform=\"translate(193.603516 0.765625)\" xlink:href=\"#DejaVuSans-110\"/>\n      <use transform=\"translate(256.982422 0.765625)\" xlink:href=\"#DejaVuSans-115\"/>\n      <use transform=\"translate(309.082031 0.765625)\" xlink:href=\"#DejaVuSans-105\"/>\n      <use transform=\"translate(336.865234 0.765625)\" xlink:href=\"#DejaVuSans-116\"/>\n      <use transform=\"translate(376.074219 0.765625)\" xlink:href=\"#DejaVuSans-121\"/>\n      <use transform=\"translate(435.253906 0.765625)\" xlink:href=\"#DejaVuSans-32\"/>\n      <use transform=\"translate(467.041016 0.765625)\" xlink:href=\"#DejaVuSans-40\"/>\n      <use transform=\"translate(506.054688 0.765625)\" xlink:href=\"#DejaVuSans-101\"/>\n      <use transform=\"translate(567.578125 0.765625)\" xlink:href=\"#DejaVuSans-114\"/>\n      <use transform=\"translate(608.691406 0.765625)\" xlink:href=\"#DejaVuSans-103\"/>\n      <use transform=\"translate(672.167969 0.765625)\" xlink:href=\"#DejaVuSans-47\"/>\n      <use transform=\"translate(705.859375 0.765625)\" xlink:href=\"#DejaVuSans-115\"/>\n      <use transform=\"translate(757.958984 0.765625)\" xlink:href=\"#DejaVuSans-47\"/>\n      <use transform=\"translate(791.650391 0.765625)\" xlink:href=\"#DejaVuSans-99\"/>\n      <use transform=\"translate(846.630859 0.765625)\" xlink:href=\"#DejaVuSans-109\"/>\n      <use transform=\"translate(945 39.046875)scale(0.7)\" xlink:href=\"#DejaVuSans-50\"/>\n      <use transform=\"translate(992.270508 0.765625)\" xlink:href=\"#DejaVuSans-47\"/>\n      <use transform=\"translate(1025.961914 0.765625)\" xlink:href=\"#DejaVuSans-99\"/>\n      <use transform=\"translate(1080.942383 0.765625)\" xlink:href=\"#DejaVuSans-109\"/>\n      <use transform=\"translate(1178.354492 0.765625)\" xlink:href=\"#DejaVuSans-47\"/>\n      <use transform=\"translate(1212.045898 0.765625)\" xlink:href=\"#DejaVuSans-83\"/>\n      <use transform=\"translate(1275.522461 0.765625)\" xlink:href=\"#DejaVuSans-116\"/>\n      <use transform=\"translate(1314.731445 0.765625)\" xlink:href=\"#DejaVuSans-101\"/>\n      <use transform=\"translate(1376.254883 0.765625)\" xlink:href=\"#DejaVuSans-114\"/>\n      <use transform=\"translate(1417.368164 0.765625)\" xlink:href=\"#DejaVuSans-97\"/>\n      <use transform=\"translate(1478.647461 0.765625)\" xlink:href=\"#DejaVuSans-100\"/>\n      <use transform=\"translate(1542.124023 0.765625)\" xlink:href=\"#DejaVuSans-105\"/>\n      <use transform=\"translate(1569.907227 0.765625)\" xlink:href=\"#DejaVuSans-97\"/>\n      <use transform=\"translate(1631.186523 0.765625)\" xlink:href=\"#DejaVuSans-110\"/>\n      <use transform=\"translate(1694.56543 0.765625)\" xlink:href=\"#DejaVuSans-41\"/>\n     </g>\n    </g>\n    <g id=\"text_20\">\n     <!-- 1e14 -->\n     <defs>\n      <path d=\"M 37.796875 64.3125 \nL 12.890625 25.390625 \nL 37.796875 25.390625 \nz\nM 35.203125 72.90625 \nL 47.609375 72.90625 \nL 47.609375 25.390625 \nL 58.015625 25.390625 \nL 58.015625 17.1875 \nL 47.609375 17.1875 \nL 47.609375 0 \nL 37.796875 0 \nL 37.796875 17.1875 \nL 4.890625 17.1875 \nL 4.890625 26.703125 \nz\n\" id=\"DejaVuSans-52\"/>\n     </defs>\n     <g transform=\"translate(60.045313 14.798437)scale(0.1 -0.1)\">\n      <use xlink:href=\"#DejaVuSans-49\"/>\n      <use x=\"63.623047\" xlink:href=\"#DejaVuSans-101\"/>\n      <use x=\"125.146484\" xlink:href=\"#DejaVuSans-49\"/>\n      <use x=\"188.769531\" xlink:href=\"#DejaVuSans-52\"/>\n     </g>\n    </g>\n   </g>\n   <g id=\"line2d_18\">\n    <path clip-path=\"url(#p05fa3a62a7)\" d=\"M 75.263494 190.053032 \nL 78.337874 190.052878 \nL 81.412255 190.050903 \nL 84.486635 190.039009 \nL 87.561015 189.995696 \nL 90.635395 189.884365 \nL 93.709775 189.661273 \nL 96.784155 189.288886 \nL 99.858536 188.747073 \nL 102.932916 188.037685 \nL 106.007296 187.182604 \nL 109.081676 186.217823 \nL 112.156056 185.186359 \nL 115.230436 184.131971 \nL 118.304817 183.094586 \nL 121.379197 182.107568 \nL 124.453577 181.196571 \nL 127.527957 180.379514 \nL 130.602337 179.667283 \nL 133.676717 179.064805 \nL 136.751098 178.572239 \nL 139.825478 178.18614 \nL 142.899858 177.900506 \nL 145.974238 177.707655 \nL 149.048618 177.598935 \nL 152.122998 177.56528 \nL 155.197379 177.597618 \nL 158.271759 177.687163 \nL 161.346139 177.82561 \nL 164.420519 178.005263 \nL 167.494899 178.219095 \nL 170.569279 178.460777 \nL 173.64366 178.724666 \nL 176.71804 179.005785 \nL 179.79242 179.299782 \nL 182.8668 179.602879 \nL 185.94118 179.911829 \nL 189.01556 180.223857 \nL 192.089941 180.536615 \nL 195.164321 180.848131 \nL 198.238701 181.156766 \nL 201.313081 181.46117 \nL 204.387461 181.760247 \nL 207.461841 182.053119 \nL 210.536222 182.339099 \nL 213.610602 182.61766 \nL 216.684982 182.888412 \nL 219.759362 183.151083 \nL 222.833742 183.405503 \nL 225.908122 183.65158 \nL 228.982503 183.889294 \nL 232.056883 184.118682 \nL 235.131263 184.339829 \nL 238.205643 184.552856 \nL 241.280023 184.757917 \nL 244.354403 184.955189 \nL 247.428784 185.144867 \nL 250.503164 185.327163 \nL 253.577544 185.502297 \nL 256.651924 185.670495 \nL 259.726304 185.831989 \nL 262.800684 185.987012 \nL 265.875065 186.135799 \nL 268.949445 186.278579 \nL 272.023825 186.415582 \nL 275.098205 186.547032 \nL 278.172585 186.67315 \nL 281.246965 186.794149 \nL 284.321346 186.91024 \nL 287.395726 187.021623 \nL 290.470106 187.128496 \nL 293.544486 187.231047 \nL 296.618866 187.32946 \nL 299.693246 187.423911 \nL 302.767627 187.514569 \nL 305.842007 187.601596 \nL 308.916387 187.685149 \nL 311.990767 187.765378 \nL 315.065147 187.842426 \nL 318.139527 187.916431 \nL 321.213908 187.987525 \nL 324.288288 188.055833 \nL 327.362668 188.121476 \nL 330.437048 188.18457 \nL 333.511428 188.245223 \nL 336.585808 188.303542 \nL 339.660189 188.359627 \nL 342.734569 188.413574 \nL 345.808949 188.465474 \nL 348.883329 188.515415 \nL 351.957709 188.56348 \nL 355.032089 188.609748 \nL 358.10647 188.654297 \nL 361.18085 188.697198 \nL 364.25523 188.738521 \nL 367.32961 188.778332 \nL 370.40399 188.816694 \nL 373.47837 188.853667 \nL 376.552751 188.889309 \nL 379.627131 188.923674 \n\" style=\"fill:none;stroke:#1f77b4;stroke-dasharray:2,3.3;stroke-dashoffset:0;stroke-width:2;\"/>\n   </g>\n   <g id=\"line2d_19\">\n    <path clip-path=\"url(#p05fa3a62a7)\" d=\"M 75.263494 189.873325 \nL 78.337874 188.700993 \nL 81.412255 184.857737 \nL 84.486635 176.839202 \nL 87.561015 164.370585 \nL 90.635395 148.500639 \nL 93.709775 130.990902 \nL 96.784155 113.638338 \nL 99.858536 97.858359 \nL 102.932916 84.54652 \nL 106.007296 74.117505 \nL 109.081676 66.619885 \nL 112.156056 61.861978 \nL 115.230436 59.518288 \nL 118.304817 59.207578 \nL 121.379197 60.544273 \nL 124.453577 63.168813 \nL 127.527957 66.763049 \nL 130.602337 71.055811 \nL 133.676717 75.822544 \nL 136.751098 80.881669 \nL 139.825478 86.089443 \nL 142.899858 91.334365 \nL 145.974238 96.531777 \nL 149.048618 101.618937 \nL 152.122998 106.550734 \nL 155.197379 111.296045 \nL 158.271759 115.8347 \nL 161.346139 120.155002 \nL 164.420519 124.25172 \nL 167.494899 128.124483 \nL 170.569279 131.776501 \nL 173.64366 135.213568 \nL 176.71804 138.443276 \nL 179.79242 141.47441 \nL 182.8668 144.316489 \nL 185.94118 146.979408 \nL 189.01556 149.473176 \nL 192.089941 151.807725 \nL 195.164321 153.992766 \nL 198.238701 156.03769 \nL 201.313081 157.951506 \nL 204.387461 159.742792 \nL 207.461841 161.419678 \nL 210.536222 162.989833 \nL 213.610602 164.460466 \nL 216.684982 165.838337 \nL 219.759362 167.129768 \nL 222.833742 168.340663 \nL 225.908122 169.476522 \nL 228.982503 170.542471 \nL 232.056883 171.543275 \nL 235.131263 172.483364 \nL 238.205643 173.366854 \nL 241.280023 174.197568 \nL 244.354403 174.979054 \nL 247.428784 175.714605 \nL 250.503164 176.407279 \nL 253.577544 177.059914 \nL 256.651924 177.675143 \nL 259.726304 178.255413 \nL 262.800684 178.802993 \nL 265.875065 179.319993 \nL 268.949445 179.808372 \nL 272.023825 180.269951 \nL 275.098205 180.706422 \nL 278.172585 181.119361 \nL 281.246965 181.510231 \nL 284.321346 181.880395 \nL 287.395726 182.231124 \nL 290.470106 182.563598 \nL 293.544486 182.87892 \nL 296.618866 183.178118 \nL 299.693246 183.462148 \nL 302.767627 183.731906 \nL 305.842007 183.988226 \nL 308.916387 184.231888 \nL 311.990767 184.463622 \nL 315.065147 184.684107 \nL 318.139527 184.893983 \nL 321.213908 185.093844 \nL 324.288288 185.284251 \nL 327.362668 185.465726 \nL 330.437048 185.63876 \nL 333.511428 185.803812 \nL 336.585808 185.961314 \nL 339.660189 186.111671 \nL 342.734569 186.255263 \nL 345.808949 186.392448 \nL 348.883329 186.523561 \nL 351.957709 186.648917 \nL 355.032089 186.768814 \nL 358.10647 186.883531 \nL 361.18085 186.993332 \nL 364.25523 187.098464 \nL 367.32961 187.19916 \nL 370.40399 187.295643 \nL 373.47837 187.388118 \nL 376.552751 187.476782 \nL 379.627131 187.56182 \n\" style=\"fill:none;stroke:#ff7f0e;stroke-dasharray:2,3.3;stroke-dashoffset:0;stroke-width:2;\"/>\n   </g>\n   <g id=\"line2d_20\">\n    <path clip-path=\"url(#p05fa3a62a7)\" d=\"M 75.263494 189.873321 \nL 78.337874 188.700834 \nL 81.412255 184.855603 \nL 84.486635 176.825175 \nL 87.561015 164.313245 \nL 90.635395 148.331968 \nL 93.709775 130.599138 \nL 96.784155 112.874188 \nL 99.858536 96.552396 \nL 102.932916 82.531169 \nL 106.007296 71.247073 \nL 109.081676 62.784672 \nL 112.156056 56.995301 \nL 115.230436 53.597224 \nL 118.304817 52.249128 \nL 121.379197 52.598805 \nL 124.453577 54.312348 \nL 127.527957 57.089527 \nL 130.602337 60.670058 \nL 133.676717 64.834313 \nL 136.751098 69.400872 \nL 139.825478 74.222547 \nL 142.899858 79.181836 \nL 145.974238 84.186395 \nL 149.048618 89.164835 \nL 152.122998 94.062978 \nL 155.197379 98.840627 \nL 158.271759 103.468826 \nL 161.346139 107.927576 \nL 164.420519 112.203947 \nL 167.494899 116.290542 \nL 170.569279 120.184242 \nL 173.64366 123.885198 \nL 176.71804 127.396025 \nL 179.79242 130.721156 \nL 182.8668 133.866332 \nL 185.94118 136.8382 \nL 189.01556 139.643997 \nL 192.089941 142.291304 \nL 195.164321 144.787861 \nL 198.238701 147.14142 \nL 201.313081 149.35964 \nL 204.387461 151.450003 \nL 207.461841 153.419761 \nL 210.536222 155.275896 \nL 213.610602 157.025089 \nL 216.684982 158.673712 \nL 219.759362 160.227816 \nL 222.833742 161.693129 \nL 225.908122 163.075066 \nL 228.982503 164.378729 \nL 232.056883 165.608921 \nL 235.131263 166.770157 \nL 238.205643 167.866674 \nL 241.280023 168.902449 \nL 244.354403 169.881206 \nL 247.428784 170.806436 \nL 250.503164 171.681406 \nL 253.577544 172.509174 \nL 256.651924 173.292602 \nL 259.726304 174.034365 \nL 262.800684 174.736969 \nL 265.875065 175.402755 \nL 268.949445 176.033914 \nL 272.023825 176.632496 \nL 275.098205 177.200418 \nL 278.172585 177.739474 \nL 281.246965 178.251344 \nL 284.321346 178.737599 \nL 287.395726 179.199711 \nL 290.470106 179.639058 \nL 293.544486 180.056932 \nL 296.618866 180.454542 \nL 299.693246 180.833023 \nL 302.767627 181.193438 \nL 305.842007 181.536786 \nL 308.916387 181.864001 \nL 311.990767 182.175963 \nL 315.065147 182.473497 \nL 318.139527 182.757378 \nL 321.213908 183.028333 \nL 324.288288 183.287048 \nL 327.362668 183.534166 \nL 330.437048 183.770293 \nL 333.511428 183.995999 \nL 336.585808 184.211821 \nL 339.660189 184.418263 \nL 342.734569 184.615801 \nL 345.808949 184.804886 \nL 348.883329 184.985939 \nL 351.957709 185.15936 \nL 355.032089 185.325526 \nL 358.10647 185.484792 \nL 361.18085 185.637494 \nL 364.25523 185.783949 \nL 367.32961 185.924457 \nL 370.40399 186.0593 \nL 373.47837 186.188749 \nL 376.552751 186.313055 \nL 379.627131 186.432458 \n\" style=\"fill:none;stroke:#2ca02c;stroke-dasharray:2,3.3;stroke-dashoffset:0;stroke-width:2;\"/>\n   </g>\n   <g id=\"line2d_21\">\n    <path clip-path=\"url(#p05fa3a62a7)\" d=\"M 75.263494 154.676235 \nL 76.800684 154.676235 \nL 76.800684 201.956663 \nL 79.875065 201.956663 \nL 79.875065 196.300279 \nL 82.949445 196.300279 \nL 82.949445 200.074768 \nL 86.023825 200.074768 \nL 86.023825 145.561182 \nL 89.098205 145.561182 \nL 89.098205 198.2028 \nL 92.172585 198.2028 \nL 92.172585 92.791729 \nL 95.246965 92.791729 \nL 95.246965 129.36838 \nL 98.321346 129.36838 \nL 98.321346 89.639306 \nL 101.395726 89.639306 \nL 101.395726 87.934645 \nL 104.470106 87.934645 \nL 104.470106 39.565425 \nL 107.544486 39.565425 \nL 107.544486 107.424778 \nL 110.618866 107.424778 \nL 110.618866 63.98159 \nL 113.693246 63.98159 \nL 113.693246 61.919096 \nL 116.767627 61.919096 \nL 116.767627 27.682074 \nL 119.842007 27.682074 \nL 119.842007 76.431771 \nL 122.916387 76.431771 \nL 122.916387 58.048605 \nL 125.990767 58.048605 \nL 125.990767 76.111379 \nL 129.065147 76.111379 \nL 129.065147 59.755351 \nL 132.139527 59.755351 \nL 132.139527 52.205596 \nL 135.213908 52.205596 \nL 135.213908 93.24961 \nL 138.288288 93.24961 \nL 138.288288 49.41813 \nL 141.362668 49.41813 \nL 141.362668 59.64574 \nL 144.437048 59.64574 \nL 144.437048 73.29811 \nL 147.511428 73.29811 \nL 147.511428 69.644661 \nL 150.585808 69.644661 \nL 150.585808 108.878318 \nL 153.660189 108.878318 \nL 153.660189 101.503471 \nL 156.734569 101.503471 \nL 156.734569 123.745522 \nL 159.808949 123.745522 \nL 159.808949 113.732302 \nL 162.883329 113.732302 \nL 162.883329 100.711953 \nL 165.957709 100.711953 \nL 165.957709 131.277775 \nL 169.032089 131.277775 \nL 169.032089 128.781285 \nL 172.10647 128.781285 \nL 172.10647 138.775182 \nL 175.18085 138.775182 \nL 175.18085 145.710342 \nL 178.25523 145.710342 \nL 178.25523 145.266036 \nL 181.32961 145.266036 \nL 181.32961 134.140755 \nL 184.40399 134.140755 \nL 184.40399 161.048611 \nL 187.47837 161.048611 \nL 187.47837 134.564566 \nL 190.552751 134.564566 \nL 190.552751 106.325923 \nL 193.627131 106.325923 \nL 193.627131 128.708896 \nL 196.701511 128.708896 \nL 196.701511 151.298204 \nL 199.775891 151.298204 \nL 199.775891 168.593205 \nL 202.850271 168.593205 \nL 202.850271 167.639783 \nL 205.924651 167.639783 \nL 205.924651 116.746852 \nL 208.999032 116.746852 \nL 208.999032 154.174969 \nL 212.073412 154.174969 \nL 212.073412 170.827813 \nL 215.147792 170.827813 \nL 215.147792 154.536865 \nL 218.222172 154.536865 \nL 218.222172 114.718491 \nL 221.296552 114.718491 \nL 221.296552 159.089468 \nL 224.370932 159.089468 \nL 224.370932 149.701216 \nL 227.445312 149.701216 \nL 227.445312 157.874496 \nL 230.519693 157.874496 \nL 230.519693 173.241638 \nL 233.594073 173.241638 \nL 233.594073 191.526783 \nL 236.668453 191.526783 \nL 236.668453 175.436398 \nL 239.742833 175.436398 \nL 239.742833 173.428868 \nL 242.817213 173.428868 \nL 242.817213 157.169977 \nL 245.891593 157.169977 \nL 245.891593 152.626946 \nL 248.965974 152.626946 \nL 248.965974 151.505845 \nL 252.040354 151.505845 \nL 252.040354 166.320933 \nL 255.114734 166.320933 \nL 255.114734 154.112943 \nL 258.189114 154.112943 \nL 258.189114 190.381018 \nL 261.263494 190.381018 \nL 261.263494 147.589228 \nL 264.337874 147.589228 \nL 264.337874 164.288349 \nL 267.412255 164.288349 \nL 267.412255 182.493131 \nL 270.486635 182.493131 \nL 270.486635 166.047053 \nL 273.561015 166.047053 \nL 273.561015 178.837942 \nL 276.635395 178.837942 \nL 276.635395 153.218792 \nL 279.709775 153.218792 \nL 279.709775 145.319232 \nL 282.784155 145.319232 \nL 282.784155 131.379514 \nL 285.858536 131.379514 \nL 285.858536 209.459656 \nL 288.932916 209.459656 \nL 288.932916 210.930801 \nL 292.007296 210.930801 \nL 292.007296 190.987937 \nL 295.081676 190.987937 \nL 295.081676 176.986783 \nL 298.156056 176.986783 \nL 298.156056 161.847779 \nL 301.230436 161.847779 \nL 301.230436 174.354111 \nL 304.304817 174.354111 \nL 304.304817 225.354801 \nL 307.379197 225.354801 \nL 307.379197 188.498975 \nL 310.453577 188.498975 \nL 310.453577 164.235016 \nL 313.527957 164.235016 \nL 313.527957 177.487695 \nL 316.602337 177.487695 \nL 316.602337 166.245758 \nL 319.676717 166.245758 \nL 319.676717 187.845845 \nL 322.751098 187.845845 \nL 322.751098 187.637169 \nL 325.825478 187.637169 \nL 325.825478 179.491666 \nL 328.899858 179.491666 \nL 328.899858 174.8851 \nL 331.974238 174.8851 \nL 331.974238 179.699147 \nL 335.048618 179.699147 \nL 335.048618 181.633085 \nL 338.122998 181.633085 \nL 338.122998 198.950491 \nL 341.197379 198.950491 \nL 341.197379 176.43457 \nL 344.271759 176.43457 \nL 344.271759 182.165205 \nL 347.346139 182.165205 \nL 347.346139 160.511746 \nL 350.420519 160.511746 \nL 350.420519 159.180639 \nL 353.494899 159.180639 \nL 353.494899 181.313469 \nL 356.569279 181.313469 \nL 356.569279 193.616645 \nL 359.64366 193.616645 \nL 359.64366 199.477807 \nL 362.71804 199.477807 \nL 362.71804 176.607472 \nL 365.79242 176.607472 \nL 365.79242 184.248615 \nL 368.8668 184.248615 \nL 368.8668 193.510085 \nL 371.94118 193.510085 \nL 371.94118 185.244071 \nL 375.01556 185.244071 \nL 375.01556 199.747527 \nL 378.089941 199.747527 \nL 378.089941 171.307169 \nL 379.627131 171.307169 \nL 379.627131 171.307169 \n\" style=\"fill:none;stroke:#d62728;stroke-linecap:square;stroke-width:2;\"/>\n   </g>\n   <g id=\"line2d_22\">\n    <path clip-path=\"url(#p05fa3a62a7)\" d=\"M 75.263494 189.898804 \nL 78.337874 188.863445 \nL 81.412255 185.39679 \nL 84.486635 178.034024 \nL 87.561015 166.394773 \nL 90.635395 151.330408 \nL 93.709775 134.401889 \nL 96.784155 117.264365 \nL 99.858536 101.271423 \nL 102.932916 87.328703 \nL 106.007296 75.911392 \nL 109.081676 67.155638 \nL 112.156056 60.965198 \nL 115.230436 57.10469 \nL 118.304817 55.270116 \nL 121.379197 55.137091 \nL 124.453577 56.390942 \nL 127.527957 58.743574 \nL 130.602337 61.941339 \nL 133.676717 65.767204 \nL 136.751098 70.039547 \nL 139.825478 74.609138 \nL 142.899858 79.355338 \nL 145.974238 84.182093 \nL 149.048618 89.014099 \nL 152.122998 93.793311 \nL 155.197379 98.475857 \nL 158.271759 103.029395 \nL 161.346139 107.430864 \nL 164.420519 111.664615 \nL 167.494899 115.720862 \nL 170.569279 119.59441 \nL 173.64366 123.283622 \nL 176.71804 126.789582 \nL 179.79242 130.115423 \nL 182.8668 133.265782 \nL 185.94118 136.246382 \nL 189.01556 139.063682 \nL 192.089941 141.724617 \nL 195.164321 144.236389 \nL 198.238701 146.606308 \nL 201.313081 148.841666 \nL 204.387461 150.949648 \nL 207.461841 152.937265 \nL 210.536222 154.8113 \nL 213.610602 156.578283 \nL 216.684982 158.244459 \nL 219.759362 159.815783 \nL 222.833742 161.297912 \nL 225.908122 162.696203 \nL 228.982503 164.01572 \nL 232.056883 165.261237 \nL 235.131263 166.437253 \nL 238.205643 167.547997 \nL 241.280023 168.597441 \nL 244.354403 169.589313 \nL 247.428784 170.527112 \nL 250.503164 171.414114 \nL 253.577544 172.25339 \nL 256.651924 173.047817 \nL 259.726304 173.800088 \nL 262.800684 174.512723 \nL 265.875065 175.188081 \nL 268.949445 175.828373 \nL 272.023825 176.435664 \nL 275.098205 177.011892 \nL 278.172585 177.558866 \nL 281.246965 178.078284 \nL 284.321346 178.571735 \nL 287.395726 179.040706 \nL 290.470106 179.486592 \nL 293.544486 179.9107 \nL 296.618866 180.314253 \nL 299.693246 180.698401 \nL 302.767627 181.06422 \nL 305.842007 181.412721 \nL 308.916387 181.744853 \nL 311.990767 182.061505 \nL 315.065147 182.363514 \nL 318.139527 182.651666 \nL 321.213908 182.926699 \nL 324.288288 183.189308 \nL 327.362668 183.440144 \nL 330.437048 183.679823 \nL 333.511428 183.908923 \nL 336.585808 184.127988 \nL 339.660189 184.33753 \nL 342.734569 184.538034 \nL 345.808949 184.729954 \nL 348.883329 184.91372 \nL 351.957709 185.089737 \nL 355.032089 185.258388 \nL 358.10647 185.420033 \nL 361.18085 185.575013 \nL 364.25523 185.723651 \nL 367.32961 185.86625 \nL 370.40399 186.003098 \nL 373.47837 186.134468 \nL 376.552751 186.260617 \nL 379.627131 186.381788 \n\" style=\"fill:none;stroke:#9467bd;stroke-linecap:square;stroke-width:1.5;\"/>\n   </g>\n   <g id=\"patch_3\">\n    <path d=\"M 60.045313 235.238438 \nL 60.045313 17.798437 \n\" style=\"fill:none;stroke:#000000;stroke-linecap:square;stroke-linejoin:miter;stroke-width:0.8;\"/>\n   </g>\n   <g id=\"patch_4\">\n    <path d=\"M 394.845313 235.238438 \nL 394.845313 17.798437 \n\" style=\"fill:none;stroke:#000000;stroke-linecap:square;stroke-linejoin:miter;stroke-width:0.8;\"/>\n   </g>\n   <g id=\"patch_5\">\n    <path d=\"M 60.045313 235.238438 \nL 394.845312 235.238438 \n\" style=\"fill:none;stroke:#000000;stroke-linecap:square;stroke-linejoin:miter;stroke-width:0.8;\"/>\n   </g>\n   <g id=\"patch_6\">\n    <path d=\"M 60.045313 17.798438 \nL 394.845312 17.798438 \n\" style=\"fill:none;stroke:#000000;stroke-linecap:square;stroke-linejoin:miter;stroke-width:0.8;\"/>\n   </g>\n   <g id=\"legend_1\">\n    <g id=\"line2d_23\">\n     <path d=\"M 295.203125 30.896875 \nL 315.203125 30.896875 \n\" style=\"fill:none;stroke:#1f77b4;stroke-dasharray:2,3.3;stroke-dashoffset:0;stroke-width:2;\"/>\n    </g>\n    <g id=\"line2d_24\"/>\n    <g id=\"text_21\">\n     <!-- T1=5000 -->\n     <defs>\n      <path d=\"M -0.296875 72.90625 \nL 61.375 72.90625 \nL 61.375 64.59375 \nL 35.5 64.59375 \nL 35.5 0 \nL 25.59375 0 \nL 25.59375 64.59375 \nL -0.296875 64.59375 \nz\n\" id=\"DejaVuSans-84\"/>\n      <path d=\"M 10.59375 45.40625 \nL 73.1875 45.40625 \nL 73.1875 37.203125 \nL 10.59375 37.203125 \nz\nM 10.59375 25.484375 \nL 73.1875 25.484375 \nL 73.1875 17.1875 \nL 10.59375 17.1875 \nz\n\" id=\"DejaVuSans-61\"/>\n     </defs>\n     <g transform=\"translate(323.203125 34.396875)scale(0.1 -0.1)\">\n      <use xlink:href=\"#DejaVuSans-84\"/>\n      <use x=\"61.083984\" xlink:href=\"#DejaVuSans-49\"/>\n      <use x=\"124.707031\" xlink:href=\"#DejaVuSans-61\"/>\n      <use x=\"208.496094\" xlink:href=\"#DejaVuSans-53\"/>\n      <use x=\"272.119141\" xlink:href=\"#DejaVuSans-48\"/>\n      <use x=\"335.742188\" xlink:href=\"#DejaVuSans-48\"/>\n      <use x=\"399.365234\" xlink:href=\"#DejaVuSans-48\"/>\n     </g>\n    </g>\n    <g id=\"line2d_25\">\n     <path d=\"M 295.203125 45.575 \nL 315.203125 45.575 \n\" style=\"fill:none;stroke:#ff7f0e;stroke-dasharray:2,3.3;stroke-dashoffset:0;stroke-width:2;\"/>\n    </g>\n    <g id=\"line2d_26\"/>\n    <g id=\"text_22\">\n     <!-- T2=8000 -->\n     <defs>\n      <path d=\"M 31.78125 34.625 \nQ 24.75 34.625 20.71875 30.859375 \nQ 16.703125 27.09375 16.703125 20.515625 \nQ 16.703125 13.921875 20.71875 10.15625 \nQ 24.75 6.390625 31.78125 6.390625 \nQ 38.8125 6.390625 42.859375 10.171875 \nQ 46.921875 13.96875 46.921875 20.515625 \nQ 46.921875 27.09375 42.890625 30.859375 \nQ 38.875 34.625 31.78125 34.625 \nz\nM 21.921875 38.8125 \nQ 15.578125 40.375 12.03125 44.71875 \nQ 8.5 49.078125 8.5 55.328125 \nQ 8.5 64.0625 14.71875 69.140625 \nQ 20.953125 74.21875 31.78125 74.21875 \nQ 42.671875 74.21875 48.875 69.140625 \nQ 55.078125 64.0625 55.078125 55.328125 \nQ 55.078125 49.078125 51.53125 44.71875 \nQ 48 40.375 41.703125 38.8125 \nQ 48.828125 37.15625 52.796875 32.3125 \nQ 56.78125 27.484375 56.78125 20.515625 \nQ 56.78125 9.90625 50.3125 4.234375 \nQ 43.84375 -1.421875 31.78125 -1.421875 \nQ 19.734375 -1.421875 13.25 4.234375 \nQ 6.78125 9.90625 6.78125 20.515625 \nQ 6.78125 27.484375 10.78125 32.3125 \nQ 14.796875 37.15625 21.921875 38.8125 \nz\nM 18.3125 54.390625 \nQ 18.3125 48.734375 21.84375 45.5625 \nQ 25.390625 42.390625 31.78125 42.390625 \nQ 38.140625 42.390625 41.71875 45.5625 \nQ 45.3125 48.734375 45.3125 54.390625 \nQ 45.3125 60.0625 41.71875 63.234375 \nQ 38.140625 66.40625 31.78125 66.40625 \nQ 25.390625 66.40625 21.84375 63.234375 \nQ 18.3125 60.0625 18.3125 54.390625 \nz\n\" id=\"DejaVuSans-56\"/>\n     </defs>\n     <g transform=\"translate(323.203125 49.075)scale(0.1 -0.1)\">\n      <use xlink:href=\"#DejaVuSans-84\"/>\n      <use x=\"61.083984\" xlink:href=\"#DejaVuSans-50\"/>\n      <use x=\"124.707031\" xlink:href=\"#DejaVuSans-61\"/>\n      <use x=\"208.496094\" xlink:href=\"#DejaVuSans-56\"/>\n      <use x=\"272.119141\" xlink:href=\"#DejaVuSans-48\"/>\n      <use x=\"335.742188\" xlink:href=\"#DejaVuSans-48\"/>\n      <use x=\"399.365234\" xlink:href=\"#DejaVuSans-48\"/>\n     </g>\n    </g>\n    <g id=\"line2d_27\">\n     <path d=\"M 295.203125 66.891875 \nL 315.203125 66.891875 \n\" style=\"fill:none;stroke:#2ca02c;stroke-dasharray:2,3.3;stroke-dashoffset:0;stroke-width:2;\"/>\n    </g>\n    <g id=\"line2d_28\"/>\n    <g id=\"text_23\">\n     <!-- T1 + T2 -->\n     <defs>\n      <path d=\"M 46 62.703125 \nL 46 35.5 \nL 73.1875 35.5 \nL 73.1875 27.203125 \nL 46 27.203125 \nL 46 0 \nL 37.796875 0 \nL 37.796875 27.203125 \nL 10.59375 27.203125 \nL 10.59375 35.5 \nL 37.796875 35.5 \nL 37.796875 62.703125 \nz\n\" id=\"DejaVuSans-43\"/>\n     </defs>\n     <g transform=\"translate(323.203125 63.753125)scale(0.1 -0.1)\">\n      <use xlink:href=\"#DejaVuSans-84\"/>\n      <use x=\"61.083984\" xlink:href=\"#DejaVuSans-49\"/>\n      <use x=\"124.707031\" xlink:href=\"#DejaVuSans-32\"/>\n      <use x=\"156.494141\" xlink:href=\"#DejaVuSans-43\"/>\n      <use x=\"240.283203\" xlink:href=\"#DejaVuSans-32\"/>\n      <use x=\"272.070312\" xlink:href=\"#DejaVuSans-84\"/>\n      <use x=\"333.154297\" xlink:href=\"#DejaVuSans-50\"/>\n     </g>\n     <!-- (true model) -->\n     <defs>\n      <path d=\"M 8.5 21.578125 \nL 8.5 54.6875 \nL 17.484375 54.6875 \nL 17.484375 21.921875 \nQ 17.484375 14.15625 20.5 10.265625 \nQ 23.53125 6.390625 29.59375 6.390625 \nQ 36.859375 6.390625 41.078125 11.03125 \nQ 45.3125 15.671875 45.3125 23.6875 \nL 45.3125 54.6875 \nL 54.296875 54.6875 \nL 54.296875 0 \nL 45.3125 0 \nL 45.3125 8.40625 \nQ 42.046875 3.421875 37.71875 1 \nQ 33.40625 -1.421875 27.6875 -1.421875 \nQ 18.265625 -1.421875 13.375 4.4375 \nQ 8.5 10.296875 8.5 21.578125 \nz\nM 31.109375 56 \nz\n\" id=\"DejaVuSans-117\"/>\n     </defs>\n     <g transform=\"translate(323.203125 74.950938)scale(0.1 -0.1)\">\n      <use xlink:href=\"#DejaVuSans-40\"/>\n      <use x=\"39.013672\" xlink:href=\"#DejaVuSans-116\"/>\n      <use x=\"78.222656\" xlink:href=\"#DejaVuSans-114\"/>\n      <use x=\"119.335938\" xlink:href=\"#DejaVuSans-117\"/>\n      <use x=\"182.714844\" xlink:href=\"#DejaVuSans-101\"/>\n      <use x=\"244.238281\" xlink:href=\"#DejaVuSans-32\"/>\n      <use x=\"276.025391\" xlink:href=\"#DejaVuSans-109\"/>\n      <use x=\"373.4375\" xlink:href=\"#DejaVuSans-111\"/>\n      <use x=\"434.619141\" xlink:href=\"#DejaVuSans-100\"/>\n      <use x=\"498.095703\" xlink:href=\"#DejaVuSans-101\"/>\n      <use x=\"559.619141\" xlink:href=\"#DejaVuSans-108\"/>\n      <use x=\"587.402344\" xlink:href=\"#DejaVuSans-41\"/>\n     </g>\n    </g>\n    <g id=\"line2d_29\">\n     <path d=\"M 295.203125 86.129063 \nL 315.203125 86.129063 \n\" style=\"fill:none;stroke:#d62728;stroke-linecap:square;stroke-width:2;\"/>\n    </g>\n    <g id=\"line2d_30\"/>\n    <g id=\"text_24\">\n     <!-- Fake data -->\n     <defs>\n      <path d=\"M 9.8125 72.90625 \nL 51.703125 72.90625 \nL 51.703125 64.59375 \nL 19.671875 64.59375 \nL 19.671875 43.109375 \nL 48.578125 43.109375 \nL 48.578125 34.8125 \nL 19.671875 34.8125 \nL 19.671875 0 \nL 9.8125 0 \nz\n\" id=\"DejaVuSans-70\"/>\n      <path d=\"M 9.078125 75.984375 \nL 18.109375 75.984375 \nL 18.109375 31.109375 \nL 44.921875 54.6875 \nL 56.390625 54.6875 \nL 27.390625 29.109375 \nL 57.625 0 \nL 45.90625 0 \nL 18.109375 26.703125 \nL 18.109375 0 \nL 9.078125 0 \nz\n\" id=\"DejaVuSans-107\"/>\n     </defs>\n     <g transform=\"translate(323.203125 89.629063)scale(0.1 -0.1)\">\n      <use xlink:href=\"#DejaVuSans-70\"/>\n      <use x=\"48.394531\" xlink:href=\"#DejaVuSans-97\"/>\n      <use x=\"109.673828\" xlink:href=\"#DejaVuSans-107\"/>\n      <use x=\"163.958984\" xlink:href=\"#DejaVuSans-101\"/>\n      <use x=\"225.482422\" xlink:href=\"#DejaVuSans-32\"/>\n      <use x=\"257.269531\" xlink:href=\"#DejaVuSans-100\"/>\n      <use x=\"320.746094\" xlink:href=\"#DejaVuSans-97\"/>\n      <use x=\"382.025391\" xlink:href=\"#DejaVuSans-116\"/>\n      <use x=\"421.234375\" xlink:href=\"#DejaVuSans-97\"/>\n     </g>\n    </g>\n    <g id=\"line2d_31\">\n     <path d=\"M 295.203125 107.445938 \nL 315.203125 107.445938 \n\" style=\"fill:none;stroke:#9467bd;stroke-linecap:square;stroke-width:1.5;\"/>\n    </g>\n    <g id=\"line2d_32\"/>\n    <g id=\"text_25\">\n     <!-- Best fitting -->\n     <defs>\n      <path d=\"M 19.671875 34.8125 \nL 19.671875 8.109375 \nL 35.5 8.109375 \nQ 43.453125 8.109375 47.28125 11.40625 \nQ 51.125 14.703125 51.125 21.484375 \nQ 51.125 28.328125 47.28125 31.5625 \nQ 43.453125 34.8125 35.5 34.8125 \nz\nM 19.671875 64.796875 \nL 19.671875 42.828125 \nL 34.28125 42.828125 \nQ 41.5 42.828125 45.03125 45.53125 \nQ 48.578125 48.25 48.578125 53.8125 \nQ 48.578125 59.328125 45.03125 62.0625 \nQ 41.5 64.796875 34.28125 64.796875 \nz\nM 9.8125 72.90625 \nL 35.015625 72.90625 \nQ 46.296875 72.90625 52.390625 68.21875 \nQ 58.5 63.53125 58.5 54.890625 \nQ 58.5 48.1875 55.375 44.234375 \nQ 52.25 40.28125 46.1875 39.3125 \nQ 53.46875 37.75 57.5 32.78125 \nQ 61.53125 27.828125 61.53125 20.40625 \nQ 61.53125 10.640625 54.890625 5.3125 \nQ 48.25 0 35.984375 0 \nL 9.8125 0 \nz\n\" id=\"DejaVuSans-66\"/>\n      <path d=\"M 37.109375 75.984375 \nL 37.109375 68.5 \nL 28.515625 68.5 \nQ 23.6875 68.5 21.796875 66.546875 \nQ 19.921875 64.59375 19.921875 59.515625 \nL 19.921875 54.6875 \nL 34.71875 54.6875 \nL 34.71875 47.703125 \nL 19.921875 47.703125 \nL 19.921875 0 \nL 10.890625 0 \nL 10.890625 47.703125 \nL 2.296875 47.703125 \nL 2.296875 54.6875 \nL 10.890625 54.6875 \nL 10.890625 58.5 \nQ 10.890625 67.625 15.140625 71.796875 \nQ 19.390625 75.984375 28.609375 75.984375 \nz\n\" id=\"DejaVuSans-102\"/>\n     </defs>\n     <g transform=\"translate(323.203125 104.307188)scale(0.1 -0.1)\">\n      <use xlink:href=\"#DejaVuSans-66\"/>\n      <use x=\"68.603516\" xlink:href=\"#DejaVuSans-101\"/>\n      <use x=\"130.126953\" xlink:href=\"#DejaVuSans-115\"/>\n      <use x=\"182.226562\" xlink:href=\"#DejaVuSans-116\"/>\n      <use x=\"221.435547\" xlink:href=\"#DejaVuSans-32\"/>\n      <use x=\"253.222656\" xlink:href=\"#DejaVuSans-102\"/>\n      <use x=\"288.427734\" xlink:href=\"#DejaVuSans-105\"/>\n      <use x=\"316.210938\" xlink:href=\"#DejaVuSans-116\"/>\n      <use x=\"355.419922\" xlink:href=\"#DejaVuSans-116\"/>\n      <use x=\"394.628906\" xlink:href=\"#DejaVuSans-105\"/>\n      <use x=\"422.412109\" xlink:href=\"#DejaVuSans-110\"/>\n      <use x=\"485.791016\" xlink:href=\"#DejaVuSans-103\"/>\n     </g>\n     <!-- model -->\n     <g transform=\"translate(323.203125 115.505)scale(0.1 -0.1)\">\n      <use xlink:href=\"#DejaVuSans-109\"/>\n      <use x=\"97.412109\" xlink:href=\"#DejaVuSans-111\"/>\n      <use x=\"158.59375\" xlink:href=\"#DejaVuSans-100\"/>\n      <use x=\"222.070312\" xlink:href=\"#DejaVuSans-101\"/>\n      <use x=\"283.59375\" xlink:href=\"#DejaVuSans-108\"/>\n     </g>\n    </g>\n   </g>\n  </g>\n </g>\n <defs>\n  <clipPath id=\"p05fa3a62a7\">\n   <rect height=\"217.44\" width=\"334.8\" x=\"60.045313\" y=\"17.798438\"/>\n  </clipPath>\n </defs>\n</svg>\n"
          },
          "metadata": {
            "needs_background": "light"
          }
        }
      ]
    },
    {
      "cell_type": "markdown",
      "id": "23a54b68",
      "metadata": {
        "origin_pos": 36,
        "tab": [
          "pytorch"
        ],
        "id": "23a54b68"
      },
      "source": [
        "[Discussions](https://discuss.d2l.ai/t/43)\n"
      ]
    }
  ],
  "metadata": {
    "kernelspec": {
      "display_name": "Python 3",
      "name": "python3"
    },
    "language_info": {
      "name": "python"
    },
    "colab": {
      "provenance": [],
      "include_colab_link": true
    }
  },
  "nbformat": 4,
  "nbformat_minor": 5
}